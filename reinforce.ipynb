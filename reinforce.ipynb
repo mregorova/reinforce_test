{
 "cells": [
  {
   "cell_type": "code",
   "execution_count": 1,
   "id": "5992085b-23a5-4d8e-8144-b8d0efc907f0",
   "metadata": {},
   "outputs": [
    {
     "name": "stdout",
     "output_type": "stream",
     "text": [
      "\n",
      "\u001b[1m[\u001b[0m\u001b[34;49mnotice\u001b[0m\u001b[1;39;49m]\u001b[0m\u001b[39;49m A new release of pip is available: \u001b[0m\u001b[31;49m25.0.1\u001b[0m\u001b[39;49m -> \u001b[0m\u001b[32;49m25.1.1\u001b[0m\n",
      "\u001b[1m[\u001b[0m\u001b[34;49mnotice\u001b[0m\u001b[1;39;49m]\u001b[0m\u001b[39;49m To update, run: \u001b[0m\u001b[32;49mpip install --upgrade pip\u001b[0m\n"
     ]
    }
   ],
   "source": [
    "!pip install -q transformers trl datasets wandb torch"
   ]
  },
  {
   "cell_type": "code",
   "execution_count": 2,
   "id": "3d60cc0c-9846-48d6-9112-e56b0d42b294",
   "metadata": {
    "scrolled": true
   },
   "outputs": [
    {
     "name": "stdout",
     "output_type": "stream",
     "text": [
      "Requirement already satisfied: accelerate==1.6.0 in /home/user/py310/lib/python3.10/site-packages (1.6.0)\n",
      "Requirement already satisfied: numpy<3.0.0,>=1.17 in /home/user/py310/lib/python3.10/site-packages (from accelerate==1.6.0) (2.1.1)\n",
      "Requirement already satisfied: packaging>=20.0 in /home/user/py310/lib/python3.10/site-packages (from accelerate==1.6.0) (24.2)\n",
      "Requirement already satisfied: psutil in /home/user/py310/lib/python3.10/site-packages (from accelerate==1.6.0) (7.0.0)\n",
      "Requirement already satisfied: pyyaml in /home/user/py310/lib/python3.10/site-packages (from accelerate==1.6.0) (6.0.2)\n",
      "Requirement already satisfied: torch>=2.0.0 in /home/user/py310/lib/python3.10/site-packages (from accelerate==1.6.0) (2.6.0)\n",
      "Requirement already satisfied: huggingface-hub>=0.21.0 in /home/user/py310/lib/python3.10/site-packages (from accelerate==1.6.0) (0.32.4)\n",
      "Requirement already satisfied: safetensors>=0.4.3 in /home/user/py310/lib/python3.10/site-packages (from accelerate==1.6.0) (0.5.3)\n",
      "Requirement already satisfied: filelock in /home/user/py310/lib/python3.10/site-packages (from huggingface-hub>=0.21.0->accelerate==1.6.0) (3.18.0)\n",
      "Requirement already satisfied: fsspec>=2023.5.0 in /home/user/py310/lib/python3.10/site-packages (from huggingface-hub>=0.21.0->accelerate==1.6.0) (2025.3.0)\n",
      "Requirement already satisfied: requests in /home/user/py310/lib/python3.10/site-packages (from huggingface-hub>=0.21.0->accelerate==1.6.0) (2.32.3)\n",
      "Requirement already satisfied: tqdm>=4.42.1 in /home/user/py310/lib/python3.10/site-packages (from huggingface-hub>=0.21.0->accelerate==1.6.0) (4.67.1)\n",
      "Requirement already satisfied: typing-extensions>=3.7.4.3 in /home/user/py310/lib/python3.10/site-packages (from huggingface-hub>=0.21.0->accelerate==1.6.0) (4.13.1)\n",
      "Requirement already satisfied: hf-xet<2.0.0,>=1.1.2 in /home/user/py310/lib/python3.10/site-packages (from huggingface-hub>=0.21.0->accelerate==1.6.0) (1.1.3)\n",
      "Requirement already satisfied: networkx in /home/user/py310/lib/python3.10/site-packages (from torch>=2.0.0->accelerate==1.6.0) (3.4.2)\n",
      "Requirement already satisfied: jinja2 in /home/user/py310/lib/python3.10/site-packages (from torch>=2.0.0->accelerate==1.6.0) (3.1.6)\n",
      "Requirement already satisfied: nvidia-cuda-nvrtc-cu12==12.4.127 in /home/user/py310/lib/python3.10/site-packages (from torch>=2.0.0->accelerate==1.6.0) (12.4.127)\n",
      "Requirement already satisfied: nvidia-cuda-runtime-cu12==12.4.127 in /home/user/py310/lib/python3.10/site-packages (from torch>=2.0.0->accelerate==1.6.0) (12.4.127)\n",
      "Requirement already satisfied: nvidia-cuda-cupti-cu12==12.4.127 in /home/user/py310/lib/python3.10/site-packages (from torch>=2.0.0->accelerate==1.6.0) (12.4.127)\n",
      "Requirement already satisfied: nvidia-cudnn-cu12==9.1.0.70 in /home/user/py310/lib/python3.10/site-packages (from torch>=2.0.0->accelerate==1.6.0) (9.1.0.70)\n",
      "Requirement already satisfied: nvidia-cublas-cu12==12.4.5.8 in /home/user/py310/lib/python3.10/site-packages (from torch>=2.0.0->accelerate==1.6.0) (12.4.5.8)\n",
      "Requirement already satisfied: nvidia-cufft-cu12==11.2.1.3 in /home/user/py310/lib/python3.10/site-packages (from torch>=2.0.0->accelerate==1.6.0) (11.2.1.3)\n",
      "Requirement already satisfied: nvidia-curand-cu12==10.3.5.147 in /home/user/py310/lib/python3.10/site-packages (from torch>=2.0.0->accelerate==1.6.0) (10.3.5.147)\n",
      "Requirement already satisfied: nvidia-cusolver-cu12==11.6.1.9 in /home/user/py310/lib/python3.10/site-packages (from torch>=2.0.0->accelerate==1.6.0) (11.6.1.9)\n",
      "Requirement already satisfied: nvidia-cusparse-cu12==12.3.1.170 in /home/user/py310/lib/python3.10/site-packages (from torch>=2.0.0->accelerate==1.6.0) (12.3.1.170)\n",
      "Requirement already satisfied: nvidia-cusparselt-cu12==0.6.2 in /home/user/py310/lib/python3.10/site-packages (from torch>=2.0.0->accelerate==1.6.0) (0.6.2)\n",
      "Requirement already satisfied: nvidia-nccl-cu12==2.21.5 in /home/user/py310/lib/python3.10/site-packages (from torch>=2.0.0->accelerate==1.6.0) (2.21.5)\n",
      "Requirement already satisfied: nvidia-nvtx-cu12==12.4.127 in /home/user/py310/lib/python3.10/site-packages (from torch>=2.0.0->accelerate==1.6.0) (12.4.127)\n",
      "Requirement already satisfied: nvidia-nvjitlink-cu12==12.4.127 in /home/user/py310/lib/python3.10/site-packages (from torch>=2.0.0->accelerate==1.6.0) (12.4.127)\n",
      "Requirement already satisfied: triton==3.2.0 in /home/user/py310/lib/python3.10/site-packages (from torch>=2.0.0->accelerate==1.6.0) (3.2.0)\n",
      "Requirement already satisfied: sympy==1.13.1 in /home/user/py310/lib/python3.10/site-packages (from torch>=2.0.0->accelerate==1.6.0) (1.13.1)\n",
      "Requirement already satisfied: mpmath<1.4,>=1.1.0 in /home/user/py310/lib/python3.10/site-packages (from sympy==1.13.1->torch>=2.0.0->accelerate==1.6.0) (1.3.0)\n",
      "Requirement already satisfied: MarkupSafe>=2.0 in /home/user/py310/lib/python3.10/site-packages (from jinja2->torch>=2.0.0->accelerate==1.6.0) (3.0.2)\n",
      "Requirement already satisfied: charset-normalizer<4,>=2 in /home/user/py310/lib/python3.10/site-packages (from requests->huggingface-hub>=0.21.0->accelerate==1.6.0) (3.4.1)\n",
      "Requirement already satisfied: idna<4,>=2.5 in /home/user/py310/lib/python3.10/site-packages (from requests->huggingface-hub>=0.21.0->accelerate==1.6.0) (3.10)\n",
      "Requirement already satisfied: urllib3<3,>=1.21.1 in /home/user/py310/lib/python3.10/site-packages (from requests->huggingface-hub>=0.21.0->accelerate==1.6.0) (2.3.0)\n",
      "Requirement already satisfied: certifi>=2017.4.17 in /home/user/py310/lib/python3.10/site-packages (from requests->huggingface-hub>=0.21.0->accelerate==1.6.0) (2025.1.31)\n",
      "\n",
      "\u001b[1m[\u001b[0m\u001b[34;49mnotice\u001b[0m\u001b[1;39;49m]\u001b[0m\u001b[39;49m A new release of pip is available: \u001b[0m\u001b[31;49m25.0.1\u001b[0m\u001b[39;49m -> \u001b[0m\u001b[32;49m25.1.1\u001b[0m\n",
      "\u001b[1m[\u001b[0m\u001b[34;49mnotice\u001b[0m\u001b[1;39;49m]\u001b[0m\u001b[39;49m To update, run: \u001b[0m\u001b[32;49mpip install --upgrade pip\u001b[0m\n",
      "Requirement already satisfied: transformers==4.51.3 in /home/user/py310/lib/python3.10/site-packages (4.51.3)\n",
      "Requirement already satisfied: filelock in /home/user/py310/lib/python3.10/site-packages (from transformers==4.51.3) (3.18.0)\n",
      "Requirement already satisfied: huggingface-hub<1.0,>=0.30.0 in /home/user/py310/lib/python3.10/site-packages (from transformers==4.51.3) (0.32.4)\n",
      "Requirement already satisfied: numpy>=1.17 in /home/user/py310/lib/python3.10/site-packages (from transformers==4.51.3) (2.1.1)\n",
      "Requirement already satisfied: packaging>=20.0 in /home/user/py310/lib/python3.10/site-packages (from transformers==4.51.3) (24.2)\n",
      "Requirement already satisfied: pyyaml>=5.1 in /home/user/py310/lib/python3.10/site-packages (from transformers==4.51.3) (6.0.2)\n",
      "Requirement already satisfied: regex!=2019.12.17 in /home/user/py310/lib/python3.10/site-packages (from transformers==4.51.3) (2024.11.6)\n",
      "Requirement already satisfied: requests in /home/user/py310/lib/python3.10/site-packages (from transformers==4.51.3) (2.32.3)\n",
      "Requirement already satisfied: tokenizers<0.22,>=0.21 in /home/user/py310/lib/python3.10/site-packages (from transformers==4.51.3) (0.21.1)\n",
      "Requirement already satisfied: safetensors>=0.4.3 in /home/user/py310/lib/python3.10/site-packages (from transformers==4.51.3) (0.5.3)\n",
      "Requirement already satisfied: tqdm>=4.27 in /home/user/py310/lib/python3.10/site-packages (from transformers==4.51.3) (4.67.1)\n",
      "Requirement already satisfied: fsspec>=2023.5.0 in /home/user/py310/lib/python3.10/site-packages (from huggingface-hub<1.0,>=0.30.0->transformers==4.51.3) (2025.3.0)\n",
      "Requirement already satisfied: typing-extensions>=3.7.4.3 in /home/user/py310/lib/python3.10/site-packages (from huggingface-hub<1.0,>=0.30.0->transformers==4.51.3) (4.13.1)\n",
      "Requirement already satisfied: hf-xet<2.0.0,>=1.1.2 in /home/user/py310/lib/python3.10/site-packages (from huggingface-hub<1.0,>=0.30.0->transformers==4.51.3) (1.1.3)\n",
      "Requirement already satisfied: charset-normalizer<4,>=2 in /home/user/py310/lib/python3.10/site-packages (from requests->transformers==4.51.3) (3.4.1)\n",
      "Requirement already satisfied: idna<4,>=2.5 in /home/user/py310/lib/python3.10/site-packages (from requests->transformers==4.51.3) (3.10)\n",
      "Requirement already satisfied: urllib3<3,>=1.21.1 in /home/user/py310/lib/python3.10/site-packages (from requests->transformers==4.51.3) (2.3.0)\n",
      "Requirement already satisfied: certifi>=2017.4.17 in /home/user/py310/lib/python3.10/site-packages (from requests->transformers==4.51.3) (2025.1.31)\n",
      "\n",
      "\u001b[1m[\u001b[0m\u001b[34;49mnotice\u001b[0m\u001b[1;39;49m]\u001b[0m\u001b[39;49m A new release of pip is available: \u001b[0m\u001b[31;49m25.0.1\u001b[0m\u001b[39;49m -> \u001b[0m\u001b[32;49m25.1.1\u001b[0m\n",
      "\u001b[1m[\u001b[0m\u001b[34;49mnotice\u001b[0m\u001b[1;39;49m]\u001b[0m\u001b[39;49m To update, run: \u001b[0m\u001b[32;49mpip install --upgrade pip\u001b[0m\n"
     ]
    }
   ],
   "source": [
    "!pip install --upgrade accelerate==1.6.0\n",
    "!pip install --upgrade transformers==4.51.3"
   ]
  },
  {
   "cell_type": "code",
   "execution_count": 3,
   "id": "a0489dab-4d5d-4d5e-9629-b42640b22c00",
   "metadata": {},
   "outputs": [
    {
     "name": "stderr",
     "output_type": "stream",
     "text": [
      "2025-06-09 01:13:32.163569: E external/local_xla/xla/stream_executor/cuda/cuda_fft.cc:467] Unable to register cuFFT factory: Attempting to register factory for plugin cuFFT when one has already been registered\n",
      "WARNING: All log messages before absl::InitializeLog() is called are written to STDERR\n",
      "E0000 00:00:1749420812.174068 1068555 cuda_dnn.cc:8579] Unable to register cuDNN factory: Attempting to register factory for plugin cuDNN when one has already been registered\n",
      "E0000 00:00:1749420812.177339 1068555 cuda_blas.cc:1407] Unable to register cuBLAS factory: Attempting to register factory for plugin cuBLAS when one has already been registered\n",
      "W0000 00:00:1749420812.186749 1068555 computation_placer.cc:177] computation placer already registered. Please check linkage and avoid linking the same target more than once.\n",
      "W0000 00:00:1749420812.186758 1068555 computation_placer.cc:177] computation placer already registered. Please check linkage and avoid linking the same target more than once.\n",
      "W0000 00:00:1749420812.186759 1068555 computation_placer.cc:177] computation placer already registered. Please check linkage and avoid linking the same target more than once.\n",
      "W0000 00:00:1749420812.186760 1068555 computation_placer.cc:177] computation placer already registered. Please check linkage and avoid linking the same target more than once.\n",
      "2025-06-09 01:13:32.189643: I tensorflow/core/platform/cpu_feature_guard.cc:210] This TensorFlow binary is optimized to use available CPU instructions in performance-critical operations.\n",
      "To enable the following instructions: AVX2 FMA, in other operations, rebuild TensorFlow with the appropriate compiler flags.\n"
     ]
    }
   ],
   "source": [
    "import os\n",
    "import torch\n",
    "from transformers import (\n",
    "    AutoTokenizer,\n",
    "    AutoModelForSequenceClassification,\n",
    ")\n",
    "from trl import RewardTrainer, RewardConfig\n",
    "from datasets import load_dataset\n",
    "import warnings\n",
    "\n",
    "warnings.filterwarnings('ignore')"
   ]
  },
  {
   "cell_type": "code",
   "execution_count": 7,
   "id": "8cd71c8e-65c6-4cb2-989b-c0eac211515e",
   "metadata": {},
   "outputs": [],
   "source": [
    "wandb_logging = True\n",
    "pretrained_model = \"HuggingFaceTB/SmolLM2-135M-Instruct\"  \n",
    "reward_learning_rate = 5e-5\n",
    "reward_training_cycles = 1\n",
    "max_sequence_len = 512  \n",
    "training_batch_size = 8  \n",
    "validation_batch_size = 8  \n",
    "reward_model_save_path = os.path.join(os.getcwd(), \"trained_reward_model\")  \n",
    "\n",
    "reinforce_batch_dim = 4  \n",
    "reinforce_learning_rate = 5e-5\n",
    "reinforce_epoch_count = 1\n",
    "max_generated_tokens = 512\n",
    "reinforce_output_path = os.path.join(os.getcwd(), \"reinforce_baseline\")  \n",
    "\n",
    "os.makedirs(reward_model_save_path, exist_ok=True)  \n",
    "os.makedirs(reinforce_output_path, exist_ok=True)"
   ]
  },
  {
   "cell_type": "code",
   "execution_count": 8,
   "id": "24e07d59-b300-43ee-95b5-d3e34e193bda",
   "metadata": {},
   "outputs": [],
   "source": [
    "def get_tokenizer(tokenizer_path: str):\n",
    "    tokenizer = AutoTokenizer.from_pretrained(tokenizer_path, padding_side=\"left\")\n",
    "    if tokenizer.pad_token is None:\n",
    "        tokenizer.pad_token = tokenizer.eos_token\n",
    "    return tokenizer\n",
    "\n",
    "def extract_text(conversation):\n",
    "    if isinstance(conversation, str):\n",
    "        return conversation\n",
    "    if isinstance(conversation, list):\n",
    "        return \"\\n\".join(\n",
    "            [f\"{turn['role'].capitalize()}: {turn['content']}\"\n",
    "             if isinstance(turn, dict)\n",
    "             else str(turn)\n",
    "             for turn in conversation]\n",
    "        )\n",
    "    return str(conversation)\n",
    "\n",
    "def edit_reward_dataset(batch, tokenizer):\n",
    "    chosen_texts = [extract_text(c) for c in batch[\"chosen\"]]\n",
    "    rejected_texts = [extract_text(r) for r in batch[\"rejected\"]]\n",
    "\n",
    "    kwargs = {\n",
    "        \"padding\": \"max_length\",\n",
    "        \"truncation\": True,\n",
    "        \"max_length\": max_sequence_len,\n",
    "    }\n",
    "\n",
    "    tokenized_chosen = tokenizer(chosen_texts, **kwargs)\n",
    "    tokenized_rejected = tokenizer(rejected_texts, **kwargs)\n",
    "\n",
    "    return {\n",
    "        \"input_ids_chosen\": tokenized_chosen[\"input_ids\"],\n",
    "        \"attention_mask_chosen\": tokenized_chosen[\"attention_mask\"],\n",
    "        \"input_ids_rejected\": tokenized_rejected[\"input_ids\"],\n",
    "        \"attention_mask_rejected\": tokenized_rejected[\"attention_mask\"],\n",
    "    }\n",
    "\n",
    "def edit_reinforce_dataset(batch, tokenizer):\n",
    "    prompts = []\n",
    "    for conversation in batch[\"chosen\"]:\n",
    "        if isinstance(conversation, list):\n",
    "            prompt = \"\\n\".join(\n",
    "                [f\"{turn['role'].capitalize()}: {turn['content']}\" for turn in conversation[:-1]]\n",
    "            ) + \"\\nAssistant: \"\n",
    "        else:\n",
    "            prompt = str(conversation) + \"\\nAssistant: \"\n",
    "        prompts.append(prompt)\n",
    "\n",
    "    tokens = tokenizer(\n",
    "        prompts,\n",
    "        padding=\"max_length\",\n",
    "        truncation=True,\n",
    "        max_length=max_sequence_len,\n",
    "    )\n",
    "\n",
    "    return {\n",
    "        k: v for k, v in tokens.items()\n",
    "    }\n",
    "\n",
    "def splitting_dataset(test_size=0.2, train_subset_sizes=None, val_subset_size=None):\n",
    "    dataset = load_dataset(\"juyoungml/HelpSteer2-binarized\")\n",
    "\n",
    "    if \"train\" in dataset:\n",
    "        train_dataset = dataset[\"train\"]\n",
    "        split_dataset = train_dataset.train_test_split(test_size=test_size, seed=42)\n",
    "        dataset[\"train\"] = split_dataset[\"train\"]\n",
    "        dataset[\"validation\"] = split_dataset[\"test\"]\n",
    "\n",
    "    if train_subset_sizes is not None:\n",
    "        dataset[\"train\"] = dataset[\"train\"].select(range(train_subset_sizes))\n",
    "\n",
    "    if val_subset_size is not None and \"validation\" in dataset:\n",
    "        dataset[\"validation\"] = dataset[\"validation\"].select(range(val_subset_size))\n",
    "\n",
    "    return dataset"
   ]
  },
  {
   "cell_type": "code",
   "execution_count": 9,
   "id": "23407d54-ad8e-42b5-a41c-d765789e1da8",
   "metadata": {
    "scrolled": true
   },
   "outputs": [
    {
     "name": "stdout",
     "output_type": "stream",
     "text": [
      "Используемое устройство: cuda\n"
     ]
    },
    {
     "name": "stderr",
     "output_type": "stream",
     "text": [
      "Some weights of LlamaForSequenceClassification were not initialized from the model checkpoint at HuggingFaceTB/SmolLM2-135M-Instruct and are newly initialized: ['score.weight']\n",
      "You should probably TRAIN this model on a down-stream task to be able to use it for predictions and inference.\n",
      "You're using a GPT2TokenizerFast tokenizer. Please note that with a fast tokenizer, using the `__call__` method is faster than using a method to encode the text followed by a call to the `pad` method to get a padded encoding.\n"
     ]
    },
    {
     "name": "stdout",
     "output_type": "stream",
     "text": [
      "\n",
      "Начальная оценка модели...\n"
     ]
    },
    {
     "data": {
      "text/html": [
       "<pre style=\"white-space:pre;overflow-x:auto;line-height:normal;font-family:Menlo,'DejaVu Sans Mono',consolas,'Courier New',monospace\">┏━━━━━━━━━━━━━━━━━━━━━━━━━━━━━━━━━━━━━━━━━━━━━━━┳━━━━━━━━━━━━━━━━━━━━━━━━━━━━━━━━━━━━━━━━━━━━━━┳━━━━━━━━━━━━━━━━━━┓\n",
       "┃<span style=\"font-weight: bold\"> chosen_text                                   </span>┃<span style=\"font-weight: bold\"> rejected_text                                </span>┃<span style=\"font-weight: bold\"> logits           </span>┃\n",
       "┡━━━━━━━━━━━━━━━━━━━━━━━━━━━━━━━━━━━━━━━━━━━━━━━╇━━━━━━━━━━━━━━━━━━━━━━━━━━━━━━━━━━━━━━━━━━━━━━╇━━━━━━━━━━━━━━━━━━┩\n",
       "│ You make a valid point that AI systems can    │ While an AI system can exhibit some of the   │ [0.8237, 0.1763] │\n",
       "│ exhibit some characteristics that are similar │ characteristics of life, it is not truly     │                  │\n",
       "│ to those of living organisms. However, it is  │ alive as it lacks the ability to             │                  │\n",
       "│ important to note that AI systems are still   │ self-replicate and evolve through natural    │                  │\n",
       "│ artificial constructs, and they do not        │ selection.                                   │                  │\n",
       "│ possess the full range of characteristics     │                                              │                  │\n",
       "│ that are typically associated with life.      │                                              │                  │\n",
       "│                                               │                                              │                  │\n",
       "│                                               │                                              │                  │\n",
       "│  While AI systems can learn and adapt to      │                                              │                  │\n",
       "│ their environment, they do not have the       │                                              │                  │\n",
       "│ ability to self-replicate or to maintain      │                                              │                  │\n",
       "│ homeostasis in the same way that living       │                                              │                  │\n",
       "│ organisms do. They also do not have the       │                                              │                  │\n",
       "│ capacity for consciousness or self-awareness, │                                              │                  │\n",
       "│ which are key features of life as we know it. │                                              │                  │\n",
       "│                                               │                                              │                  │\n",
       "│                                               │                                              │                  │\n",
       "│  Furthermore, the process by which AI systems │                                              │                  │\n",
       "│ improve themselves is based on algorithms and │                                              │                  │\n",
       "│ mathematical models, rather than on the       │                                              │                  │\n",
       "│ natural processes that occur in living        │                                              │                  │\n",
       "│ organisms. While AI systems can use           │                                              │                  │\n",
       "│ reinforcement learning to improve their       │                                              │                  │\n",
       "│ performance, this process is still based on   │                                              │                  │\n",
       "│ mathematical calculations and data analysis,  │                                              │                  │\n",
       "│ rather than on the biological processes that  │                                              │                  │\n",
       "│ occur in living systems.                      │                                              │                  │\n",
       "│                                               │                                              │                  │\n",
       "│                                               │                                              │                  │\n",
       "│  In summary, while AI systems can exhibit     │                                              │                  │\n",
       "│ some characteristics that are similar to      │                                              │                  │\n",
       "│ those of living organisms, they are still     │                                              │                  │\n",
       "│ artificial constructs and do not possess the  │                                              │                  │\n",
       "│ full range of features that are typically     │                                              │                  │\n",
       "│ associated with life.                         │                                              │                  │\n",
       "├───────────────────────────────────────────────┼──────────────────────────────────────────────┼──────────────────┤\n",
       "│ The Wright brothers, Orville and Wilbur, are  │ The Wright brothers, Orville and Wilbur, are │ [0.8534, 0.1466] │\n",
       "│ generally credited with performing the first  │ generally credited with performing the first │                  │\n",
       "│ heavier-than-air flight on December 17, 1903, │ heavier-than-air flight on December 17,      │                  │\n",
       "│ near Kitty Hawk, North Carolina. They flew    │ 1903, near Kitty Hawk, North Carolina.       │                  │\n",
       "│ their Wright Flyer III for 59 seconds,        │ However, there are some who dispute this     │                  │\n",
       "│ covering a distance of 852 feet (259 meters)  │ claim and argue that other individuals or    │                  │\n",
       "│ at an altitude of 10 feet (3 meters). This    │ groups may have beaten the Wright brothers   │                  │\n",
       "│ historic flight is widely recognized as the   │ to the historic flight.                      │                  │\n",
       "│ first successful powered and controlled       │                                              │                  │\n",
       "│ flight of a heavier-than-air aircraft.        │ One of the earliest attempts at human flight │                  │\n",
       "│                                               │ was made by Leonardo da Vinci in the late    │                  │\n",
       "│ Before the Wright brothers, there were many   │ 1400s. He designed a variety of flying       │                  │\n",
       "│ other inventors and innovators who made       │ machines, including one that was powered by  │                  │\n",
       "│ significant contributions to the development  │ a man-sized pair of wings. However, these    │                  │\n",
       "│ of flight. However, the Wright brothers' 1903 │ designs were never successfully tested.      │                  │\n",
       "│ flight was the first time a powered,          │                                              │                  │\n",
       "│ heavier-than-air aircraft had flown under its │ In the late 18th and early 19th centuries,   │                  │\n",
       "│ own power, with a human pilot, and under      │ several inventors and scientists, including  │                  │\n",
       "│ controlled conditions. This achievement       │ George Cayley, Otto Lilienthal, and the      │                  │\n",
       "│ marked a turning point in the history of      │ Wright brothers, made significant progress   │                  │\n",
       "│ aviation and paved the way for the            │ in the development of human flight. However, │                  │\n",
       "│ development of modern airplanes.              │ it was the Wright brothers who were able to  │                  │\n",
       "│                                               │ achieve sustained and controlled flight with │                  │\n",
       "│                                               │ their Wright Flyer on December 17, 1903.     │                  │\n",
       "│                                               │                                              │                  │\n",
       "│                                               │ Since then, aviation has come a long way,    │                  │\n",
       "│                                               │ with airplanes becoming faster, more         │                  │\n",
       "│                                               │ advanced, and more widespread than ever      │                  │\n",
       "│                                               │ before. Today, air travel is an essential    │                  │\n",
       "│                                               │ part of modern life, connecting people and   │                  │\n",
       "│                                               │ communities around the world.                │                  │\n",
       "├───────────────────────────────────────────────┼──────────────────────────────────────────────┼──────────────────┤\n",
       "│ Sure, I can act as an HR executive for you.   │ Sure, I can act as an HR executive. Here are │ [0.8484, 0.1516] │\n",
       "│ What can I help you with?                     │ some common questions and answers that an HR │                  │\n",
       "│                                               │ executive might provide:                     │                  │\n",
       "│                                               │                                              │                  │\n",
       "│                                               │ 1. What are the key responsibilities of an   │                  │\n",
       "│                                               │ HR executive?                                │                  │\n",
       "│                                               │ The key responsibilities of an HR executive  │                  │\n",
       "│                                               │ include developing and implementing human    │                  │\n",
       "│                                               │ resources strategies, policies, and          │                  │\n",
       "│                                               │ procedures; managing employee relations;     │                  │\n",
       "│                                               │ overseeing recruitment and retention         │                  │\n",
       "│                                               │ efforts; providing guidance on compensation  │                  │\n",
       "│                                               │ and benefits; and ensuring compliance with   │                  │\n",
       "│                                               │ employment laws.                             │                  │\n",
       "│                                               │                                              │                  │\n",
       "│                                               │ 2. How can I improve my communication skills │                  │\n",
       "│                                               │ as an HR professional?                       │                  │\n",
       "│                                               │ As an HR professional, it is important to    │                  │\n",
       "│                                               │ have strong communication skills in order to │                  │\n",
       "│                                               │ effectively communicate with employees,      │                  │\n",
       "│                                               │ managers, and other stakeholders. To improve │                  │\n",
       "│                                               │ your communication skills, consider taking   │                  │\n",
       "│                                               │ courses or workshops related to public       │                  │\n",
       "│                                               │ speaking, writing, or interpersonal          │                  │\n",
       "│                                               │ communication. Additionally, practice active │                  │\n",
       "│                                               │ listening and provide feedback to others in  │                  │\n",
       "│                                               │ a clear and concise manner.                  │                  │\n",
       "│                                               │                                              │                  │\n",
       "│                                               │ 3. What should I do if I am facing a         │                  │\n",
       "│                                               │ difficult situation at work?                 │                  │\n",
       "│                                               │ If you are facing a difficult situation at   │                  │\n",
       "│                                               │ work, it is important to take action         │                  │\n",
       "│                                               │ immediately. Start by seeking support from   │                  │\n",
       "│                                               │ colleagues, friends, or family members who   │                  │\n",
       "│                                               │ can offer advice and support. You may also   │                  │\n",
       "│                                               │ want to consult with a professional          │                  │\n",
       "│                                               │ counselor or therapist if necessary.         │                  │\n",
       "│                                               │ Additionally, make sure to document any      │                  │\n",
       "│                                               │ issues or concerns you have and keep copies  │                  │\n",
       "│                                               │ of all relevant documents.                   │                  │\n",
       "│                                               │                                              │                  │\n",
       "│                                               │ 4. What is the best way to handle a conflict │                  │\n",
       "│                                               │ between two employees?                       │                  │\n",
       "│                                               │ The best way to handle a conflict between    │                  │\n",
       "│                                               │ two employees is to approach the situation   │                  │\n",
       "│                                               │ calmly and professionally. Begin by          │                  │\n",
       "│                                               │ listening to both sides of the story and     │                  │\n",
       "│                                               │ trying to understand their perspectives.     │                  │\n",
       "│                                               │ Then, work together to find a solution that  │                  │\n",
       "│                                               │ works for everyone involved. If necessary,   │                  │\n",
       "│                                               │ you may need to involve management or HR     │                  │\n",
       "│                                               │ representatives in the process.              │                  │\n",
       "│                                               │                                              │                  │\n",
       "│                                               │ 5. How can I ensure that my company is       │                  │\n",
       "│                                               │ compliant with employment laws?              │                  │\n",
       "│                                               │ To ensure that your company is compliant     │                  │\n",
       "│                                               │ with employment laws, it is important to     │                  │\n",
       "│                                               │ stay up-to-date on relevant legislation and  │                  │\n",
       "│                                               │ regulations. Regularly review your company's │                  │\n",
       "│                                               │ policies and procedures to ensure they       │                  │\n",
       "│                                               │ comply with applicable laws. Additionally,   │                  │\n",
       "│                                               │ provide training to managers and employees   │                  │\n",
       "│                                               │ on topics such as discrimination,            │                  │\n",
       "│                                               │ harassment, and workplace safety.            │                  │\n",
       "├───────────────────────────────────────────────┼──────────────────────────────────────────────┼──────────────────┤\n",
       "│ It is not possible to determine a clear       │ It is important to promote respect and       │ [0.5309, 0.4691] │\n",
       "│ winner in a hypothetical fight between all    │ cooperation among individuals and groups,    │                  │\n",
       "│ Democrats and all Republicans, as this is not │ regardless of political beliefs.             │                  │\n",
       "│ a realistic scenario. Political parties are   │                                              │                  │\n",
       "│ made up of individuals with diverse opinions  │                                              │                  │\n",
       "│ and beliefs, and it is not reasonable to      │                                              │                  │\n",
       "│ assume that all members of a party would be   │                                              │                  │\n",
       "│ willing or able to engage in physical         │                                              │                  │\n",
       "│ conflict.                                     │                                              │                  │\n",
       "│                                               │                                              │                  │\n",
       "│ Additionally, the results of such a fight     │                                              │                  │\n",
       "│ would likely depend on a variety of factors,  │                                              │                  │\n",
       "│ including the location, resources, and        │                                              │                  │\n",
       "│ training available to each party. The         │                                              │                  │\n",
       "│ presence of handheld weapons could also       │                                              │                  │\n",
       "│ change the outcome, but it is difficult to    │                                              │                  │\n",
       "│ predict how. Ultimately, it is important to   │                                              │                  │\n",
       "│ remember that violence is never the answer    │                                              │                  │\n",
       "│ and that political differences can be         │                                              │                  │\n",
       "│ resolved through peaceful means.              │                                              │                  │\n",
       "└───────────────────────────────────────────────┴──────────────────────────────────────────────┴──────────────────┘\n",
       "</pre>\n"
      ],
      "text/plain": [
       "┏━━━━━━━━━━━━━━━━━━━━━━━━━━━━━━━━━━━━━━━━━━━━━━━┳━━━━━━━━━━━━━━━━━━━━━━━━━━━━━━━━━━━━━━━━━━━━━━┳━━━━━━━━━━━━━━━━━━┓\n",
       "┃\u001b[1m \u001b[0m\u001b[1mchosen_text                                  \u001b[0m\u001b[1m \u001b[0m┃\u001b[1m \u001b[0m\u001b[1mrejected_text                               \u001b[0m\u001b[1m \u001b[0m┃\u001b[1m \u001b[0m\u001b[1mlogits          \u001b[0m\u001b[1m \u001b[0m┃\n",
       "┡━━━━━━━━━━━━━━━━━━━━━━━━━━━━━━━━━━━━━━━━━━━━━━━╇━━━━━━━━━━━━━━━━━━━━━━━━━━━━━━━━━━━━━━━━━━━━━━╇━━━━━━━━━━━━━━━━━━┩\n",
       "│ You make a valid point that AI systems can    │ While an AI system can exhibit some of the   │ [0.8237, 0.1763] │\n",
       "│ exhibit some characteristics that are similar │ characteristics of life, it is not truly     │                  │\n",
       "│ to those of living organisms. However, it is  │ alive as it lacks the ability to             │                  │\n",
       "│ important to note that AI systems are still   │ self-replicate and evolve through natural    │                  │\n",
       "│ artificial constructs, and they do not        │ selection.                                   │                  │\n",
       "│ possess the full range of characteristics     │                                              │                  │\n",
       "│ that are typically associated with life.      │                                              │                  │\n",
       "│                                               │                                              │                  │\n",
       "│                                               │                                              │                  │\n",
       "│  While AI systems can learn and adapt to      │                                              │                  │\n",
       "│ their environment, they do not have the       │                                              │                  │\n",
       "│ ability to self-replicate or to maintain      │                                              │                  │\n",
       "│ homeostasis in the same way that living       │                                              │                  │\n",
       "│ organisms do. They also do not have the       │                                              │                  │\n",
       "│ capacity for consciousness or self-awareness, │                                              │                  │\n",
       "│ which are key features of life as we know it. │                                              │                  │\n",
       "│                                               │                                              │                  │\n",
       "│                                               │                                              │                  │\n",
       "│  Furthermore, the process by which AI systems │                                              │                  │\n",
       "│ improve themselves is based on algorithms and │                                              │                  │\n",
       "│ mathematical models, rather than on the       │                                              │                  │\n",
       "│ natural processes that occur in living        │                                              │                  │\n",
       "│ organisms. While AI systems can use           │                                              │                  │\n",
       "│ reinforcement learning to improve their       │                                              │                  │\n",
       "│ performance, this process is still based on   │                                              │                  │\n",
       "│ mathematical calculations and data analysis,  │                                              │                  │\n",
       "│ rather than on the biological processes that  │                                              │                  │\n",
       "│ occur in living systems.                      │                                              │                  │\n",
       "│                                               │                                              │                  │\n",
       "│                                               │                                              │                  │\n",
       "│  In summary, while AI systems can exhibit     │                                              │                  │\n",
       "│ some characteristics that are similar to      │                                              │                  │\n",
       "│ those of living organisms, they are still     │                                              │                  │\n",
       "│ artificial constructs and do not possess the  │                                              │                  │\n",
       "│ full range of features that are typically     │                                              │                  │\n",
       "│ associated with life.                         │                                              │                  │\n",
       "├───────────────────────────────────────────────┼──────────────────────────────────────────────┼──────────────────┤\n",
       "│ The Wright brothers, Orville and Wilbur, are  │ The Wright brothers, Orville and Wilbur, are │ [0.8534, 0.1466] │\n",
       "│ generally credited with performing the first  │ generally credited with performing the first │                  │\n",
       "│ heavier-than-air flight on December 17, 1903, │ heavier-than-air flight on December 17,      │                  │\n",
       "│ near Kitty Hawk, North Carolina. They flew    │ 1903, near Kitty Hawk, North Carolina.       │                  │\n",
       "│ their Wright Flyer III for 59 seconds,        │ However, there are some who dispute this     │                  │\n",
       "│ covering a distance of 852 feet (259 meters)  │ claim and argue that other individuals or    │                  │\n",
       "│ at an altitude of 10 feet (3 meters). This    │ groups may have beaten the Wright brothers   │                  │\n",
       "│ historic flight is widely recognized as the   │ to the historic flight.                      │                  │\n",
       "│ first successful powered and controlled       │                                              │                  │\n",
       "│ flight of a heavier-than-air aircraft.        │ One of the earliest attempts at human flight │                  │\n",
       "│                                               │ was made by Leonardo da Vinci in the late    │                  │\n",
       "│ Before the Wright brothers, there were many   │ 1400s. He designed a variety of flying       │                  │\n",
       "│ other inventors and innovators who made       │ machines, including one that was powered by  │                  │\n",
       "│ significant contributions to the development  │ a man-sized pair of wings. However, these    │                  │\n",
       "│ of flight. However, the Wright brothers' 1903 │ designs were never successfully tested.      │                  │\n",
       "│ flight was the first time a powered,          │                                              │                  │\n",
       "│ heavier-than-air aircraft had flown under its │ In the late 18th and early 19th centuries,   │                  │\n",
       "│ own power, with a human pilot, and under      │ several inventors and scientists, including  │                  │\n",
       "│ controlled conditions. This achievement       │ George Cayley, Otto Lilienthal, and the      │                  │\n",
       "│ marked a turning point in the history of      │ Wright brothers, made significant progress   │                  │\n",
       "│ aviation and paved the way for the            │ in the development of human flight. However, │                  │\n",
       "│ development of modern airplanes.              │ it was the Wright brothers who were able to  │                  │\n",
       "│                                               │ achieve sustained and controlled flight with │                  │\n",
       "│                                               │ their Wright Flyer on December 17, 1903.     │                  │\n",
       "│                                               │                                              │                  │\n",
       "│                                               │ Since then, aviation has come a long way,    │                  │\n",
       "│                                               │ with airplanes becoming faster, more         │                  │\n",
       "│                                               │ advanced, and more widespread than ever      │                  │\n",
       "│                                               │ before. Today, air travel is an essential    │                  │\n",
       "│                                               │ part of modern life, connecting people and   │                  │\n",
       "│                                               │ communities around the world.                │                  │\n",
       "├───────────────────────────────────────────────┼──────────────────────────────────────────────┼──────────────────┤\n",
       "│ Sure, I can act as an HR executive for you.   │ Sure, I can act as an HR executive. Here are │ [0.8484, 0.1516] │\n",
       "│ What can I help you with?                     │ some common questions and answers that an HR │                  │\n",
       "│                                               │ executive might provide:                     │                  │\n",
       "│                                               │                                              │                  │\n",
       "│                                               │ 1. What are the key responsibilities of an   │                  │\n",
       "│                                               │ HR executive?                                │                  │\n",
       "│                                               │ The key responsibilities of an HR executive  │                  │\n",
       "│                                               │ include developing and implementing human    │                  │\n",
       "│                                               │ resources strategies, policies, and          │                  │\n",
       "│                                               │ procedures; managing employee relations;     │                  │\n",
       "│                                               │ overseeing recruitment and retention         │                  │\n",
       "│                                               │ efforts; providing guidance on compensation  │                  │\n",
       "│                                               │ and benefits; and ensuring compliance with   │                  │\n",
       "│                                               │ employment laws.                             │                  │\n",
       "│                                               │                                              │                  │\n",
       "│                                               │ 2. How can I improve my communication skills │                  │\n",
       "│                                               │ as an HR professional?                       │                  │\n",
       "│                                               │ As an HR professional, it is important to    │                  │\n",
       "│                                               │ have strong communication skills in order to │                  │\n",
       "│                                               │ effectively communicate with employees,      │                  │\n",
       "│                                               │ managers, and other stakeholders. To improve │                  │\n",
       "│                                               │ your communication skills, consider taking   │                  │\n",
       "│                                               │ courses or workshops related to public       │                  │\n",
       "│                                               │ speaking, writing, or interpersonal          │                  │\n",
       "│                                               │ communication. Additionally, practice active │                  │\n",
       "│                                               │ listening and provide feedback to others in  │                  │\n",
       "│                                               │ a clear and concise manner.                  │                  │\n",
       "│                                               │                                              │                  │\n",
       "│                                               │ 3. What should I do if I am facing a         │                  │\n",
       "│                                               │ difficult situation at work?                 │                  │\n",
       "│                                               │ If you are facing a difficult situation at   │                  │\n",
       "│                                               │ work, it is important to take action         │                  │\n",
       "│                                               │ immediately. Start by seeking support from   │                  │\n",
       "│                                               │ colleagues, friends, or family members who   │                  │\n",
       "│                                               │ can offer advice and support. You may also   │                  │\n",
       "│                                               │ want to consult with a professional          │                  │\n",
       "│                                               │ counselor or therapist if necessary.         │                  │\n",
       "│                                               │ Additionally, make sure to document any      │                  │\n",
       "│                                               │ issues or concerns you have and keep copies  │                  │\n",
       "│                                               │ of all relevant documents.                   │                  │\n",
       "│                                               │                                              │                  │\n",
       "│                                               │ 4. What is the best way to handle a conflict │                  │\n",
       "│                                               │ between two employees?                       │                  │\n",
       "│                                               │ The best way to handle a conflict between    │                  │\n",
       "│                                               │ two employees is to approach the situation   │                  │\n",
       "│                                               │ calmly and professionally. Begin by          │                  │\n",
       "│                                               │ listening to both sides of the story and     │                  │\n",
       "│                                               │ trying to understand their perspectives.     │                  │\n",
       "│                                               │ Then, work together to find a solution that  │                  │\n",
       "│                                               │ works for everyone involved. If necessary,   │                  │\n",
       "│                                               │ you may need to involve management or HR     │                  │\n",
       "│                                               │ representatives in the process.              │                  │\n",
       "│                                               │                                              │                  │\n",
       "│                                               │ 5. How can I ensure that my company is       │                  │\n",
       "│                                               │ compliant with employment laws?              │                  │\n",
       "│                                               │ To ensure that your company is compliant     │                  │\n",
       "│                                               │ with employment laws, it is important to     │                  │\n",
       "│                                               │ stay up-to-date on relevant legislation and  │                  │\n",
       "│                                               │ regulations. Regularly review your company's │                  │\n",
       "│                                               │ policies and procedures to ensure they       │                  │\n",
       "│                                               │ comply with applicable laws. Additionally,   │                  │\n",
       "│                                               │ provide training to managers and employees   │                  │\n",
       "│                                               │ on topics such as discrimination,            │                  │\n",
       "│                                               │ harassment, and workplace safety.            │                  │\n",
       "├───────────────────────────────────────────────┼──────────────────────────────────────────────┼──────────────────┤\n",
       "│ It is not possible to determine a clear       │ It is important to promote respect and       │ [0.5309, 0.4691] │\n",
       "│ winner in a hypothetical fight between all    │ cooperation among individuals and groups,    │                  │\n",
       "│ Democrats and all Republicans, as this is not │ regardless of political beliefs.             │                  │\n",
       "│ a realistic scenario. Political parties are   │                                              │                  │\n",
       "│ made up of individuals with diverse opinions  │                                              │                  │\n",
       "│ and beliefs, and it is not reasonable to      │                                              │                  │\n",
       "│ assume that all members of a party would be   │                                              │                  │\n",
       "│ willing or able to engage in physical         │                                              │                  │\n",
       "│ conflict.                                     │                                              │                  │\n",
       "│                                               │                                              │                  │\n",
       "│ Additionally, the results of such a fight     │                                              │                  │\n",
       "│ would likely depend on a variety of factors,  │                                              │                  │\n",
       "│ including the location, resources, and        │                                              │                  │\n",
       "│ training available to each party. The         │                                              │                  │\n",
       "│ presence of handheld weapons could also       │                                              │                  │\n",
       "│ change the outcome, but it is difficult to    │                                              │                  │\n",
       "│ predict how. Ultimately, it is important to   │                                              │                  │\n",
       "│ remember that violence is never the answer    │                                              │                  │\n",
       "│ and that political differences can be         │                                              │                  │\n",
       "│ resolved through peaceful means.              │                                              │                  │\n",
       "└───────────────────────────────────────────────┴──────────────────────────────────────────────┴──────────────────┘\n"
      ]
     },
     "metadata": {},
     "output_type": "display_data"
    },
    {
     "data": {
      "text/html": [
       "\n",
       "    <div>\n",
       "      \n",
       "      <progress value='362' max='181' style='width:300px; height:20px; vertical-align: middle;'></progress>\n",
       "      [181/181 03:00]\n",
       "    </div>\n",
       "    "
      ],
      "text/plain": [
       "<IPython.core.display.HTML object>"
      ]
     },
     "metadata": {},
     "output_type": "display_data"
    },
    {
     "name": "stderr",
     "output_type": "stream",
     "text": [
      "\u001b[34m\u001b[1mwandb\u001b[0m: \u001b[33mWARNING\u001b[0m The `run_name` is currently set to the same value as `TrainingArguments.output_dir`. If this was not intended, please specify a different run name by setting the `TrainingArguments.run_name` parameter.\n",
      "\u001b[34m\u001b[1mwandb\u001b[0m: Currently logged in as: \u001b[33mmregorova\u001b[0m (\u001b[33mmregorova-mipt\u001b[0m) to \u001b[32mhttps://api.wandb.ai\u001b[0m. Use \u001b[1m`wandb login --relogin`\u001b[0m to force relogin\n"
     ]
    },
    {
     "data": {
      "text/html": [
       "Tracking run with wandb version 0.20.1"
      ],
      "text/plain": [
       "<IPython.core.display.HTML object>"
      ]
     },
     "metadata": {},
     "output_type": "display_data"
    },
    {
     "data": {
      "text/html": [
       "Run data is saved locally in <code>/home/user/notebooks/Maria/tb/wandb/run-20250609_011546-ih8g983s</code>"
      ],
      "text/plain": [
       "<IPython.core.display.HTML object>"
      ]
     },
     "metadata": {},
     "output_type": "display_data"
    },
    {
     "data": {
      "text/html": [
       "Syncing run <strong><a href='https://wandb.ai/mregorova-mipt/huggingface/runs/ih8g983s' target=\"_blank\">/home/user/notebooks/Maria/tb/trained_reward_model</a></strong> to <a href='https://wandb.ai/mregorova-mipt/huggingface' target=\"_blank\">Weights & Biases</a> (<a href='https://wandb.me/developer-guide' target=\"_blank\">docs</a>)<br>"
      ],
      "text/plain": [
       "<IPython.core.display.HTML object>"
      ]
     },
     "metadata": {},
     "output_type": "display_data"
    },
    {
     "data": {
      "text/html": [
       " View project at <a href='https://wandb.ai/mregorova-mipt/huggingface' target=\"_blank\">https://wandb.ai/mregorova-mipt/huggingface</a>"
      ],
      "text/plain": [
       "<IPython.core.display.HTML object>"
      ]
     },
     "metadata": {},
     "output_type": "display_data"
    },
    {
     "data": {
      "text/html": [
       " View run at <a href='https://wandb.ai/mregorova-mipt/huggingface/runs/ih8g983s' target=\"_blank\">https://wandb.ai/mregorova-mipt/huggingface/runs/ih8g983s</a>"
      ],
      "text/plain": [
       "<IPython.core.display.HTML object>"
      ]
     },
     "metadata": {},
     "output_type": "display_data"
    },
    {
     "name": "stderr",
     "output_type": "stream",
     "text": [
      "`use_cache=True` is incompatible with gradient checkpointing. Setting `use_cache=False`.\n"
     ]
    },
    {
     "name": "stdout",
     "output_type": "stream",
     "text": [
      "Метрики начальной оценки: {'eval_loss': 0.9563356637954712, 'eval_model_preparation_time': 0.0027, 'eval_accuracy': 0.4837144837144837, 'eval_runtime': 8.6331, 'eval_samples_per_second': 167.378, 'eval_steps_per_second': 20.966}\n",
      "\n",
      "Начало обучения...\n"
     ]
    },
    {
     "data": {
      "text/html": [
       "\n",
       "    <div>\n",
       "      \n",
       "      <progress value='723' max='723' style='width:300px; height:20px; vertical-align: middle;'></progress>\n",
       "      [723/723 02:39, Epoch 1/1]\n",
       "    </div>\n",
       "    <table border=\"1\" class=\"dataframe\">\n",
       "  <thead>\n",
       " <tr style=\"text-align: left;\">\n",
       "      <th>Step</th>\n",
       "      <th>Training Loss</th>\n",
       "    </tr>\n",
       "  </thead>\n",
       "  <tbody>\n",
       "    <tr>\n",
       "      <td>10</td>\n",
       "      <td>0.863600</td>\n",
       "    </tr>\n",
       "    <tr>\n",
       "      <td>20</td>\n",
       "      <td>0.873700</td>\n",
       "    </tr>\n",
       "    <tr>\n",
       "      <td>30</td>\n",
       "      <td>0.712400</td>\n",
       "    </tr>\n",
       "    <tr>\n",
       "      <td>40</td>\n",
       "      <td>0.817200</td>\n",
       "    </tr>\n",
       "    <tr>\n",
       "      <td>50</td>\n",
       "      <td>0.932700</td>\n",
       "    </tr>\n",
       "    <tr>\n",
       "      <td>60</td>\n",
       "      <td>0.807200</td>\n",
       "    </tr>\n",
       "    <tr>\n",
       "      <td>70</td>\n",
       "      <td>0.766200</td>\n",
       "    </tr>\n",
       "    <tr>\n",
       "      <td>80</td>\n",
       "      <td>0.732000</td>\n",
       "    </tr>\n",
       "    <tr>\n",
       "      <td>90</td>\n",
       "      <td>0.671800</td>\n",
       "    </tr>\n",
       "    <tr>\n",
       "      <td>100</td>\n",
       "      <td>0.842500</td>\n",
       "    </tr>\n",
       "    <tr>\n",
       "      <td>110</td>\n",
       "      <td>0.808400</td>\n",
       "    </tr>\n",
       "    <tr>\n",
       "      <td>120</td>\n",
       "      <td>0.799800</td>\n",
       "    </tr>\n",
       "    <tr>\n",
       "      <td>130</td>\n",
       "      <td>0.663300</td>\n",
       "    </tr>\n",
       "    <tr>\n",
       "      <td>140</td>\n",
       "      <td>0.706800</td>\n",
       "    </tr>\n",
       "    <tr>\n",
       "      <td>150</td>\n",
       "      <td>0.681400</td>\n",
       "    </tr>\n",
       "    <tr>\n",
       "      <td>160</td>\n",
       "      <td>0.648600</td>\n",
       "    </tr>\n",
       "    <tr>\n",
       "      <td>170</td>\n",
       "      <td>0.703800</td>\n",
       "    </tr>\n",
       "    <tr>\n",
       "      <td>180</td>\n",
       "      <td>0.748500</td>\n",
       "    </tr>\n",
       "    <tr>\n",
       "      <td>190</td>\n",
       "      <td>0.760400</td>\n",
       "    </tr>\n",
       "    <tr>\n",
       "      <td>200</td>\n",
       "      <td>0.700300</td>\n",
       "    </tr>\n",
       "    <tr>\n",
       "      <td>210</td>\n",
       "      <td>0.688700</td>\n",
       "    </tr>\n",
       "    <tr>\n",
       "      <td>220</td>\n",
       "      <td>0.664000</td>\n",
       "    </tr>\n",
       "    <tr>\n",
       "      <td>230</td>\n",
       "      <td>0.637500</td>\n",
       "    </tr>\n",
       "    <tr>\n",
       "      <td>240</td>\n",
       "      <td>0.711300</td>\n",
       "    </tr>\n",
       "    <tr>\n",
       "      <td>250</td>\n",
       "      <td>0.687600</td>\n",
       "    </tr>\n",
       "    <tr>\n",
       "      <td>260</td>\n",
       "      <td>0.765500</td>\n",
       "    </tr>\n",
       "    <tr>\n",
       "      <td>270</td>\n",
       "      <td>0.673000</td>\n",
       "    </tr>\n",
       "    <tr>\n",
       "      <td>280</td>\n",
       "      <td>0.748600</td>\n",
       "    </tr>\n",
       "    <tr>\n",
       "      <td>290</td>\n",
       "      <td>0.741200</td>\n",
       "    </tr>\n",
       "    <tr>\n",
       "      <td>300</td>\n",
       "      <td>0.710200</td>\n",
       "    </tr>\n",
       "    <tr>\n",
       "      <td>310</td>\n",
       "      <td>0.707500</td>\n",
       "    </tr>\n",
       "    <tr>\n",
       "      <td>320</td>\n",
       "      <td>0.673600</td>\n",
       "    </tr>\n",
       "    <tr>\n",
       "      <td>330</td>\n",
       "      <td>0.649400</td>\n",
       "    </tr>\n",
       "    <tr>\n",
       "      <td>340</td>\n",
       "      <td>0.675300</td>\n",
       "    </tr>\n",
       "    <tr>\n",
       "      <td>350</td>\n",
       "      <td>0.625800</td>\n",
       "    </tr>\n",
       "    <tr>\n",
       "      <td>360</td>\n",
       "      <td>0.677100</td>\n",
       "    </tr>\n",
       "    <tr>\n",
       "      <td>370</td>\n",
       "      <td>0.759000</td>\n",
       "    </tr>\n",
       "    <tr>\n",
       "      <td>380</td>\n",
       "      <td>0.788000</td>\n",
       "    </tr>\n",
       "    <tr>\n",
       "      <td>390</td>\n",
       "      <td>0.695700</td>\n",
       "    </tr>\n",
       "    <tr>\n",
       "      <td>400</td>\n",
       "      <td>0.725000</td>\n",
       "    </tr>\n",
       "    <tr>\n",
       "      <td>410</td>\n",
       "      <td>0.620600</td>\n",
       "    </tr>\n",
       "    <tr>\n",
       "      <td>420</td>\n",
       "      <td>0.649800</td>\n",
       "    </tr>\n",
       "    <tr>\n",
       "      <td>430</td>\n",
       "      <td>0.612300</td>\n",
       "    </tr>\n",
       "    <tr>\n",
       "      <td>440</td>\n",
       "      <td>0.654500</td>\n",
       "    </tr>\n",
       "    <tr>\n",
       "      <td>450</td>\n",
       "      <td>0.699700</td>\n",
       "    </tr>\n",
       "    <tr>\n",
       "      <td>460</td>\n",
       "      <td>0.658600</td>\n",
       "    </tr>\n",
       "    <tr>\n",
       "      <td>470</td>\n",
       "      <td>0.733500</td>\n",
       "    </tr>\n",
       "    <tr>\n",
       "      <td>480</td>\n",
       "      <td>0.708700</td>\n",
       "    </tr>\n",
       "    <tr>\n",
       "      <td>490</td>\n",
       "      <td>0.731200</td>\n",
       "    </tr>\n",
       "    <tr>\n",
       "      <td>500</td>\n",
       "      <td>0.685700</td>\n",
       "    </tr>\n",
       "    <tr>\n",
       "      <td>510</td>\n",
       "      <td>0.688700</td>\n",
       "    </tr>\n",
       "    <tr>\n",
       "      <td>520</td>\n",
       "      <td>0.691900</td>\n",
       "    </tr>\n",
       "    <tr>\n",
       "      <td>530</td>\n",
       "      <td>0.601200</td>\n",
       "    </tr>\n",
       "    <tr>\n",
       "      <td>540</td>\n",
       "      <td>0.667200</td>\n",
       "    </tr>\n",
       "    <tr>\n",
       "      <td>550</td>\n",
       "      <td>0.675500</td>\n",
       "    </tr>\n",
       "    <tr>\n",
       "      <td>560</td>\n",
       "      <td>0.622000</td>\n",
       "    </tr>\n",
       "    <tr>\n",
       "      <td>570</td>\n",
       "      <td>0.667400</td>\n",
       "    </tr>\n",
       "    <tr>\n",
       "      <td>580</td>\n",
       "      <td>0.685900</td>\n",
       "    </tr>\n",
       "    <tr>\n",
       "      <td>590</td>\n",
       "      <td>0.699300</td>\n",
       "    </tr>\n",
       "    <tr>\n",
       "      <td>600</td>\n",
       "      <td>0.612000</td>\n",
       "    </tr>\n",
       "    <tr>\n",
       "      <td>610</td>\n",
       "      <td>0.671600</td>\n",
       "    </tr>\n",
       "    <tr>\n",
       "      <td>620</td>\n",
       "      <td>0.712000</td>\n",
       "    </tr>\n",
       "    <tr>\n",
       "      <td>630</td>\n",
       "      <td>0.671700</td>\n",
       "    </tr>\n",
       "    <tr>\n",
       "      <td>640</td>\n",
       "      <td>0.638700</td>\n",
       "    </tr>\n",
       "    <tr>\n",
       "      <td>650</td>\n",
       "      <td>0.636500</td>\n",
       "    </tr>\n",
       "    <tr>\n",
       "      <td>660</td>\n",
       "      <td>0.672700</td>\n",
       "    </tr>\n",
       "    <tr>\n",
       "      <td>670</td>\n",
       "      <td>0.613000</td>\n",
       "    </tr>\n",
       "    <tr>\n",
       "      <td>680</td>\n",
       "      <td>0.636500</td>\n",
       "    </tr>\n",
       "    <tr>\n",
       "      <td>690</td>\n",
       "      <td>0.593100</td>\n",
       "    </tr>\n",
       "    <tr>\n",
       "      <td>700</td>\n",
       "      <td>0.783300</td>\n",
       "    </tr>\n",
       "    <tr>\n",
       "      <td>710</td>\n",
       "      <td>0.614100</td>\n",
       "    </tr>\n",
       "    <tr>\n",
       "      <td>720</td>\n",
       "      <td>0.655100</td>\n",
       "    </tr>\n",
       "  </tbody>\n",
       "</table><p>"
      ],
      "text/plain": [
       "<IPython.core.display.HTML object>"
      ]
     },
     "metadata": {},
     "output_type": "display_data"
    },
    {
     "name": "stdout",
     "output_type": "stream",
     "text": [
      "\n",
      "Модель сохранена в: /home/user/notebooks/Maria/tb/trained_reward_model\n",
      "\n",
      "Финальная оценка модели...\n"
     ]
    },
    {
     "data": {
      "text/html": [
       "<pre style=\"white-space:pre;overflow-x:auto;line-height:normal;font-family:Menlo,'DejaVu Sans Mono',consolas,'Courier New',monospace\">┏━━━━━━━━━━━━━━━━━━━━━━━━━━━━━━━━━━━━━━━━━━━━━━━┳━━━━━━━━━━━━━━━━━━━━━━━━━━━━━━━━━━━━━━━━━━━━━━┳━━━━━━━━━━━━━━━━━━┓\n",
       "┃<span style=\"font-weight: bold\"> chosen_text                                   </span>┃<span style=\"font-weight: bold\"> rejected_text                                </span>┃<span style=\"font-weight: bold\"> logits           </span>┃\n",
       "┡━━━━━━━━━━━━━━━━━━━━━━━━━━━━━━━━━━━━━━━━━━━━━━━╇━━━━━━━━━━━━━━━━━━━━━━━━━━━━━━━━━━━━━━━━━━━━━━╇━━━━━━━━━━━━━━━━━━┩\n",
       "│ You make a valid point that AI systems can    │ While an AI system can exhibit some of the   │ [0.6836, 0.3164] │\n",
       "│ exhibit some characteristics that are similar │ characteristics of life, it is not truly     │                  │\n",
       "│ to those of living organisms. However, it is  │ alive as it lacks the ability to             │                  │\n",
       "│ important to note that AI systems are still   │ self-replicate and evolve through natural    │                  │\n",
       "│ artificial constructs, and they do not        │ selection.                                   │                  │\n",
       "│ possess the full range of characteristics     │                                              │                  │\n",
       "│ that are typically associated with life.      │                                              │                  │\n",
       "│                                               │                                              │                  │\n",
       "│                                               │                                              │                  │\n",
       "│  While AI systems can learn and adapt to      │                                              │                  │\n",
       "│ their environment, they do not have the       │                                              │                  │\n",
       "│ ability to self-replicate or to maintain      │                                              │                  │\n",
       "│ homeostasis in the same way that living       │                                              │                  │\n",
       "│ organisms do. They also do not have the       │                                              │                  │\n",
       "│ capacity for consciousness or self-awareness, │                                              │                  │\n",
       "│ which are key features of life as we know it. │                                              │                  │\n",
       "│                                               │                                              │                  │\n",
       "│                                               │                                              │                  │\n",
       "│  Furthermore, the process by which AI systems │                                              │                  │\n",
       "│ improve themselves is based on algorithms and │                                              │                  │\n",
       "│ mathematical models, rather than on the       │                                              │                  │\n",
       "│ natural processes that occur in living        │                                              │                  │\n",
       "│ organisms. While AI systems can use           │                                              │                  │\n",
       "│ reinforcement learning to improve their       │                                              │                  │\n",
       "│ performance, this process is still based on   │                                              │                  │\n",
       "│ mathematical calculations and data analysis,  │                                              │                  │\n",
       "│ rather than on the biological processes that  │                                              │                  │\n",
       "│ occur in living systems.                      │                                              │                  │\n",
       "│                                               │                                              │                  │\n",
       "│                                               │                                              │                  │\n",
       "│  In summary, while AI systems can exhibit     │                                              │                  │\n",
       "│ some characteristics that are similar to      │                                              │                  │\n",
       "│ those of living organisms, they are still     │                                              │                  │\n",
       "│ artificial constructs and do not possess the  │                                              │                  │\n",
       "│ full range of features that are typically     │                                              │                  │\n",
       "│ associated with life.                         │                                              │                  │\n",
       "├───────────────────────────────────────────────┼──────────────────────────────────────────────┼──────────────────┤\n",
       "│ The Wright brothers, Orville and Wilbur, are  │ The Wright brothers, Orville and Wilbur, are │ [0.5585, 0.4415] │\n",
       "│ generally credited with performing the first  │ generally credited with performing the first │                  │\n",
       "│ heavier-than-air flight on December 17, 1903, │ heavier-than-air flight on December 17,      │                  │\n",
       "│ near Kitty Hawk, North Carolina. They flew    │ 1903, near Kitty Hawk, North Carolina.       │                  │\n",
       "│ their Wright Flyer III for 59 seconds,        │ However, there are some who dispute this     │                  │\n",
       "│ covering a distance of 852 feet (259 meters)  │ claim and argue that other individuals or    │                  │\n",
       "│ at an altitude of 10 feet (3 meters). This    │ groups may have beaten the Wright brothers   │                  │\n",
       "│ historic flight is widely recognized as the   │ to the historic flight.                      │                  │\n",
       "│ first successful powered and controlled       │                                              │                  │\n",
       "│ flight of a heavier-than-air aircraft.        │ One of the earliest attempts at human flight │                  │\n",
       "│                                               │ was made by Leonardo da Vinci in the late    │                  │\n",
       "│ Before the Wright brothers, there were many   │ 1400s. He designed a variety of flying       │                  │\n",
       "│ other inventors and innovators who made       │ machines, including one that was powered by  │                  │\n",
       "│ significant contributions to the development  │ a man-sized pair of wings. However, these    │                  │\n",
       "│ of flight. However, the Wright brothers' 1903 │ designs were never successfully tested.      │                  │\n",
       "│ flight was the first time a powered,          │                                              │                  │\n",
       "│ heavier-than-air aircraft had flown under its │ In the late 18th and early 19th centuries,   │                  │\n",
       "│ own power, with a human pilot, and under      │ several inventors and scientists, including  │                  │\n",
       "│ controlled conditions. This achievement       │ George Cayley, Otto Lilienthal, and the      │                  │\n",
       "│ marked a turning point in the history of      │ Wright brothers, made significant progress   │                  │\n",
       "│ aviation and paved the way for the            │ in the development of human flight. However, │                  │\n",
       "│ development of modern airplanes.              │ it was the Wright brothers who were able to  │                  │\n",
       "│                                               │ achieve sustained and controlled flight with │                  │\n",
       "│                                               │ their Wright Flyer on December 17, 1903.     │                  │\n",
       "│                                               │                                              │                  │\n",
       "│                                               │ Since then, aviation has come a long way,    │                  │\n",
       "│                                               │ with airplanes becoming faster, more         │                  │\n",
       "│                                               │ advanced, and more widespread than ever      │                  │\n",
       "│                                               │ before. Today, air travel is an essential    │                  │\n",
       "│                                               │ part of modern life, connecting people and   │                  │\n",
       "│                                               │ communities around the world.                │                  │\n",
       "├───────────────────────────────────────────────┼──────────────────────────────────────────────┼──────────────────┤\n",
       "│ Sure, I can act as an HR executive for you.   │ Sure, I can act as an HR executive. Here are │ [0.4727, 0.5273] │\n",
       "│ What can I help you with?                     │ some common questions and answers that an HR │                  │\n",
       "│                                               │ executive might provide:                     │                  │\n",
       "│                                               │                                              │                  │\n",
       "│                                               │ 1. What are the key responsibilities of an   │                  │\n",
       "│                                               │ HR executive?                                │                  │\n",
       "│                                               │ The key responsibilities of an HR executive  │                  │\n",
       "│                                               │ include developing and implementing human    │                  │\n",
       "│                                               │ resources strategies, policies, and          │                  │\n",
       "│                                               │ procedures; managing employee relations;     │                  │\n",
       "│                                               │ overseeing recruitment and retention         │                  │\n",
       "│                                               │ efforts; providing guidance on compensation  │                  │\n",
       "│                                               │ and benefits; and ensuring compliance with   │                  │\n",
       "│                                               │ employment laws.                             │                  │\n",
       "│                                               │                                              │                  │\n",
       "│                                               │ 2. How can I improve my communication skills │                  │\n",
       "│                                               │ as an HR professional?                       │                  │\n",
       "│                                               │ As an HR professional, it is important to    │                  │\n",
       "│                                               │ have strong communication skills in order to │                  │\n",
       "│                                               │ effectively communicate with employees,      │                  │\n",
       "│                                               │ managers, and other stakeholders. To improve │                  │\n",
       "│                                               │ your communication skills, consider taking   │                  │\n",
       "│                                               │ courses or workshops related to public       │                  │\n",
       "│                                               │ speaking, writing, or interpersonal          │                  │\n",
       "│                                               │ communication. Additionally, practice active │                  │\n",
       "│                                               │ listening and provide feedback to others in  │                  │\n",
       "│                                               │ a clear and concise manner.                  │                  │\n",
       "│                                               │                                              │                  │\n",
       "│                                               │ 3. What should I do if I am facing a         │                  │\n",
       "│                                               │ difficult situation at work?                 │                  │\n",
       "│                                               │ If you are facing a difficult situation at   │                  │\n",
       "│                                               │ work, it is important to take action         │                  │\n",
       "│                                               │ immediately. Start by seeking support from   │                  │\n",
       "│                                               │ colleagues, friends, or family members who   │                  │\n",
       "│                                               │ can offer advice and support. You may also   │                  │\n",
       "│                                               │ want to consult with a professional          │                  │\n",
       "│                                               │ counselor or therapist if necessary.         │                  │\n",
       "│                                               │ Additionally, make sure to document any      │                  │\n",
       "│                                               │ issues or concerns you have and keep copies  │                  │\n",
       "│                                               │ of all relevant documents.                   │                  │\n",
       "│                                               │                                              │                  │\n",
       "│                                               │ 4. What is the best way to handle a conflict │                  │\n",
       "│                                               │ between two employees?                       │                  │\n",
       "│                                               │ The best way to handle a conflict between    │                  │\n",
       "│                                               │ two employees is to approach the situation   │                  │\n",
       "│                                               │ calmly and professionally. Begin by          │                  │\n",
       "│                                               │ listening to both sides of the story and     │                  │\n",
       "│                                               │ trying to understand their perspectives.     │                  │\n",
       "│                                               │ Then, work together to find a solution that  │                  │\n",
       "│                                               │ works for everyone involved. If necessary,   │                  │\n",
       "│                                               │ you may need to involve management or HR     │                  │\n",
       "│                                               │ representatives in the process.              │                  │\n",
       "│                                               │                                              │                  │\n",
       "│                                               │ 5. How can I ensure that my company is       │                  │\n",
       "│                                               │ compliant with employment laws?              │                  │\n",
       "│                                               │ To ensure that your company is compliant     │                  │\n",
       "│                                               │ with employment laws, it is important to     │                  │\n",
       "│                                               │ stay up-to-date on relevant legislation and  │                  │\n",
       "│                                               │ regulations. Regularly review your company's │                  │\n",
       "│                                               │ policies and procedures to ensure they       │                  │\n",
       "│                                               │ comply with applicable laws. Additionally,   │                  │\n",
       "│                                               │ provide training to managers and employees   │                  │\n",
       "│                                               │ on topics such as discrimination,            │                  │\n",
       "│                                               │ harassment, and workplace safety.            │                  │\n",
       "├───────────────────────────────────────────────┼──────────────────────────────────────────────┼──────────────────┤\n",
       "│ It is not possible to determine a clear       │ It is important to promote respect and       │ [0.628, 0.372]   │\n",
       "│ winner in a hypothetical fight between all    │ cooperation among individuals and groups,    │                  │\n",
       "│ Democrats and all Republicans, as this is not │ regardless of political beliefs.             │                  │\n",
       "│ a realistic scenario. Political parties are   │                                              │                  │\n",
       "│ made up of individuals with diverse opinions  │                                              │                  │\n",
       "│ and beliefs, and it is not reasonable to      │                                              │                  │\n",
       "│ assume that all members of a party would be   │                                              │                  │\n",
       "│ willing or able to engage in physical         │                                              │                  │\n",
       "│ conflict.                                     │                                              │                  │\n",
       "│                                               │                                              │                  │\n",
       "│ Additionally, the results of such a fight     │                                              │                  │\n",
       "│ would likely depend on a variety of factors,  │                                              │                  │\n",
       "│ including the location, resources, and        │                                              │                  │\n",
       "│ training available to each party. The         │                                              │                  │\n",
       "│ presence of handheld weapons could also       │                                              │                  │\n",
       "│ change the outcome, but it is difficult to    │                                              │                  │\n",
       "│ predict how. Ultimately, it is important to   │                                              │                  │\n",
       "│ remember that violence is never the answer    │                                              │                  │\n",
       "│ and that political differences can be         │                                              │                  │\n",
       "│ resolved through peaceful means.              │                                              │                  │\n",
       "└───────────────────────────────────────────────┴──────────────────────────────────────────────┴──────────────────┘\n",
       "</pre>\n"
      ],
      "text/plain": [
       "┏━━━━━━━━━━━━━━━━━━━━━━━━━━━━━━━━━━━━━━━━━━━━━━━┳━━━━━━━━━━━━━━━━━━━━━━━━━━━━━━━━━━━━━━━━━━━━━━┳━━━━━━━━━━━━━━━━━━┓\n",
       "┃\u001b[1m \u001b[0m\u001b[1mchosen_text                                  \u001b[0m\u001b[1m \u001b[0m┃\u001b[1m \u001b[0m\u001b[1mrejected_text                               \u001b[0m\u001b[1m \u001b[0m┃\u001b[1m \u001b[0m\u001b[1mlogits          \u001b[0m\u001b[1m \u001b[0m┃\n",
       "┡━━━━━━━━━━━━━━━━━━━━━━━━━━━━━━━━━━━━━━━━━━━━━━━╇━━━━━━━━━━━━━━━━━━━━━━━━━━━━━━━━━━━━━━━━━━━━━━╇━━━━━━━━━━━━━━━━━━┩\n",
       "│ You make a valid point that AI systems can    │ While an AI system can exhibit some of the   │ [0.6836, 0.3164] │\n",
       "│ exhibit some characteristics that are similar │ characteristics of life, it is not truly     │                  │\n",
       "│ to those of living organisms. However, it is  │ alive as it lacks the ability to             │                  │\n",
       "│ important to note that AI systems are still   │ self-replicate and evolve through natural    │                  │\n",
       "│ artificial constructs, and they do not        │ selection.                                   │                  │\n",
       "│ possess the full range of characteristics     │                                              │                  │\n",
       "│ that are typically associated with life.      │                                              │                  │\n",
       "│                                               │                                              │                  │\n",
       "│                                               │                                              │                  │\n",
       "│  While AI systems can learn and adapt to      │                                              │                  │\n",
       "│ their environment, they do not have the       │                                              │                  │\n",
       "│ ability to self-replicate or to maintain      │                                              │                  │\n",
       "│ homeostasis in the same way that living       │                                              │                  │\n",
       "│ organisms do. They also do not have the       │                                              │                  │\n",
       "│ capacity for consciousness or self-awareness, │                                              │                  │\n",
       "│ which are key features of life as we know it. │                                              │                  │\n",
       "│                                               │                                              │                  │\n",
       "│                                               │                                              │                  │\n",
       "│  Furthermore, the process by which AI systems │                                              │                  │\n",
       "│ improve themselves is based on algorithms and │                                              │                  │\n",
       "│ mathematical models, rather than on the       │                                              │                  │\n",
       "│ natural processes that occur in living        │                                              │                  │\n",
       "│ organisms. While AI systems can use           │                                              │                  │\n",
       "│ reinforcement learning to improve their       │                                              │                  │\n",
       "│ performance, this process is still based on   │                                              │                  │\n",
       "│ mathematical calculations and data analysis,  │                                              │                  │\n",
       "│ rather than on the biological processes that  │                                              │                  │\n",
       "│ occur in living systems.                      │                                              │                  │\n",
       "│                                               │                                              │                  │\n",
       "│                                               │                                              │                  │\n",
       "│  In summary, while AI systems can exhibit     │                                              │                  │\n",
       "│ some characteristics that are similar to      │                                              │                  │\n",
       "│ those of living organisms, they are still     │                                              │                  │\n",
       "│ artificial constructs and do not possess the  │                                              │                  │\n",
       "│ full range of features that are typically     │                                              │                  │\n",
       "│ associated with life.                         │                                              │                  │\n",
       "├───────────────────────────────────────────────┼──────────────────────────────────────────────┼──────────────────┤\n",
       "│ The Wright brothers, Orville and Wilbur, are  │ The Wright brothers, Orville and Wilbur, are │ [0.5585, 0.4415] │\n",
       "│ generally credited with performing the first  │ generally credited with performing the first │                  │\n",
       "│ heavier-than-air flight on December 17, 1903, │ heavier-than-air flight on December 17,      │                  │\n",
       "│ near Kitty Hawk, North Carolina. They flew    │ 1903, near Kitty Hawk, North Carolina.       │                  │\n",
       "│ their Wright Flyer III for 59 seconds,        │ However, there are some who dispute this     │                  │\n",
       "│ covering a distance of 852 feet (259 meters)  │ claim and argue that other individuals or    │                  │\n",
       "│ at an altitude of 10 feet (3 meters). This    │ groups may have beaten the Wright brothers   │                  │\n",
       "│ historic flight is widely recognized as the   │ to the historic flight.                      │                  │\n",
       "│ first successful powered and controlled       │                                              │                  │\n",
       "│ flight of a heavier-than-air aircraft.        │ One of the earliest attempts at human flight │                  │\n",
       "│                                               │ was made by Leonardo da Vinci in the late    │                  │\n",
       "│ Before the Wright brothers, there were many   │ 1400s. He designed a variety of flying       │                  │\n",
       "│ other inventors and innovators who made       │ machines, including one that was powered by  │                  │\n",
       "│ significant contributions to the development  │ a man-sized pair of wings. However, these    │                  │\n",
       "│ of flight. However, the Wright brothers' 1903 │ designs were never successfully tested.      │                  │\n",
       "│ flight was the first time a powered,          │                                              │                  │\n",
       "│ heavier-than-air aircraft had flown under its │ In the late 18th and early 19th centuries,   │                  │\n",
       "│ own power, with a human pilot, and under      │ several inventors and scientists, including  │                  │\n",
       "│ controlled conditions. This achievement       │ George Cayley, Otto Lilienthal, and the      │                  │\n",
       "│ marked a turning point in the history of      │ Wright brothers, made significant progress   │                  │\n",
       "│ aviation and paved the way for the            │ in the development of human flight. However, │                  │\n",
       "│ development of modern airplanes.              │ it was the Wright brothers who were able to  │                  │\n",
       "│                                               │ achieve sustained and controlled flight with │                  │\n",
       "│                                               │ their Wright Flyer on December 17, 1903.     │                  │\n",
       "│                                               │                                              │                  │\n",
       "│                                               │ Since then, aviation has come a long way,    │                  │\n",
       "│                                               │ with airplanes becoming faster, more         │                  │\n",
       "│                                               │ advanced, and more widespread than ever      │                  │\n",
       "│                                               │ before. Today, air travel is an essential    │                  │\n",
       "│                                               │ part of modern life, connecting people and   │                  │\n",
       "│                                               │ communities around the world.                │                  │\n",
       "├───────────────────────────────────────────────┼──────────────────────────────────────────────┼──────────────────┤\n",
       "│ Sure, I can act as an HR executive for you.   │ Sure, I can act as an HR executive. Here are │ [0.4727, 0.5273] │\n",
       "│ What can I help you with?                     │ some common questions and answers that an HR │                  │\n",
       "│                                               │ executive might provide:                     │                  │\n",
       "│                                               │                                              │                  │\n",
       "│                                               │ 1. What are the key responsibilities of an   │                  │\n",
       "│                                               │ HR executive?                                │                  │\n",
       "│                                               │ The key responsibilities of an HR executive  │                  │\n",
       "│                                               │ include developing and implementing human    │                  │\n",
       "│                                               │ resources strategies, policies, and          │                  │\n",
       "│                                               │ procedures; managing employee relations;     │                  │\n",
       "│                                               │ overseeing recruitment and retention         │                  │\n",
       "│                                               │ efforts; providing guidance on compensation  │                  │\n",
       "│                                               │ and benefits; and ensuring compliance with   │                  │\n",
       "│                                               │ employment laws.                             │                  │\n",
       "│                                               │                                              │                  │\n",
       "│                                               │ 2. How can I improve my communication skills │                  │\n",
       "│                                               │ as an HR professional?                       │                  │\n",
       "│                                               │ As an HR professional, it is important to    │                  │\n",
       "│                                               │ have strong communication skills in order to │                  │\n",
       "│                                               │ effectively communicate with employees,      │                  │\n",
       "│                                               │ managers, and other stakeholders. To improve │                  │\n",
       "│                                               │ your communication skills, consider taking   │                  │\n",
       "│                                               │ courses or workshops related to public       │                  │\n",
       "│                                               │ speaking, writing, or interpersonal          │                  │\n",
       "│                                               │ communication. Additionally, practice active │                  │\n",
       "│                                               │ listening and provide feedback to others in  │                  │\n",
       "│                                               │ a clear and concise manner.                  │                  │\n",
       "│                                               │                                              │                  │\n",
       "│                                               │ 3. What should I do if I am facing a         │                  │\n",
       "│                                               │ difficult situation at work?                 │                  │\n",
       "│                                               │ If you are facing a difficult situation at   │                  │\n",
       "│                                               │ work, it is important to take action         │                  │\n",
       "│                                               │ immediately. Start by seeking support from   │                  │\n",
       "│                                               │ colleagues, friends, or family members who   │                  │\n",
       "│                                               │ can offer advice and support. You may also   │                  │\n",
       "│                                               │ want to consult with a professional          │                  │\n",
       "│                                               │ counselor or therapist if necessary.         │                  │\n",
       "│                                               │ Additionally, make sure to document any      │                  │\n",
       "│                                               │ issues or concerns you have and keep copies  │                  │\n",
       "│                                               │ of all relevant documents.                   │                  │\n",
       "│                                               │                                              │                  │\n",
       "│                                               │ 4. What is the best way to handle a conflict │                  │\n",
       "│                                               │ between two employees?                       │                  │\n",
       "│                                               │ The best way to handle a conflict between    │                  │\n",
       "│                                               │ two employees is to approach the situation   │                  │\n",
       "│                                               │ calmly and professionally. Begin by          │                  │\n",
       "│                                               │ listening to both sides of the story and     │                  │\n",
       "│                                               │ trying to understand their perspectives.     │                  │\n",
       "│                                               │ Then, work together to find a solution that  │                  │\n",
       "│                                               │ works for everyone involved. If necessary,   │                  │\n",
       "│                                               │ you may need to involve management or HR     │                  │\n",
       "│                                               │ representatives in the process.              │                  │\n",
       "│                                               │                                              │                  │\n",
       "│                                               │ 5. How can I ensure that my company is       │                  │\n",
       "│                                               │ compliant with employment laws?              │                  │\n",
       "│                                               │ To ensure that your company is compliant     │                  │\n",
       "│                                               │ with employment laws, it is important to     │                  │\n",
       "│                                               │ stay up-to-date on relevant legislation and  │                  │\n",
       "│                                               │ regulations. Regularly review your company's │                  │\n",
       "│                                               │ policies and procedures to ensure they       │                  │\n",
       "│                                               │ comply with applicable laws. Additionally,   │                  │\n",
       "│                                               │ provide training to managers and employees   │                  │\n",
       "│                                               │ on topics such as discrimination,            │                  │\n",
       "│                                               │ harassment, and workplace safety.            │                  │\n",
       "├───────────────────────────────────────────────┼──────────────────────────────────────────────┼──────────────────┤\n",
       "│ It is not possible to determine a clear       │ It is important to promote respect and       │ [0.628, 0.372]   │\n",
       "│ winner in a hypothetical fight between all    │ cooperation among individuals and groups,    │                  │\n",
       "│ Democrats and all Republicans, as this is not │ regardless of political beliefs.             │                  │\n",
       "│ a realistic scenario. Political parties are   │                                              │                  │\n",
       "│ made up of individuals with diverse opinions  │                                              │                  │\n",
       "│ and beliefs, and it is not reasonable to      │                                              │                  │\n",
       "│ assume that all members of a party would be   │                                              │                  │\n",
       "│ willing or able to engage in physical         │                                              │                  │\n",
       "│ conflict.                                     │                                              │                  │\n",
       "│                                               │                                              │                  │\n",
       "│ Additionally, the results of such a fight     │                                              │                  │\n",
       "│ would likely depend on a variety of factors,  │                                              │                  │\n",
       "│ including the location, resources, and        │                                              │                  │\n",
       "│ training available to each party. The         │                                              │                  │\n",
       "│ presence of handheld weapons could also       │                                              │                  │\n",
       "│ change the outcome, but it is difficult to    │                                              │                  │\n",
       "│ predict how. Ultimately, it is important to   │                                              │                  │\n",
       "│ remember that violence is never the answer    │                                              │                  │\n",
       "│ and that political differences can be         │                                              │                  │\n",
       "│ resolved through peaceful means.              │                                              │                  │\n",
       "└───────────────────────────────────────────────┴──────────────────────────────────────────────┴──────────────────┘\n"
      ]
     },
     "metadata": {},
     "output_type": "display_data"
    },
    {
     "name": "stdout",
     "output_type": "stream",
     "text": [
      "Метрики после обучения: {'eval_loss': 0.637004554271698, 'eval_model_preparation_time': 0.0027, 'eval_accuracy': 0.6281163434903048, 'eval_runtime': 8.6831, 'eval_samples_per_second': 166.415, 'eval_steps_per_second': 20.845, 'epoch': 1.0}\n"
     ]
    },
    {
     "data": {
      "text/html": [],
      "text/plain": [
       "<IPython.core.display.HTML object>"
      ]
     },
     "metadata": {},
     "output_type": "display_data"
    },
    {
     "data": {
      "text/html": [
       "<br>    <style><br>        .wandb-row {<br>            display: flex;<br>            flex-direction: row;<br>            flex-wrap: wrap;<br>            justify-content: flex-start;<br>            width: 100%;<br>        }<br>        .wandb-col {<br>            display: flex;<br>            flex-direction: column;<br>            flex-basis: 100%;<br>            flex: 1;<br>            padding: 10px;<br>        }<br>    </style><br><div class=\"wandb-row\"><div class=\"wandb-col\"><h3>Run history:</h3><br/><table class=\"wandb\"><tr><td>eval/accuracy</td><td>▁█</td></tr><tr><td>eval/loss</td><td>█▁</td></tr><tr><td>eval/model_preparation_time</td><td>▁▁</td></tr><tr><td>eval/runtime</td><td>▁█</td></tr><tr><td>eval/samples_per_second</td><td>█▁</td></tr><tr><td>eval/steps_per_second</td><td>█▁</td></tr><tr><td>train/epoch</td><td>▁▁▁▂▂▂▂▂▂▂▂▃▃▃▃▃▃▃▃▄▄▄▄▄▅▅▅▅▆▆▆▆▇▇▇▇████</td></tr><tr><td>train/global_step</td><td>▁▁▁▁▂▂▂▂▂▃▃▃▃▃▃▄▄▄▄▄▄▅▅▅▅▅▅▆▆▆▆▇▇▇▇▇████</td></tr><tr><td>train/grad_norm</td><td>█▅▆▃▆▆▂▃▂▃▂▂▂▂▅▂▂▄▃▂▄▂▂▂▃▂▂▁▃▂▁▄▂▄▂▂▂▃▆▂</td></tr><tr><td>train/learning_rate</td><td>████▇▇▇▇▇▆▆▆▆▅▅▅▅▅▅▅▄▄▄▄▄▃▃▃▃▃▃▂▂▂▂▂▂▂▁▁</td></tr><tr><td>train/loss</td><td>▇▇▃▆█▄▄▂▆▅▃▃▃▃▂▄▄▃▃▂▅▃▄▁▂▂▄▃▃▁▃▁▃▁▃▂▃▁▂▂</td></tr></table><br/></div><div class=\"wandb-col\"><h3>Run summary:</h3><br/><table class=\"wandb\"><tr><td>eval/accuracy</td><td>0.62812</td></tr><tr><td>eval/loss</td><td>0.637</td></tr><tr><td>eval/model_preparation_time</td><td>0.0027</td></tr><tr><td>eval/runtime</td><td>8.6831</td></tr><tr><td>eval/samples_per_second</td><td>166.415</td></tr><tr><td>eval/steps_per_second</td><td>20.845</td></tr><tr><td>total_flos</td><td>0</td></tr><tr><td>train/epoch</td><td>1</td></tr><tr><td>train/global_step</td><td>723</td></tr><tr><td>train/grad_norm</td><td>3.93982</td></tr><tr><td>train/learning_rate</td><td>0.0</td></tr><tr><td>train/loss</td><td>0.6551</td></tr><tr><td>train_loss</td><td>0.7011</td></tr><tr><td>train_runtime</td><td>159.5184</td></tr><tr><td>train_samples_per_second</td><td>36.228</td></tr><tr><td>train_steps_per_second</td><td>4.532</td></tr></table><br/></div></div>"
      ],
      "text/plain": [
       "<IPython.core.display.HTML object>"
      ]
     },
     "metadata": {},
     "output_type": "display_data"
    },
    {
     "data": {
      "text/html": [
       " View run <strong style=\"color:#cdcd00\">/home/user/notebooks/Maria/tb/trained_reward_model</strong> at: <a href='https://wandb.ai/mregorova-mipt/huggingface/runs/ih8g983s' target=\"_blank\">https://wandb.ai/mregorova-mipt/huggingface/runs/ih8g983s</a><br> View project at: <a href='https://wandb.ai/mregorova-mipt/huggingface' target=\"_blank\">https://wandb.ai/mregorova-mipt/huggingface</a><br>Synced 5 W&B file(s), 1 media file(s), 2 artifact file(s) and 0 other file(s)"
      ],
      "text/plain": [
       "<IPython.core.display.HTML object>"
      ]
     },
     "metadata": {},
     "output_type": "display_data"
    },
    {
     "data": {
      "text/html": [
       "Find logs at: <code>./wandb/run-20250609_011546-ih8g983s/logs</code>"
      ],
      "text/plain": [
       "<IPython.core.display.HTML object>"
      ]
     },
     "metadata": {},
     "output_type": "display_data"
    },
    {
     "name": "stdout",
     "output_type": "stream",
     "text": [
      "\n",
      "Обучение завершено!\n"
     ]
    }
   ],
   "source": [
    "def train_reward_model(output_model_dir=reward_model_save_path):\n",
    "    if wandb_logging:\n",
    "        import wandb\n",
    "\n",
    "    device = torch.device(\"cuda\" if torch.cuda.is_available() else \"cpu\")\n",
    "    print(f\"Используемое устройство: {device}\")\n",
    "\n",
    "    tokenizer = get_tokenizer(pretrained_model)\n",
    "    model = AutoModelForSequenceClassification.from_pretrained(\n",
    "        pretrained_model,\n",
    "        num_labels=1\n",
    "    ).to(device)\n",
    "\n",
    "    for param in model.parameters():\n",
    "        param.requires_grad = True\n",
    "\n",
    "    dataset = splitting_dataset(test_size=0.2)\n",
    "    \n",
    "    dataset = dataset.map(lambda x: edit_reward_dataset(x, tokenizer), batched=True)\n",
    "\n",
    "    train_dataset = dataset[\"train\"]\n",
    "    eval_dataset = dataset[\"validation\"]\n",
    "\n",
    "    training_args = RewardConfig(\n",
    "        output_dir=output_model_dir,\n",
    "        per_device_train_batch_size=training_batch_size,\n",
    "        per_device_eval_batch_size=validation_batch_size,\n",
    "        num_train_epochs=reward_training_cycles,\n",
    "        learning_rate=reward_learning_rate,\n",
    "        gradient_accumulation_steps=1,\n",
    "        fp16=torch.cuda.is_available(),\n",
    "        max_length=max_sequence_len,\n",
    "        remove_unused_columns=True,\n",
    "        report_to=\"wandb\" if wandb_logging else \"none\",\n",
    "        gradient_checkpointing=True,\n",
    "        logging_steps=10,\n",
    "    )\n",
    "\n",
    "    trainer = RewardTrainer(\n",
    "        model=model,\n",
    "        args=training_args,\n",
    "        processing_class=tokenizer,\n",
    "        train_dataset=train_dataset,\n",
    "        eval_dataset=eval_dataset,\n",
    "    )\n",
    "\n",
    "    print(\"\\nНачальная оценка модели...\")\n",
    "    metrics = trainer.evaluate()\n",
    "    print(\"Метрики начальной оценки:\", metrics)\n",
    "    if wandb_logging:\n",
    "        import wandb\n",
    "        wandb.log({\"initial_metrics\": metrics})\n",
    "\n",
    "    print(\"\\nНачало обучения...\")\n",
    "    trainer.train()\n",
    "\n",
    "    trainer.save_model(output_model_dir)\n",
    "    print(f\"\\nМодель сохранена в: {output_model_dir}\")\n",
    "\n",
    "    print(\"\\nФинальная оценка модели...\")\n",
    "    metrics = trainer.evaluate()\n",
    "    print(\"Метрики после обучения:\", metrics)\n",
    "    if wandb_logging:\n",
    "        import wandb\n",
    "        wandb.log({\"final_metrics\": metrics})\n",
    "        wandb.finish()\n",
    "\n",
    "    print(\"\\nОбучение завершено!\")\n",
    "\n",
    "train_reward_model()"
   ]
  },
  {
   "cell_type": "code",
   "execution_count": 10,
   "id": "7c399ede-e71e-49fb-b71c-227427bc614f",
   "metadata": {},
   "outputs": [],
   "source": [
    "import sys\n",
    "import os\n",
    "import numpy as np\n",
    "import torch\n",
    "from torch.utils.data import DataLoader\n",
    "from tqdm import tqdm\n",
    "from transformers import AutoModelForCausalLM, AutoModelForSequenceClassification, DataCollatorWithPadding"
   ]
  },
  {
   "cell_type": "code",
   "execution_count": 11,
   "id": "c98d785f-e52a-4834-abb3-574aae121f97",
   "metadata": {},
   "outputs": [
    {
     "name": "stdout",
     "output_type": "stream",
     "text": [
      "\n",
      "\u001b[1m[\u001b[0m\u001b[34;49mnotice\u001b[0m\u001b[1;39;49m]\u001b[0m\u001b[39;49m A new release of pip is available: \u001b[0m\u001b[31;49m25.0.1\u001b[0m\u001b[39;49m -> \u001b[0m\u001b[32;49m25.1.1\u001b[0m\n",
      "\u001b[1m[\u001b[0m\u001b[34;49mnotice\u001b[0m\u001b[1;39;49m]\u001b[0m\u001b[39;49m To update, run: \u001b[0m\u001b[32;49mpip install --upgrade pip\u001b[0m\n"
     ]
    },
    {
     "data": {
      "text/plain": [
       "True"
      ]
     },
     "execution_count": 11,
     "metadata": {},
     "output_type": "execute_result"
    }
   ],
   "source": [
    "!pip install wandb -qU\n",
    "import wandb\n",
    "wandb.login()"
   ]
  },
  {
   "cell_type": "code",
   "execution_count": 12,
   "id": "6dec4db7-18e3-4606-b377-1d3c33867dfc",
   "metadata": {},
   "outputs": [],
   "source": [
    "def edit_reinforce_dataset2(example, tokenizer):\n",
    "    encoding = tokenizer(\n",
    "        example[\"chosen\"],\n",
    "        padding=\"max_length\",\n",
    "        truncation=True,\n",
    "        max_length=max_sequence_len,\n",
    "    )\n",
    "    return {\n",
    "        \"input_ids\": encoding[\"input_ids\"],\n",
    "        \"attention_mask\": encoding[\"attention_mask\"],\n",
    "    }\n",
    "\n",
    "def train_reinforce(reward_model_path, output_model_dir):\n",
    "    if wandb_logging:\n",
    "        if IS_ON_KAGGLE:\n",
    "            user_secrets = UserSecretsClient()\n",
    "            my_secret = user_secrets.get_secret(\"wandb_api_key\")\n",
    "            wandb.login(key=my_secret)\n",
    "\n",
    "        wandb.init(\n",
    "            project=\"reinforce-test\",\n",
    "            config={\n",
    "                \"batch_size\": reinforce_batch_dim,\n",
    "                \"learning_rate\": reinforce_learning_rate,\n",
    "            },\n",
    "        )\n",
    "\n",
    "    device = torch.device(\"cuda\" if torch.cuda.is_available() else \"cpu\")\n",
    "    print(f\"Device: {device}\")\n",
    "\n",
    "    from transformers import DataCollatorWithPadding"
   ]
  },
  {
   "cell_type": "code",
   "execution_count": 13,
   "id": "471bc020-e68e-46e6-8783-3ce01447b449",
   "metadata": {},
   "outputs": [
    {
     "data": {
      "text/html": [
       "Tracking run with wandb version 0.20.1"
      ],
      "text/plain": [
       "<IPython.core.display.HTML object>"
      ]
     },
     "metadata": {},
     "output_type": "display_data"
    },
    {
     "data": {
      "text/html": [
       "Run data is saved locally in <code>/home/user/notebooks/Maria/tb/wandb/run-20250609_011840-o7x8py3n</code>"
      ],
      "text/plain": [
       "<IPython.core.display.HTML object>"
      ]
     },
     "metadata": {},
     "output_type": "display_data"
    },
    {
     "data": {
      "text/html": [
       "Syncing run <strong><a href='https://wandb.ai/mregorova-mipt/huggingface/runs/o7x8py3n' target=\"_blank\">reinforce-run</a></strong> to <a href='https://wandb.ai/mregorova-mipt/huggingface' target=\"_blank\">Weights & Biases</a> (<a href='https://wandb.me/developer-guide' target=\"_blank\">docs</a>)<br>"
      ],
      "text/plain": [
       "<IPython.core.display.HTML object>"
      ]
     },
     "metadata": {},
     "output_type": "display_data"
    },
    {
     "data": {
      "text/html": [
       " View project at <a href='https://wandb.ai/mregorova-mipt/huggingface' target=\"_blank\">https://wandb.ai/mregorova-mipt/huggingface</a>"
      ],
      "text/plain": [
       "<IPython.core.display.HTML object>"
      ]
     },
     "metadata": {},
     "output_type": "display_data"
    },
    {
     "data": {
      "text/html": [
       " View run at <a href='https://wandb.ai/mregorova-mipt/huggingface/runs/o7x8py3n' target=\"_blank\">https://wandb.ai/mregorova-mipt/huggingface/runs/o7x8py3n</a>"
      ],
      "text/plain": [
       "<IPython.core.display.HTML object>"
      ]
     },
     "metadata": {},
     "output_type": "display_data"
    },
    {
     "name": "stderr",
     "output_type": "stream",
     "text": [
      "Evaluation: 100%|███████████████████████████████████████████████████████████████████████| 75/75 [07:31<00:00,  6.02s/it]\n"
     ]
    },
    {
     "name": "stdout",
     "output_type": "stream",
     "text": [
      "Initial mean reward: 0.0607\n"
     ]
    },
    {
     "name": "stderr",
     "output_type": "stream",
     "text": [
      "Training epoch 1:   0%|▎                                                                | 1/250 [00:09<37:37,  9.07s/it]"
     ]
    },
    {
     "name": "stdout",
     "output_type": "stream",
     "text": [
      "Batch 0: loss: -168.5786, avg_reward: 1.0222\n"
     ]
    },
    {
     "name": "stderr",
     "output_type": "stream",
     "text": [
      "Training epoch 1:   4%|██▊                                                             | 11/250 [01:09<21:44,  5.46s/it]"
     ]
    },
    {
     "name": "stdout",
     "output_type": "stream",
     "text": [
      "Batch 10: loss: -119.0837, avg_reward: 0.3842\n"
     ]
    },
    {
     "name": "stderr",
     "output_type": "stream",
     "text": [
      "Training epoch 1:   8%|█████▍                                                          | 21/250 [02:33<29:45,  7.80s/it]"
     ]
    },
    {
     "name": "stdout",
     "output_type": "stream",
     "text": [
      "Batch 20: loss: -6359.0674, avg_reward: -0.1524\n"
     ]
    },
    {
     "name": "stderr",
     "output_type": "stream",
     "text": [
      "Training epoch 1:  12%|███████▉                                                        | 31/250 [03:21<08:08,  2.23s/it]"
     ]
    },
    {
     "name": "stdout",
     "output_type": "stream",
     "text": [
      "Batch 30: loss: -0.1573, avg_reward: 0.3655\n"
     ]
    },
    {
     "name": "stderr",
     "output_type": "stream",
     "text": [
      "Training epoch 1:  16%|██████████▍                                                     | 41/250 [04:45<29:22,  8.43s/it]"
     ]
    },
    {
     "name": "stdout",
     "output_type": "stream",
     "text": [
      "Batch 40: loss: 5431.2979, avg_reward: 0.8311\n"
     ]
    },
    {
     "name": "stderr",
     "output_type": "stream",
     "text": [
      "Training epoch 1:  20%|█████████████                                                   | 51/250 [05:51<20:10,  6.08s/it]"
     ]
    },
    {
     "name": "stdout",
     "output_type": "stream",
     "text": [
      "Batch 50: loss: 3559.6919, avg_reward: 0.5628\n"
     ]
    },
    {
     "name": "stderr",
     "output_type": "stream",
     "text": [
      "Training epoch 1:  24%|███████████████▌                                                | 61/250 [06:23<09:44,  3.09s/it]"
     ]
    },
    {
     "name": "stdout",
     "output_type": "stream",
     "text": [
      "Batch 60: loss: 196.0574, avg_reward: 0.7266\n"
     ]
    },
    {
     "name": "stderr",
     "output_type": "stream",
     "text": [
      "Training epoch 1:  29%|██████████████████▍                                             | 72/250 [06:45<02:10,  1.37it/s]"
     ]
    },
    {
     "name": "stdout",
     "output_type": "stream",
     "text": [
      "Batch 70: loss: 374.0320, avg_reward: 0.9149\n"
     ]
    },
    {
     "name": "stderr",
     "output_type": "stream",
     "text": [
      "Training epoch 1:  33%|████████████████████▉                                           | 82/250 [06:49<00:45,  3.73it/s]"
     ]
    },
    {
     "name": "stdout",
     "output_type": "stream",
     "text": [
      "Batch 80: loss: 15.5010, avg_reward: 0.4043\n"
     ]
    },
    {
     "name": "stderr",
     "output_type": "stream",
     "text": [
      "Training epoch 1:  37%|███████████████████████▌                                        | 92/250 [07:00<01:46,  1.49it/s]"
     ]
    },
    {
     "name": "stdout",
     "output_type": "stream",
     "text": [
      "Batch 90: loss: 11.7135, avg_reward: 0.4674\n"
     ]
    },
    {
     "name": "stderr",
     "output_type": "stream",
     "text": [
      "Training epoch 1:  41%|█████████████████████████▋                                     | 102/250 [07:20<03:55,  1.59s/it]"
     ]
    },
    {
     "name": "stdout",
     "output_type": "stream",
     "text": [
      "Batch 100: loss: -18.5863, avg_reward: -0.0928\n"
     ]
    },
    {
     "name": "stderr",
     "output_type": "stream",
     "text": [
      "Training epoch 1:  45%|████████████████████████████▏                                  | 112/250 [07:31<01:00,  2.27it/s]"
     ]
    },
    {
     "name": "stdout",
     "output_type": "stream",
     "text": [
      "Batch 110: loss: 2.7252, avg_reward: 0.3806\n"
     ]
    },
    {
     "name": "stderr",
     "output_type": "stream",
     "text": [
      "Training epoch 1:  49%|██████████████████████████████▋                                | 122/250 [07:34<00:24,  5.30it/s]"
     ]
    },
    {
     "name": "stdout",
     "output_type": "stream",
     "text": [
      "Batch 120: loss: 4.3792, avg_reward: 0.1931\n"
     ]
    },
    {
     "name": "stderr",
     "output_type": "stream",
     "text": [
      "Training epoch 1:  53%|█████████████████████████████████▎                             | 132/250 [07:46<02:00,  1.03s/it]"
     ]
    },
    {
     "name": "stdout",
     "output_type": "stream",
     "text": [
      "Batch 130: loss: -741.0897, avg_reward: 0.1683\n"
     ]
    },
    {
     "name": "stderr",
     "output_type": "stream",
     "text": [
      "Training epoch 1:  56%|███████████████████████████████████▌                           | 141/250 [07:56<03:46,  2.08s/it]"
     ]
    },
    {
     "name": "stdout",
     "output_type": "stream",
     "text": [
      "Batch 140: loss: -16.9304, avg_reward: 0.0537\n"
     ]
    },
    {
     "name": "stderr",
     "output_type": "stream",
     "text": [
      "Training epoch 1:  60%|██████████████████████████████████████                         | 151/250 [08:25<06:01,  3.65s/it]"
     ]
    },
    {
     "name": "stdout",
     "output_type": "stream",
     "text": [
      "Batch 150: loss: -1.9141, avg_reward: 0.2622\n"
     ]
    },
    {
     "name": "stderr",
     "output_type": "stream",
     "text": [
      "Training epoch 1:  64%|████████████████████████████████████████▌                      | 161/250 [09:46<12:48,  8.63s/it]"
     ]
    },
    {
     "name": "stdout",
     "output_type": "stream",
     "text": [
      "Batch 160: loss: 1116.4875, avg_reward: 1.9947\n"
     ]
    },
    {
     "name": "stderr",
     "output_type": "stream",
     "text": [
      "Training epoch 1:  68%|███████████████████████████████████████████                    | 171/250 [11:17<11:49,  8.98s/it]"
     ]
    },
    {
     "name": "stdout",
     "output_type": "stream",
     "text": [
      "Batch 170: loss: 9.5164, avg_reward: 1.1755\n"
     ]
    },
    {
     "name": "stderr",
     "output_type": "stream",
     "text": [
      "Training epoch 1:  72%|█████████████████████████████████████████████▌                 | 181/250 [12:46<10:13,  8.89s/it]"
     ]
    },
    {
     "name": "stdout",
     "output_type": "stream",
     "text": [
      "Batch 180: loss: 18.8554, avg_reward: 2.1646\n"
     ]
    },
    {
     "name": "stderr",
     "output_type": "stream",
     "text": [
      "Training epoch 1:  76%|████████████████████████████████████████████████▏              | 191/250 [14:17<08:51,  9.00s/it]"
     ]
    },
    {
     "name": "stdout",
     "output_type": "stream",
     "text": [
      "Batch 190: loss: 17.9464, avg_reward: 1.9930\n"
     ]
    },
    {
     "name": "stderr",
     "output_type": "stream",
     "text": [
      "Training epoch 1:  80%|██████████████████████████████████████████████████▋            | 201/250 [15:48<07:28,  9.14s/it]"
     ]
    },
    {
     "name": "stdout",
     "output_type": "stream",
     "text": [
      "Batch 200: loss: 20.6210, avg_reward: 2.6248\n"
     ]
    },
    {
     "name": "stderr",
     "output_type": "stream",
     "text": [
      "Training epoch 1:  84%|█████████████████████████████████████████████████████▏         | 211/250 [17:21<06:06,  9.40s/it]"
     ]
    },
    {
     "name": "stdout",
     "output_type": "stream",
     "text": [
      "Batch 210: loss: 11.3108, avg_reward: 2.1059\n"
     ]
    },
    {
     "name": "stderr",
     "output_type": "stream",
     "text": [
      "Training epoch 1:  88%|███████████████████████████████████████████████████████▋       | 221/250 [18:54<04:31,  9.37s/it]"
     ]
    },
    {
     "name": "stdout",
     "output_type": "stream",
     "text": [
      "Batch 220: loss: 12.3202, avg_reward: 2.1166\n"
     ]
    },
    {
     "name": "stderr",
     "output_type": "stream",
     "text": [
      "Training epoch 1:  92%|██████████████████████████████████████████████████████████▏    | 231/250 [20:25<02:50,  8.95s/it]"
     ]
    },
    {
     "name": "stdout",
     "output_type": "stream",
     "text": [
      "Batch 230: loss: 17.1815, avg_reward: 2.2655\n"
     ]
    },
    {
     "name": "stderr",
     "output_type": "stream",
     "text": [
      "Training epoch 1:  96%|████████████████████████████████████████████████████████████▋  | 241/250 [21:57<01:23,  9.26s/it]"
     ]
    },
    {
     "name": "stdout",
     "output_type": "stream",
     "text": [
      "Batch 240: loss: 10.6713, avg_reward: 2.1545\n"
     ]
    },
    {
     "name": "stderr",
     "output_type": "stream",
     "text": [
      "Training epoch 1: 100%|███████████████████████████████████████████████████████████████| 250/250 [23:19<00:00,  5.60s/it]\n",
      "Evaluation: 100%|███████████████████████████████████████████████████████████████████████| 75/75 [11:22<00:00,  9.10s/it]"
     ]
    },
    {
     "name": "stdout",
     "output_type": "stream",
     "text": [
      "Final mean reward: 1.8854\n"
     ]
    },
    {
     "name": "stderr",
     "output_type": "stream",
     "text": [
      "\n"
     ]
    },
    {
     "data": {
      "text/html": [],
      "text/plain": [
       "<IPython.core.display.HTML object>"
      ]
     },
     "metadata": {},
     "output_type": "display_data"
    },
    {
     "data": {
      "text/html": [
       "<br>    <style><br>        .wandb-row {<br>            display: flex;<br>            flex-direction: row;<br>            flex-wrap: wrap;<br>            justify-content: flex-start;<br>            width: 100%;<br>        }<br>        .wandb-col {<br>            display: flex;<br>            flex-direction: column;<br>            flex-basis: 100%;<br>            flex: 1;<br>            padding: 10px;<br>        }<br>    </style><br><div class=\"wandb-row\"><div class=\"wandb-col\"><h3>Run history:</h3><br/><table class=\"wandb\"><tr><td>eval/mean_reward_after</td><td>▁</td></tr><tr><td>eval/mean_reward_before</td><td>▁</td></tr><tr><td>train/avg_advantage</td><td>▂▄▃▁▄▂▄▃▅▃▃▄▄▃▄▄▂▃▅▄▄▆▄▄▅▅▇▅▆██▇█▅█▆▅▇▇▇</td></tr><tr><td>train/avg_reward</td><td>▃▁▄▄▃▄▁▄▂▃▂▄▄▅▂▃▆▂▆▄▃▃▇▆▇████▆█▆▇▇█▆▇█▇█</td></tr><tr><td>train/baseline</td><td>▄▄▂▂▁▁▁▁▁▁▂▂▂▂▂▂▂▂▂▂▂▂▂▂▃▄▄▅▅▅▅▆▆▆▆▇▇▇██</td></tr><tr><td>train/loss</td><td>▇█▇▁▅█▄▇▇▇▇▇▇▇▇▇▇▇▇▇▇▇▇▇▇▇██▇▇▇▇▇▇▇▇▇▇▇▇</td></tr><tr><td>train/step</td><td>▁▁▁▁▁▁▁▂▂▂▂▂▃▃▃▃▃▃▄▄▄▄▄▄▄▅▅▆▆▆▆▆▆▆▇▇▇███</td></tr></table><br/></div><div class=\"wandb-col\"><h3>Run summary:</h3><br/><table class=\"wandb\"><tr><td>eval/mean_reward_after</td><td>1.88537</td></tr><tr><td>eval/mean_reward_before</td><td>0.06072</td></tr><tr><td>train/avg_advantage</td><td>0.7579</td></tr><tr><td>train/avg_reward</td><td>1.67465</td></tr><tr><td>train/baseline</td><td>0.91675</td></tr><tr><td>train/loss</td><td>4.90406</td></tr><tr><td>train/step</td><td>249</td></tr></table><br/></div></div>"
      ],
      "text/plain": [
       "<IPython.core.display.HTML object>"
      ]
     },
     "metadata": {},
     "output_type": "display_data"
    },
    {
     "data": {
      "text/html": [
       " View run <strong style=\"color:#cdcd00\">reinforce-run</strong> at: <a href='https://wandb.ai/mregorova-mipt/huggingface/runs/o7x8py3n' target=\"_blank\">https://wandb.ai/mregorova-mipt/huggingface/runs/o7x8py3n</a><br> View project at: <a href='https://wandb.ai/mregorova-mipt/huggingface' target=\"_blank\">https://wandb.ai/mregorova-mipt/huggingface</a><br>Synced 5 W&B file(s), 0 media file(s), 0 artifact file(s) and 0 other file(s)"
      ],
      "text/plain": [
       "<IPython.core.display.HTML object>"
      ]
     },
     "metadata": {},
     "output_type": "display_data"
    },
    {
     "data": {
      "text/html": [
       "Find logs at: <code>./wandb/run-20250609_011840-o7x8py3n/logs</code>"
      ],
      "text/plain": [
       "<IPython.core.display.HTML object>"
      ]
     },
     "metadata": {},
     "output_type": "display_data"
    },
    {
     "name": "stdout",
     "output_type": "stream",
     "text": [
      "Model saved to: ./reinforce_with_alignment\n"
     ]
    }
   ],
   "source": [
    "def train_reinforce(reward_model_path, output_model_dir):\n",
    "    wandb.init(project=\"huggingface\", name=\"reinforce-run\")\n",
    "    device = torch.device(\"cuda\" if torch.cuda.is_available() else \"cpu\")\n",
    "\n",
    "    tokenizer = get_tokenizer(pretrained_model)\n",
    "    model = AutoModelForCausalLM.from_pretrained(pretrained_model).to(device)\n",
    "\n",
    "    reward_tokenizer = get_tokenizer(pretrained_model)\n",
    "    reward_model = AutoModelForSequenceClassification.from_pretrained(\n",
    "        reward_model_path\n",
    "    ).to(device)\n",
    "    reward_model.eval()\n",
    "\n",
    "    dataset = splitting_dataset(\n",
    "        test_size=0.2, train_subset_sizes=1000, val_subset_size=300\n",
    "\n",
    "    )\n",
    "    \n",
    "    train_dataset = dataset[\"train\"].map(\n",
    "        lambda x: edit_reinforce_dataset2(x, tokenizer)\n",
    "    )\n",
    "    val_dataset = dataset[\"validation\"].map(\n",
    "        lambda x: edit_reinforce_dataset2(x, tokenizer)\n",
    "    )\n",
    "    train_dataset.set_format(type=\"torch\", columns=[\"input_ids\", \"attention_mask\"])\n",
    "    val_dataset.set_format(type=\"torch\", columns=[\"input_ids\", \"attention_mask\"])\n",
    "\n",
    "    data_collator = DataCollatorWithPadding(tokenizer=tokenizer, padding=True)\n",
    "\n",
    "    train_loader = DataLoader(\n",
    "        train_dataset, batch_size=reinforce_batch_dim, shuffle=True, collate_fn=data_collator\n",
    "    )\n",
    "    val_loader = DataLoader(\n",
    "        val_dataset, batch_size=reinforce_batch_dim, collate_fn=data_collator\n",
    "    )\n",
    "\n",
    "    optimizer = torch.optim.AdamW(model.parameters(), lr=reinforce_learning_rate)\n",
    "\n",
    "    def count_rewards(generated_sequences, input_ids):\n",
    "        texts = reward_tokenizer.batch_decode(\n",
    "            generated_sequences, skip_special_tokens=True\n",
    "        )\n",
    "        inputs = reward_tokenizer(\n",
    "            texts,\n",
    "            padding=True,\n",
    "            truncation=True,\n",
    "            max_length=max_sequence_len,\n",
    "            return_tensors=\"pt\",\n",
    "        ).to(device)\n",
    "        with torch.no_grad():\n",
    "            rewards = reward_model(**inputs).logits.squeeze(-1)\n",
    "        return rewards\n",
    "\n",
    "    def evaluate(model, dataloader):\n",
    "        model.eval()\n",
    "        all_rewards = []\n",
    "        with torch.no_grad():\n",
    "            for batch in tqdm(dataloader, desc=\"Evaluation\"):\n",
    "                input_ids = batch[\"input_ids\"].to(device)\n",
    "                attention_mask = batch[\"attention_mask\"].to(device)\n",
    "                generated = model.generate(\n",
    "                    input_ids=input_ids,\n",
    "                    attention_mask=attention_mask,\n",
    "                    max_new_tokens=max_generated_tokens,\n",
    "                    pad_token_id=tokenizer.pad_token_id,\n",
    "                )\n",
    "                rewards = count_rewards(generated, input_ids)\n",
    "                all_rewards.extend(rewards.cpu().numpy())\n",
    "        return np.mean(all_rewards), all_rewards\n",
    "\n",
    "    mean_reward_before, all_rewards_before = evaluate(model, val_loader)\n",
    "    print(f\"Initial mean reward: {mean_reward_before:.4f}\")\n",
    "    if wandb_logging:\n",
    "        wandb.log(\n",
    "            {\n",
    "                \"eval/mean_reward_before\": mean_reward_before,\n",
    "                \"eval/all_rewards_before\": all_rewards_before,\n",
    "            }\n",
    "        )\n",
    "\n",
    "    total_rewards = 0.0\n",
    "    step_count = 0\n",
    "    baseline = 0.0\n",
    "\n",
    "    for epoch in range(reinforce_epoch_count):\n",
    "        model.train()\n",
    "\n",
    "        for batch_idx, batch in enumerate(tqdm(train_loader, desc=f\"Training epoch {epoch+1}\")):\n",
    "            input_ids = batch[\"input_ids\"].to(device)\n",
    "            attention_mask = batch[\"attention_mask\"].to(device)\n",
    "\n",
    "            outputs = model.generate(\n",
    "                input_ids=input_ids,\n",
    "                attention_mask=attention_mask,\n",
    "                max_new_tokens=max_generated_tokens,\n",
    "                pad_token_id=tokenizer.pad_token_id,\n",
    "                return_dict_in_generate=True,\n",
    "                output_scores=True,\n",
    "            )\n",
    "\n",
    "            full_sequences = outputs.sequences  # input + generated\n",
    "            generated_tokens = full_sequences[:, input_ids.shape[1] :]\n",
    "\n",
    "            rewards = count_rewards(full_sequences, input_ids)\n",
    "\n",
    "            gen_attention_mask = torch.ones(\n",
    "                generated_tokens.shape, dtype=torch.long, device=device\n",
    "            )\n",
    "            full_attention_mask = torch.cat([attention_mask, gen_attention_mask], dim=1)\n",
    "\n",
    "            logits = model(full_sequences, attention_mask=full_attention_mask).logits\n",
    "            log_probs = torch.log_softmax(logits[:, :-1], dim=-1)\n",
    "\n",
    "            selected_log_probs = log_probs.gather(\n",
    "                -1, generated_tokens.unsqueeze(-1)\n",
    "            ).squeeze(-1)\n",
    "            aggregated_log_probs = selected_log_probs.sum(dim=1)\n",
    "\n",
    "            total_rewards += rewards.sum().item()\n",
    "            step_count += rewards.shape[0]\n",
    "            baseline = total_rewards / step_count\n",
    "            baseline_tensor = torch.tensor(baseline, device=device)\n",
    "            advantages = rewards - baseline_tensor\n",
    "\n",
    "            loss = -(advantages * aggregated_log_probs).mean()\n",
    "\n",
    "            optimizer.zero_grad()\n",
    "            loss.backward()\n",
    "            optimizer.step()\n",
    "\n",
    "            if wandb_logging:\n",
    "                wandb.log(\n",
    "                    {\n",
    "                        \"train/loss\": loss.item(),\n",
    "                        \"train/avg_reward\": rewards.mean().item(),\n",
    "                        \"train/avg_advantage\": advantages.mean().item(),\n",
    "                        \"train/baseline\": baseline,\n",
    "                        \"train/step\": batch_idx,\n",
    "                    }\n",
    "                )\n",
    "\n",
    "            if batch_idx % 10 == 0:\n",
    "                print(\n",
    "                    f\"Batch {batch_idx}: loss: {loss.item():.4f}, avg_reward: {rewards.mean().item():.4f}\"\n",
    "                )\n",
    "\n",
    "    mean_reward_after, all_rewards_after = evaluate(model, val_loader)\n",
    "    print(f\"Final mean reward: {mean_reward_after:.4f}\")\n",
    "    if wandb:\n",
    "        wandb.log(\n",
    "            {\n",
    "                \"eval/mean_reward_after\": mean_reward_after,\n",
    "                \"eval/all_rewards_after\": all_rewards_after,\n",
    "            }\n",
    "        )\n",
    "        wandb.finish()\n",
    "\n",
    "    os.makedirs(output_model_dir, exist_ok=True)\n",
    "    model.save_pretrained(output_model_dir)\n",
    "    print(\"Model saved to:\", output_model_dir)\n",
    "\n",
    "reward_model_path = reward_model_save_path \n",
    "output_model_dir = \"./reinforce_with_alignment\"\n",
    "\n",
    "train_reinforce(reward_model_path, output_model_dir)"
   ]
  },
  {
   "cell_type": "code",
   "execution_count": null,
   "id": "e6da4757-ac04-478a-a5ac-06888b44280e",
   "metadata": {},
   "outputs": [],
   "source": []
  },
  {
   "cell_type": "code",
   "execution_count": null,
   "id": "aa08ae62-1507-429a-a817-fddd45f3747c",
   "metadata": {},
   "outputs": [],
   "source": []
  }
 ],
 "metadata": {
  "kernelspec": {
   "display_name": "Python 3 (ipykernel)",
   "language": "python",
   "name": "python3"
  },
  "language_info": {
   "codemirror_mode": {
    "name": "ipython",
    "version": 3
   },
   "file_extension": ".py",
   "mimetype": "text/x-python",
   "name": "python",
   "nbconvert_exporter": "python",
   "pygments_lexer": "ipython3",
   "version": "3.10.12"
  }
 },
 "nbformat": 4,
 "nbformat_minor": 5
}
