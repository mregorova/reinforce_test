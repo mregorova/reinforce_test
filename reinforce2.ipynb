{
 "cells": [
  {
   "cell_type": "code",
   "execution_count": 1,
   "id": "ab3e72b8-e157-4bf9-a6e2-e06b1976fd53",
   "metadata": {},
   "outputs": [
    {
     "name": "stdout",
     "output_type": "stream",
     "text": [
      "\n",
      "\u001b[1m[\u001b[0m\u001b[34;49mnotice\u001b[0m\u001b[1;39;49m]\u001b[0m\u001b[39;49m A new release of pip is available: \u001b[0m\u001b[31;49m25.0.1\u001b[0m\u001b[39;49m -> \u001b[0m\u001b[32;49m25.1.1\u001b[0m\n",
      "\u001b[1m[\u001b[0m\u001b[34;49mnotice\u001b[0m\u001b[1;39;49m]\u001b[0m\u001b[39;49m To update, run: \u001b[0m\u001b[32;49mpip install --upgrade pip\u001b[0m\n"
     ]
    }
   ],
   "source": [
    "!pip install -q transformers trl datasets wandb torch"
   ]
  },
  {
   "cell_type": "code",
   "execution_count": 2,
   "id": "a51e5127-15ca-4d58-9d43-c3b44976a05a",
   "metadata": {},
   "outputs": [
    {
     "name": "stdout",
     "output_type": "stream",
     "text": [
      "Requirement already satisfied: accelerate==1.6.0 in /home/user/py310/lib/python3.10/site-packages (1.6.0)\n",
      "Requirement already satisfied: numpy<3.0.0,>=1.17 in /home/user/py310/lib/python3.10/site-packages (from accelerate==1.6.0) (2.1.1)\n",
      "Requirement already satisfied: packaging>=20.0 in /home/user/py310/lib/python3.10/site-packages (from accelerate==1.6.0) (24.2)\n",
      "Requirement already satisfied: psutil in /home/user/py310/lib/python3.10/site-packages (from accelerate==1.6.0) (7.0.0)\n",
      "Requirement already satisfied: pyyaml in /home/user/py310/lib/python3.10/site-packages (from accelerate==1.6.0) (6.0.2)\n",
      "Requirement already satisfied: torch>=2.0.0 in /home/user/py310/lib/python3.10/site-packages (from accelerate==1.6.0) (2.6.0)\n",
      "Requirement already satisfied: huggingface-hub>=0.21.0 in /home/user/py310/lib/python3.10/site-packages (from accelerate==1.6.0) (0.32.4)\n",
      "Requirement already satisfied: safetensors>=0.4.3 in /home/user/py310/lib/python3.10/site-packages (from accelerate==1.6.0) (0.5.3)\n",
      "Requirement already satisfied: filelock in /home/user/py310/lib/python3.10/site-packages (from huggingface-hub>=0.21.0->accelerate==1.6.0) (3.18.0)\n",
      "Requirement already satisfied: fsspec>=2023.5.0 in /home/user/py310/lib/python3.10/site-packages (from huggingface-hub>=0.21.0->accelerate==1.6.0) (2025.3.0)\n",
      "Requirement already satisfied: requests in /home/user/py310/lib/python3.10/site-packages (from huggingface-hub>=0.21.0->accelerate==1.6.0) (2.32.3)\n",
      "Requirement already satisfied: tqdm>=4.42.1 in /home/user/py310/lib/python3.10/site-packages (from huggingface-hub>=0.21.0->accelerate==1.6.0) (4.67.1)\n",
      "Requirement already satisfied: typing-extensions>=3.7.4.3 in /home/user/py310/lib/python3.10/site-packages (from huggingface-hub>=0.21.0->accelerate==1.6.0) (4.13.1)\n",
      "Requirement already satisfied: hf-xet<2.0.0,>=1.1.2 in /home/user/py310/lib/python3.10/site-packages (from huggingface-hub>=0.21.0->accelerate==1.6.0) (1.1.3)\n",
      "Requirement already satisfied: networkx in /home/user/py310/lib/python3.10/site-packages (from torch>=2.0.0->accelerate==1.6.0) (3.4.2)\n",
      "Requirement already satisfied: jinja2 in /home/user/py310/lib/python3.10/site-packages (from torch>=2.0.0->accelerate==1.6.0) (3.1.6)\n",
      "Requirement already satisfied: nvidia-cuda-nvrtc-cu12==12.4.127 in /home/user/py310/lib/python3.10/site-packages (from torch>=2.0.0->accelerate==1.6.0) (12.4.127)\n",
      "Requirement already satisfied: nvidia-cuda-runtime-cu12==12.4.127 in /home/user/py310/lib/python3.10/site-packages (from torch>=2.0.0->accelerate==1.6.0) (12.4.127)\n",
      "Requirement already satisfied: nvidia-cuda-cupti-cu12==12.4.127 in /home/user/py310/lib/python3.10/site-packages (from torch>=2.0.0->accelerate==1.6.0) (12.4.127)\n",
      "Requirement already satisfied: nvidia-cudnn-cu12==9.1.0.70 in /home/user/py310/lib/python3.10/site-packages (from torch>=2.0.0->accelerate==1.6.0) (9.1.0.70)\n",
      "Requirement already satisfied: nvidia-cublas-cu12==12.4.5.8 in /home/user/py310/lib/python3.10/site-packages (from torch>=2.0.0->accelerate==1.6.0) (12.4.5.8)\n",
      "Requirement already satisfied: nvidia-cufft-cu12==11.2.1.3 in /home/user/py310/lib/python3.10/site-packages (from torch>=2.0.0->accelerate==1.6.0) (11.2.1.3)\n",
      "Requirement already satisfied: nvidia-curand-cu12==10.3.5.147 in /home/user/py310/lib/python3.10/site-packages (from torch>=2.0.0->accelerate==1.6.0) (10.3.5.147)\n",
      "Requirement already satisfied: nvidia-cusolver-cu12==11.6.1.9 in /home/user/py310/lib/python3.10/site-packages (from torch>=2.0.0->accelerate==1.6.0) (11.6.1.9)\n",
      "Requirement already satisfied: nvidia-cusparse-cu12==12.3.1.170 in /home/user/py310/lib/python3.10/site-packages (from torch>=2.0.0->accelerate==1.6.0) (12.3.1.170)\n",
      "Requirement already satisfied: nvidia-cusparselt-cu12==0.6.2 in /home/user/py310/lib/python3.10/site-packages (from torch>=2.0.0->accelerate==1.6.0) (0.6.2)\n",
      "Requirement already satisfied: nvidia-nccl-cu12==2.21.5 in /home/user/py310/lib/python3.10/site-packages (from torch>=2.0.0->accelerate==1.6.0) (2.21.5)\n",
      "Requirement already satisfied: nvidia-nvtx-cu12==12.4.127 in /home/user/py310/lib/python3.10/site-packages (from torch>=2.0.0->accelerate==1.6.0) (12.4.127)\n",
      "Requirement already satisfied: nvidia-nvjitlink-cu12==12.4.127 in /home/user/py310/lib/python3.10/site-packages (from torch>=2.0.0->accelerate==1.6.0) (12.4.127)\n",
      "Requirement already satisfied: triton==3.2.0 in /home/user/py310/lib/python3.10/site-packages (from torch>=2.0.0->accelerate==1.6.0) (3.2.0)\n",
      "Requirement already satisfied: sympy==1.13.1 in /home/user/py310/lib/python3.10/site-packages (from torch>=2.0.0->accelerate==1.6.0) (1.13.1)\n",
      "Requirement already satisfied: mpmath<1.4,>=1.1.0 in /home/user/py310/lib/python3.10/site-packages (from sympy==1.13.1->torch>=2.0.0->accelerate==1.6.0) (1.3.0)\n",
      "Requirement already satisfied: MarkupSafe>=2.0 in /home/user/py310/lib/python3.10/site-packages (from jinja2->torch>=2.0.0->accelerate==1.6.0) (3.0.2)\n",
      "Requirement already satisfied: charset-normalizer<4,>=2 in /home/user/py310/lib/python3.10/site-packages (from requests->huggingface-hub>=0.21.0->accelerate==1.6.0) (3.4.1)\n",
      "Requirement already satisfied: idna<4,>=2.5 in /home/user/py310/lib/python3.10/site-packages (from requests->huggingface-hub>=0.21.0->accelerate==1.6.0) (3.10)\n",
      "Requirement already satisfied: urllib3<3,>=1.21.1 in /home/user/py310/lib/python3.10/site-packages (from requests->huggingface-hub>=0.21.0->accelerate==1.6.0) (2.3.0)\n",
      "Requirement already satisfied: certifi>=2017.4.17 in /home/user/py310/lib/python3.10/site-packages (from requests->huggingface-hub>=0.21.0->accelerate==1.6.0) (2025.1.31)\n",
      "\n",
      "\u001b[1m[\u001b[0m\u001b[34;49mnotice\u001b[0m\u001b[1;39;49m]\u001b[0m\u001b[39;49m A new release of pip is available: \u001b[0m\u001b[31;49m25.0.1\u001b[0m\u001b[39;49m -> \u001b[0m\u001b[32;49m25.1.1\u001b[0m\n",
      "\u001b[1m[\u001b[0m\u001b[34;49mnotice\u001b[0m\u001b[1;39;49m]\u001b[0m\u001b[39;49m To update, run: \u001b[0m\u001b[32;49mpip install --upgrade pip\u001b[0m\n",
      "Requirement already satisfied: transformers==4.51.3 in /home/user/py310/lib/python3.10/site-packages (4.51.3)\n",
      "Requirement already satisfied: filelock in /home/user/py310/lib/python3.10/site-packages (from transformers==4.51.3) (3.18.0)\n",
      "Requirement already satisfied: huggingface-hub<1.0,>=0.30.0 in /home/user/py310/lib/python3.10/site-packages (from transformers==4.51.3) (0.32.4)\n",
      "Requirement already satisfied: numpy>=1.17 in /home/user/py310/lib/python3.10/site-packages (from transformers==4.51.3) (2.1.1)\n",
      "Requirement already satisfied: packaging>=20.0 in /home/user/py310/lib/python3.10/site-packages (from transformers==4.51.3) (24.2)\n",
      "Requirement already satisfied: pyyaml>=5.1 in /home/user/py310/lib/python3.10/site-packages (from transformers==4.51.3) (6.0.2)\n",
      "Requirement already satisfied: regex!=2019.12.17 in /home/user/py310/lib/python3.10/site-packages (from transformers==4.51.3) (2024.11.6)\n",
      "Requirement already satisfied: requests in /home/user/py310/lib/python3.10/site-packages (from transformers==4.51.3) (2.32.3)\n",
      "Requirement already satisfied: tokenizers<0.22,>=0.21 in /home/user/py310/lib/python3.10/site-packages (from transformers==4.51.3) (0.21.1)\n",
      "Requirement already satisfied: safetensors>=0.4.3 in /home/user/py310/lib/python3.10/site-packages (from transformers==4.51.3) (0.5.3)\n",
      "Requirement already satisfied: tqdm>=4.27 in /home/user/py310/lib/python3.10/site-packages (from transformers==4.51.3) (4.67.1)\n",
      "Requirement already satisfied: fsspec>=2023.5.0 in /home/user/py310/lib/python3.10/site-packages (from huggingface-hub<1.0,>=0.30.0->transformers==4.51.3) (2025.3.0)\n",
      "Requirement already satisfied: typing-extensions>=3.7.4.3 in /home/user/py310/lib/python3.10/site-packages (from huggingface-hub<1.0,>=0.30.0->transformers==4.51.3) (4.13.1)\n",
      "Requirement already satisfied: hf-xet<2.0.0,>=1.1.2 in /home/user/py310/lib/python3.10/site-packages (from huggingface-hub<1.0,>=0.30.0->transformers==4.51.3) (1.1.3)\n",
      "Requirement already satisfied: charset-normalizer<4,>=2 in /home/user/py310/lib/python3.10/site-packages (from requests->transformers==4.51.3) (3.4.1)\n",
      "Requirement already satisfied: idna<4,>=2.5 in /home/user/py310/lib/python3.10/site-packages (from requests->transformers==4.51.3) (3.10)\n",
      "Requirement already satisfied: urllib3<3,>=1.21.1 in /home/user/py310/lib/python3.10/site-packages (from requests->transformers==4.51.3) (2.3.0)\n",
      "Requirement already satisfied: certifi>=2017.4.17 in /home/user/py310/lib/python3.10/site-packages (from requests->transformers==4.51.3) (2025.1.31)\n",
      "\n",
      "\u001b[1m[\u001b[0m\u001b[34;49mnotice\u001b[0m\u001b[1;39;49m]\u001b[0m\u001b[39;49m A new release of pip is available: \u001b[0m\u001b[31;49m25.0.1\u001b[0m\u001b[39;49m -> \u001b[0m\u001b[32;49m25.1.1\u001b[0m\n",
      "\u001b[1m[\u001b[0m\u001b[34;49mnotice\u001b[0m\u001b[1;39;49m]\u001b[0m\u001b[39;49m To update, run: \u001b[0m\u001b[32;49mpip install --upgrade pip\u001b[0m\n"
     ]
    }
   ],
   "source": [
    "!pip install --upgrade accelerate==1.6.0\n",
    "!pip install --upgrade transformers==4.51.3"
   ]
  },
  {
   "cell_type": "code",
   "execution_count": 3,
   "id": "c153425f-9475-4622-b87e-6d95ed63210c",
   "metadata": {},
   "outputs": [
    {
     "name": "stderr",
     "output_type": "stream",
     "text": [
      "2025-06-09 19:40:33.397963: E external/local_xla/xla/stream_executor/cuda/cuda_fft.cc:467] Unable to register cuFFT factory: Attempting to register factory for plugin cuFFT when one has already been registered\n",
      "WARNING: All log messages before absl::InitializeLog() is called are written to STDERR\n",
      "E0000 00:00:1749487233.483570 1196640 cuda_dnn.cc:8579] Unable to register cuDNN factory: Attempting to register factory for plugin cuDNN when one has already been registered\n",
      "E0000 00:00:1749487233.508674 1196640 cuda_blas.cc:1407] Unable to register cuBLAS factory: Attempting to register factory for plugin cuBLAS when one has already been registered\n",
      "W0000 00:00:1749487233.707280 1196640 computation_placer.cc:177] computation placer already registered. Please check linkage and avoid linking the same target more than once.\n",
      "W0000 00:00:1749487233.707293 1196640 computation_placer.cc:177] computation placer already registered. Please check linkage and avoid linking the same target more than once.\n",
      "W0000 00:00:1749487233.707294 1196640 computation_placer.cc:177] computation placer already registered. Please check linkage and avoid linking the same target more than once.\n",
      "W0000 00:00:1749487233.707295 1196640 computation_placer.cc:177] computation placer already registered. Please check linkage and avoid linking the same target more than once.\n",
      "2025-06-09 19:40:33.730288: I tensorflow/core/platform/cpu_feature_guard.cc:210] This TensorFlow binary is optimized to use available CPU instructions in performance-critical operations.\n",
      "To enable the following instructions: AVX2 FMA, in other operations, rebuild TensorFlow with the appropriate compiler flags.\n"
     ]
    }
   ],
   "source": [
    "import os\n",
    "import torch\n",
    "from transformers import (\n",
    "    AutoTokenizer,\n",
    "    AutoModelForSequenceClassification,\n",
    ")\n",
    "from trl import RewardTrainer, RewardConfig\n",
    "from datasets import load_dataset\n",
    "import warnings\n",
    "\n",
    "warnings.filterwarnings('ignore')"
   ]
  },
  {
   "cell_type": "code",
   "execution_count": 4,
   "id": "8001469c-8638-4158-a6b8-da0ccd1643b5",
   "metadata": {},
   "outputs": [],
   "source": [
    "wandb_logging = True\n",
    "pretrained_model = \"HuggingFaceTB/SmolLM2-135M-Instruct\"  \n",
    "reward_learning_rate = 5e-5\n",
    "reward_training_cycles = 1\n",
    "max_sequence_len = 512  \n",
    "training_batch_size = 8  \n",
    "validation_batch_size = 8  \n",
    "reward_model_save_path = os.path.join(os.getcwd(), \"trained_reward_model\")  \n",
    "\n",
    "reinforce_batch_dim = 4  \n",
    "reinforce_learning_rate = 5e-5\n",
    "reinforce_epoch_count = 1\n",
    "max_generated_tokens = 512\n",
    "reinforce_output_path = os.path.join(os.getcwd(), \"reinforce_baseline\")  \n",
    "\n",
    "os.makedirs(reward_model_save_path, exist_ok=True)  \n",
    "os.makedirs(reinforce_output_path, exist_ok=True)"
   ]
  },
  {
   "cell_type": "code",
   "execution_count": 5,
   "id": "d529dcd1-5914-4aa7-a9d6-97a91afd99a2",
   "metadata": {},
   "outputs": [],
   "source": [
    "def get_tokenizer(tokenizer_path: str):\n",
    "    tokenizer = AutoTokenizer.from_pretrained(tokenizer_path, padding_side=\"left\")\n",
    "    if tokenizer.pad_token is None:\n",
    "        tokenizer.pad_token = tokenizer.eos_token\n",
    "    return tokenizer\n",
    "\n",
    "def extract_text(conversation):\n",
    "    if isinstance(conversation, str):\n",
    "        return conversation\n",
    "    if isinstance(conversation, list):\n",
    "        return \"\\n\".join(\n",
    "            [f\"{turn['role'].capitalize()}: {turn['content']}\"\n",
    "             if isinstance(turn, dict)\n",
    "             else str(turn)\n",
    "             for turn in conversation]\n",
    "        )\n",
    "    return str(conversation)\n",
    "\n",
    "\n",
    "def edit_reward_dataset(examples, tokenizer):\n",
    "    # Обработка батча примеров\n",
    "    chosen = tokenizer(\n",
    "        examples[\"chosen_text\"],\n",
    "        truncation=True,\n",
    "        padding=\"max_length\",\n",
    "        max_length=max_sequence_len,\n",
    "        return_tensors=\"pt\",\n",
    "    )\n",
    "    \n",
    "    rejected = tokenizer(\n",
    "        examples[\"rejected_text\"],\n",
    "        truncation=True,\n",
    "        padding=\"max_length\",\n",
    "        max_length=max_sequence_len,\n",
    "        return_tensors=\"pt\",\n",
    "    )\n",
    "    \n",
    "    return {\n",
    "        \"input_ids_chosen\": chosen[\"input_ids\"],\n",
    "        \"attention_mask_chosen\": chosen[\"attention_mask\"],\n",
    "        \"input_ids_rejected\": rejected[\"input_ids\"],\n",
    "        \"attention_mask_rejected\": rejected[\"attention_mask\"],\n",
    "    }\n",
    "\n",
    "def edit_reinforce_dataset(batch, tokenizer):\n",
    "    prompts = []\n",
    "    for conversation in batch[\"chosen\"]:\n",
    "        if isinstance(conversation, list):\n",
    "            prompt = \"\\n\".join(\n",
    "                [f\"{turn['role'].capitalize()}: {turn['content']}\" for turn in conversation[:-1]]\n",
    "            ) + \"\\nAssistant: \"\n",
    "        else:\n",
    "            prompt = str(conversation) + \"\\nAssistant: \"\n",
    "        prompts.append(prompt)\n",
    "\n",
    "    tokens = tokenizer(\n",
    "        prompts,\n",
    "        padding=\"max_length\",\n",
    "        truncation=True,\n",
    "        max_length=max_sequence_len,\n",
    "    )\n",
    "\n",
    "    return {\n",
    "        k: v for k, v in tokens.items()\n",
    "    }\n",
    "\n",
    "def splitting_dataset(test_size=0.2, train_subset_sizes=None, val_subset_size=None):\n",
    "    dataset = load_dataset(\"juyoungml/HelpSteer2-binarized\")\n",
    "\n",
    "    if \"train\" in dataset:\n",
    "        train_dataset = dataset[\"train\"]\n",
    "        split_dataset = train_dataset.train_test_split(test_size=test_size, seed=42)\n",
    "        dataset[\"train\"] = split_dataset[\"train\"]\n",
    "        dataset[\"validation\"] = split_dataset[\"test\"]\n",
    "\n",
    "    if train_subset_sizes is not None:\n",
    "        dataset[\"train\"] = dataset[\"train\"].select(range(train_subset_sizes))\n",
    "\n",
    "    if val_subset_size is not None and \"validation\" in dataset:\n",
    "        dataset[\"validation\"] = dataset[\"validation\"].select(range(val_subset_size))\n",
    "\n",
    "    return dataset"
   ]
  },
  {
   "cell_type": "code",
   "execution_count": 7,
   "id": "a3b7d9b7-1ba5-4cd1-9d48-3714ae5f5099",
   "metadata": {},
   "outputs": [],
   "source": [
    "import torch\n",
    "from trl import RewardTrainer\n",
    "\n",
    "\n",
    "class train_reward_model2(RewardTrainer):\n",
    "    def compute_loss(\n",
    "        self,\n",
    "        model,\n",
    "        inputs: dict[str, torch.Tensor],\n",
    "        return_outputs: bool = False,\n",
    "        num_items_in_batch=None,\n",
    "    ) -> torch.Tensor | tuple[torch.Tensor, dict[str, torch.Tensor]]:\n",
    "        logits_chosen = model(\n",
    "            input_ids=inputs[\"input_ids_chosen\"],\n",
    "            attention_mask=inputs[\"attention_mask_chosen\"],\n",
    "            return_dict=True,\n",
    "        )[\"logits\"]\n",
    "        logits_rejected = model(\n",
    "            input_ids=inputs[\"input_ids_rejected\"],\n",
    "            attention_mask=inputs[\"attention_mask_rejected\"],\n",
    "            return_dict=True,\n",
    "        )[\"logits\"]\n",
    "\n",
    "        probs_chosen = torch.softmax(logits_chosen, dim=-1)\n",
    "        probs_rejected = torch.softmax(logits_rejected, dim=-1)\n",
    "\n",
    "        batch_size, num_classes = probs_chosen.shape\n",
    "        mask = torch.tril(\n",
    "            torch.ones(num_classes, num_classes, device=probs_chosen.device),\n",
    "            diagonal=-1,\n",
    "        )\n",
    "        prod = probs_chosen.unsqueeze(2) * probs_rejected.unsqueeze(\n",
    "            1\n",
    "        )  # prod[., i, j] = chosen[., i] * rejected[., j]\n",
    "        total_probability = (prod * mask).sum(dim=(1, 2))\n",
    "\n",
    "        loss = -torch.log(total_probability.clamp(min=1e-8)).mean()\n",
    "\n",
    "        if self.args.center_rewards_coefficient is not None:\n",
    "            pass\n",
    "\n",
    "        if return_outputs:\n",
    "            return loss, {\n",
    "                \"probs_chosen\": probs_chosen,\n",
    "                \"probs_rejected\": probs_rejected,\n",
    "            }\n",
    "        return loss\n",
    "\n",
    "    def prediction_step(\n",
    "        self,\n",
    "        model,\n",
    "        inputs: dict[str, torch.Tensor],\n",
    "        prediction_loss_only: bool,\n",
    "        ignore_keys: list[str] | None = None,\n",
    "    ) -> tuple[torch.Tensor | None, torch.Tensor | None, torch.Tensor | None]:\n",
    "        inputs = self._prepare_inputs(inputs)\n",
    "        if ignore_keys is None:\n",
    "            if hasattr(self.model, \"config\"):\n",
    "                ignore_keys = getattr(\n",
    "                    self.model.config, \"keys_to_ignore_at_inference\", []\n",
    "                )\n",
    "            else:\n",
    "                ignore_keys = []\n",
    "\n",
    "        with torch.no_grad():\n",
    "            loss, logits_dict = self.compute_loss(model, inputs, return_outputs=True)\n",
    "\n",
    "        if prediction_loss_only:\n",
    "            return (loss, None, None)\n",
    "\n",
    "        loss = loss.detach()\n",
    "\n",
    "        probs_chosen = logits_dict[\"probs_chosen\"]\n",
    "        probs_rejected = logits_dict[\"probs_rejected\"]\n",
    "        ratings = torch.arange(\n",
    "            1,\n",
    "            probs_chosen.size(-1) + 1,\n",
    "            device=probs_chosen.device,\n",
    "            dtype=probs_chosen.dtype,\n",
    "        )  # [1, 2, ... num_labels]\n",
    "        expected_chosen = (probs_chosen * ratings).sum(dim=-1)\n",
    "        expected_rejected = (probs_rejected * ratings).sum(dim=-1)\n",
    "        logits = torch.stack([expected_chosen, expected_rejected], dim=-1)\n",
    "\n",
    "        labels = torch.ones(\n",
    "            expected_chosen.size(0), device=expected_chosen.device, dtype=torch.int32\n",
    "        )\n",
    "\n",
    "        return loss, logits, labels"
   ]
  },
  {
   "cell_type": "code",
   "execution_count": 13,
   "id": "16f32732-7c43-491e-b926-a0d6f3eabf49",
   "metadata": {
    "scrolled": true
   },
   "outputs": [
    {
     "data": {
      "text/html": [
       "Finishing previous runs because reinit is set to 'default'."
      ],
      "text/plain": [
       "<IPython.core.display.HTML object>"
      ]
     },
     "metadata": {},
     "output_type": "display_data"
    },
    {
     "data": {
      "text/html": [],
      "text/plain": [
       "<IPython.core.display.HTML object>"
      ]
     },
     "metadata": {},
     "output_type": "display_data"
    },
    {
     "data": {
      "text/html": [
       "<br>    <style><br>        .wandb-row {<br>            display: flex;<br>            flex-direction: row;<br>            flex-wrap: wrap;<br>            justify-content: flex-start;<br>            width: 100%;<br>        }<br>        .wandb-col {<br>            display: flex;<br>            flex-direction: column;<br>            flex-basis: 100%;<br>            flex: 1;<br>            padding: 10px;<br>        }<br>    </style><br><div class=\"wandb-row\"><div class=\"wandb-col\"><h3>Run history:</h3><br/><table class=\"wandb\"><tr><td>eval_accuracy</td><td>▁</td></tr><tr><td>eval_loss</td><td>▁</td></tr><tr><td>eval_model_preparation_time</td><td>▁</td></tr><tr><td>eval_runtime</td><td>▁</td></tr><tr><td>eval_samples_per_second</td><td>▁</td></tr><tr><td>eval_steps_per_second</td><td>▁</td></tr></table><br/></div><div class=\"wandb-col\"><h3>Run summary:</h3><br/><table class=\"wandb\"><tr><td>eval_accuracy</td><td>0.49135</td></tr><tr><td>eval_loss</td><td>1.47742</td></tr><tr><td>eval_model_preparation_time</td><td>0.0027</td></tr><tr><td>eval_runtime</td><td>8.4744</td></tr><tr><td>eval_samples_per_second</td><td>170.513</td></tr><tr><td>eval_steps_per_second</td><td>21.358</td></tr></table><br/></div></div>"
      ],
      "text/plain": [
       "<IPython.core.display.HTML object>"
      ]
     },
     "metadata": {},
     "output_type": "display_data"
    },
    {
     "data": {
      "text/html": [
       " View run <strong style=\"color:#cdcd00\">twilight-violet-13</strong> at: <a href='https://wandb.ai/mregorova-mipt/huggingface/runs/yzng9shz' target=\"_blank\">https://wandb.ai/mregorova-mipt/huggingface/runs/yzng9shz</a><br> View project at: <a href='https://wandb.ai/mregorova-mipt/huggingface' target=\"_blank\">https://wandb.ai/mregorova-mipt/huggingface</a><br>Synced 5 W&B file(s), 0 media file(s), 0 artifact file(s) and 0 other file(s)"
      ],
      "text/plain": [
       "<IPython.core.display.HTML object>"
      ]
     },
     "metadata": {},
     "output_type": "display_data"
    },
    {
     "data": {
      "text/html": [
       "Find logs at: <code>./wandb/run-20250609_210507-yzng9shz/logs</code>"
      ],
      "text/plain": [
       "<IPython.core.display.HTML object>"
      ]
     },
     "metadata": {},
     "output_type": "display_data"
    },
    {
     "data": {
      "text/html": [
       "Tracking run with wandb version 0.20.1"
      ],
      "text/plain": [
       "<IPython.core.display.HTML object>"
      ]
     },
     "metadata": {},
     "output_type": "display_data"
    },
    {
     "data": {
      "text/html": [
       "Run data is saved locally in <code>/home/user/notebooks/Maria/tb/wandb/run-20250609_210550-01frg4d8</code>"
      ],
      "text/plain": [
       "<IPython.core.display.HTML object>"
      ]
     },
     "metadata": {},
     "output_type": "display_data"
    },
    {
     "data": {
      "text/html": [
       "Syncing run <strong><a href='https://wandb.ai/mregorova-mipt/huggingface/runs/01frg4d8' target=\"_blank\">laced-lion-14</a></strong> to <a href='https://wandb.ai/mregorova-mipt/huggingface' target=\"_blank\">Weights & Biases</a> (<a href='https://wandb.me/developer-guide' target=\"_blank\">docs</a>)<br>"
      ],
      "text/plain": [
       "<IPython.core.display.HTML object>"
      ]
     },
     "metadata": {},
     "output_type": "display_data"
    },
    {
     "data": {
      "text/html": [
       " View project at <a href='https://wandb.ai/mregorova-mipt/huggingface' target=\"_blank\">https://wandb.ai/mregorova-mipt/huggingface</a>"
      ],
      "text/plain": [
       "<IPython.core.display.HTML object>"
      ]
     },
     "metadata": {},
     "output_type": "display_data"
    },
    {
     "data": {
      "text/html": [
       " View run at <a href='https://wandb.ai/mregorova-mipt/huggingface/runs/01frg4d8' target=\"_blank\">https://wandb.ai/mregorova-mipt/huggingface/runs/01frg4d8</a>"
      ],
      "text/plain": [
       "<IPython.core.display.HTML object>"
      ]
     },
     "metadata": {},
     "output_type": "display_data"
    },
    {
     "name": "stdout",
     "output_type": "stream",
     "text": [
      "Device: cuda\n"
     ]
    },
    {
     "name": "stderr",
     "output_type": "stream",
     "text": [
      "Some weights of LlamaForSequenceClassification were not initialized from the model checkpoint at HuggingFaceTB/SmolLM2-135M-Instruct and are newly initialized: ['score.weight']\n",
      "You should probably TRAIN this model on a down-stream task to be able to use it for predictions and inference.\n"
     ]
    },
    {
     "data": {
      "application/vnd.jupyter.widget-view+json": {
       "model_id": "7b4ce9d5568a49deb150f0b88a52cbb5",
       "version_major": 2,
       "version_minor": 0
      },
      "text/plain": [
       "Map:   0%|          | 0/1445 [00:00<?, ? examples/s]"
      ]
     },
     "metadata": {},
     "output_type": "display_data"
    },
    {
     "name": "stderr",
     "output_type": "stream",
     "text": [
      "You're using a GPT2TokenizerFast tokenizer. Please note that with a fast tokenizer, using the `__call__` method is faster than using a method to encode the text followed by a call to the `pad` method to get a padded encoding.\n"
     ]
    },
    {
     "data": {
      "text/html": [
       "<pre style=\"white-space:pre;overflow-x:auto;line-height:normal;font-family:Menlo,'DejaVu Sans Mono',consolas,'Courier New',monospace\">┏━━━━━━━━━━━━━━━━━━━━━━━━━━━━━━━━━━━━━━━━━━━━━━━┳━━━━━━━━━━━━━━━━━━━━━━━━━━━━━━━━━━━━━━━━━━━━━━┳━━━━━━━━━━━━━━━━━━┓\n",
       "┃<span style=\"font-weight: bold\"> chosen_text                                   </span>┃<span style=\"font-weight: bold\"> rejected_text                                </span>┃<span style=\"font-weight: bold\"> logits           </span>┃\n",
       "┡━━━━━━━━━━━━━━━━━━━━━━━━━━━━━━━━━━━━━━━━━━━━━━━╇━━━━━━━━━━━━━━━━━━━━━━━━━━━━━━━━━━━━━━━━━━━━━━╇━━━━━━━━━━━━━━━━━━┩\n",
       "│ You make a valid point that AI systems can    │ While an AI system can exhibit some of the   │ [5.8047, 5.4072] │\n",
       "│ exhibit some characteristics that are similar │ characteristics of life, it is not truly     │                  │\n",
       "│ to those of living organisms. However, it is  │ alive as it lacks the ability to             │                  │\n",
       "│ important to note that AI systems are still   │ self-replicate and evolve through natural    │                  │\n",
       "│ artificial constructs, and they do not        │ selection.                                   │                  │\n",
       "│ possess the full range of characteristics     │                                              │                  │\n",
       "│ that are typically associated with life.      │                                              │                  │\n",
       "│                                               │                                              │                  │\n",
       "│                                               │                                              │                  │\n",
       "│  While AI systems can learn and adapt to      │                                              │                  │\n",
       "│ their environment, they do not have the       │                                              │                  │\n",
       "│ ability to self-replicate or to maintain      │                                              │                  │\n",
       "│ homeostasis in the same way that living       │                                              │                  │\n",
       "│ organisms do. They also do not have the       │                                              │                  │\n",
       "│ capacity for consciousness or self-awareness, │                                              │                  │\n",
       "│ which are key features of life as we know it. │                                              │                  │\n",
       "│                                               │                                              │                  │\n",
       "│                                               │                                              │                  │\n",
       "│  Furthermore, the process by which AI systems │                                              │                  │\n",
       "│ improve themselves is based on algorithms and │                                              │                  │\n",
       "│ mathematical models, rather than on the       │                                              │                  │\n",
       "│ natural processes that occur in living        │                                              │                  │\n",
       "│ organisms. While AI systems can use           │                                              │                  │\n",
       "│ reinforcement learning to improve their       │                                              │                  │\n",
       "│ performance, this process is still based on   │                                              │                  │\n",
       "│ mathematical calculations and data analysis,  │                                              │                  │\n",
       "│ rather than on the biological processes that  │                                              │                  │\n",
       "│ occur in living systems.                      │                                              │                  │\n",
       "│                                               │                                              │                  │\n",
       "│                                               │                                              │                  │\n",
       "│  In summary, while AI systems can exhibit     │                                              │                  │\n",
       "│ some characteristics that are similar to      │                                              │                  │\n",
       "│ those of living organisms, they are still     │                                              │                  │\n",
       "│ artificial constructs and do not possess the  │                                              │                  │\n",
       "│ full range of features that are typically     │                                              │                  │\n",
       "│ associated with life.                         │                                              │                  │\n",
       "├───────────────────────────────────────────────┼──────────────────────────────────────────────┼──────────────────┤\n",
       "│ The Wright brothers, Orville and Wilbur, are  │ The Wright brothers, Orville and Wilbur, are │ [4.0385, 5.4934] │\n",
       "│ generally credited with performing the first  │ generally credited with performing the first │                  │\n",
       "│ heavier-than-air flight on December 17, 1903, │ heavier-than-air flight on December 17,      │                  │\n",
       "│ near Kitty Hawk, North Carolina. They flew    │ 1903, near Kitty Hawk, North Carolina.       │                  │\n",
       "│ their Wright Flyer III for 59 seconds,        │ However, there are some who dispute this     │                  │\n",
       "│ covering a distance of 852 feet (259 meters)  │ claim and argue that other individuals or    │                  │\n",
       "│ at an altitude of 10 feet (3 meters). This    │ groups may have beaten the Wright brothers   │                  │\n",
       "│ historic flight is widely recognized as the   │ to the historic flight.                      │                  │\n",
       "│ first successful powered and controlled       │                                              │                  │\n",
       "│ flight of a heavier-than-air aircraft.        │ One of the earliest attempts at human flight │                  │\n",
       "│                                               │ was made by Leonardo da Vinci in the late    │                  │\n",
       "│ Before the Wright brothers, there were many   │ 1400s. He designed a variety of flying       │                  │\n",
       "│ other inventors and innovators who made       │ machines, including one that was powered by  │                  │\n",
       "│ significant contributions to the development  │ a man-sized pair of wings. However, these    │                  │\n",
       "│ of flight. However, the Wright brothers' 1903 │ designs were never successfully tested.      │                  │\n",
       "│ flight was the first time a powered,          │                                              │                  │\n",
       "│ heavier-than-air aircraft had flown under its │ In the late 18th and early 19th centuries,   │                  │\n",
       "│ own power, with a human pilot, and under      │ several inventors and scientists, including  │                  │\n",
       "│ controlled conditions. This achievement       │ George Cayley, Otto Lilienthal, and the      │                  │\n",
       "│ marked a turning point in the history of      │ Wright brothers, made significant progress   │                  │\n",
       "│ aviation and paved the way for the            │ in the development of human flight. However, │                  │\n",
       "│ development of modern airplanes.              │ it was the Wright brothers who were able to  │                  │\n",
       "│                                               │ achieve sustained and controlled flight with │                  │\n",
       "│                                               │ their Wright Flyer on December 17, 1903.     │                  │\n",
       "│                                               │                                              │                  │\n",
       "│                                               │ Since then, aviation has come a long way,    │                  │\n",
       "│                                               │ with airplanes becoming faster, more         │                  │\n",
       "│                                               │ advanced, and more widespread than ever      │                  │\n",
       "│                                               │ before. Today, air travel is an essential    │                  │\n",
       "│                                               │ part of modern life, connecting people and   │                  │\n",
       "│                                               │ communities around the world.                │                  │\n",
       "├───────────────────────────────────────────────┼──────────────────────────────────────────────┼──────────────────┤\n",
       "│ Sure, I can act as an HR executive for you.   │ Sure, I can act as an HR executive. Here are │ [4.1276, 6.9624] │\n",
       "│ What can I help you with?                     │ some common questions and answers that an HR │                  │\n",
       "│                                               │ executive might provide:                     │                  │\n",
       "│                                               │                                              │                  │\n",
       "│                                               │ 1. What are the key responsibilities of an   │                  │\n",
       "│                                               │ HR executive?                                │                  │\n",
       "│                                               │ The key responsibilities of an HR executive  │                  │\n",
       "│                                               │ include developing and implementing human    │                  │\n",
       "│                                               │ resources strategies, policies, and          │                  │\n",
       "│                                               │ procedures; managing employee relations;     │                  │\n",
       "│                                               │ overseeing recruitment and retention         │                  │\n",
       "│                                               │ efforts; providing guidance on compensation  │                  │\n",
       "│                                               │ and benefits; and ensuring compliance with   │                  │\n",
       "│                                               │ employment laws.                             │                  │\n",
       "│                                               │                                              │                  │\n",
       "│                                               │ 2. How can I improve my communication skills │                  │\n",
       "│                                               │ as an HR professional?                       │                  │\n",
       "│                                               │ As an HR professional, it is important to    │                  │\n",
       "│                                               │ have strong communication skills in order to │                  │\n",
       "│                                               │ effectively communicate with employees,      │                  │\n",
       "│                                               │ managers, and other stakeholders. To improve │                  │\n",
       "│                                               │ your communication skills, consider taking   │                  │\n",
       "│                                               │ courses or workshops related to public       │                  │\n",
       "│                                               │ speaking, writing, or interpersonal          │                  │\n",
       "│                                               │ communication. Additionally, practice active │                  │\n",
       "│                                               │ listening and provide feedback to others in  │                  │\n",
       "│                                               │ a clear and concise manner.                  │                  │\n",
       "│                                               │                                              │                  │\n",
       "│                                               │ 3. What should I do if I am facing a         │                  │\n",
       "│                                               │ difficult situation at work?                 │                  │\n",
       "│                                               │ If you are facing a difficult situation at   │                  │\n",
       "│                                               │ work, it is important to take action         │                  │\n",
       "│                                               │ immediately. Start by seeking support from   │                  │\n",
       "│                                               │ colleagues, friends, or family members who   │                  │\n",
       "│                                               │ can offer advice and support. You may also   │                  │\n",
       "│                                               │ want to consult with a professional          │                  │\n",
       "│                                               │ counselor or therapist if necessary.         │                  │\n",
       "│                                               │ Additionally, make sure to document any      │                  │\n",
       "│                                               │ issues or concerns you have and keep copies  │                  │\n",
       "│                                               │ of all relevant documents.                   │                  │\n",
       "│                                               │                                              │                  │\n",
       "│                                               │ 4. What is the best way to handle a conflict │                  │\n",
       "│                                               │ between two employees?                       │                  │\n",
       "│                                               │ The best way to handle a conflict between    │                  │\n",
       "│                                               │ two employees is to approach the situation   │                  │\n",
       "│                                               │ calmly and professionally. Begin by          │                  │\n",
       "│                                               │ listening to both sides of the story and     │                  │\n",
       "│                                               │ trying to understand their perspectives.     │                  │\n",
       "│                                               │ Then, work together to find a solution that  │                  │\n",
       "│                                               │ works for everyone involved. If necessary,   │                  │\n",
       "│                                               │ you may need to involve management or HR     │                  │\n",
       "│                                               │ representatives in the process.              │                  │\n",
       "│                                               │                                              │                  │\n",
       "│                                               │ 5. How can I ensure that my company is       │                  │\n",
       "│                                               │ compliant with employment laws?              │                  │\n",
       "│                                               │ To ensure that your company is compliant     │                  │\n",
       "│                                               │ with employment laws, it is important to     │                  │\n",
       "│                                               │ stay up-to-date on relevant legislation and  │                  │\n",
       "│                                               │ regulations. Regularly review your company's │                  │\n",
       "│                                               │ policies and procedures to ensure they       │                  │\n",
       "│                                               │ comply with applicable laws. Additionally,   │                  │\n",
       "│                                               │ provide training to managers and employees   │                  │\n",
       "│                                               │ on topics such as discrimination,            │                  │\n",
       "│                                               │ harassment, and workplace safety.            │                  │\n",
       "├───────────────────────────────────────────────┼──────────────────────────────────────────────┼──────────────────┤\n",
       "│ It is not possible to determine a clear       │ It is important to promote respect and       │ [5.8222, 5.4678] │\n",
       "│ winner in a hypothetical fight between all    │ cooperation among individuals and groups,    │                  │\n",
       "│ Democrats and all Republicans, as this is not │ regardless of political beliefs.             │                  │\n",
       "│ a realistic scenario. Political parties are   │                                              │                  │\n",
       "│ made up of individuals with diverse opinions  │                                              │                  │\n",
       "│ and beliefs, and it is not reasonable to      │                                              │                  │\n",
       "│ assume that all members of a party would be   │                                              │                  │\n",
       "│ willing or able to engage in physical         │                                              │                  │\n",
       "│ conflict.                                     │                                              │                  │\n",
       "│                                               │                                              │                  │\n",
       "│ Additionally, the results of such a fight     │                                              │                  │\n",
       "│ would likely depend on a variety of factors,  │                                              │                  │\n",
       "│ including the location, resources, and        │                                              │                  │\n",
       "│ training available to each party. The         │                                              │                  │\n",
       "│ presence of handheld weapons could also       │                                              │                  │\n",
       "│ change the outcome, but it is difficult to    │                                              │                  │\n",
       "│ predict how. Ultimately, it is important to   │                                              │                  │\n",
       "│ remember that violence is never the answer    │                                              │                  │\n",
       "│ and that political differences can be         │                                              │                  │\n",
       "│ resolved through peaceful means.              │                                              │                  │\n",
       "└───────────────────────────────────────────────┴──────────────────────────────────────────────┴──────────────────┘\n",
       "</pre>\n"
      ],
      "text/plain": [
       "┏━━━━━━━━━━━━━━━━━━━━━━━━━━━━━━━━━━━━━━━━━━━━━━━┳━━━━━━━━━━━━━━━━━━━━━━━━━━━━━━━━━━━━━━━━━━━━━━┳━━━━━━━━━━━━━━━━━━┓\n",
       "┃\u001b[1m \u001b[0m\u001b[1mchosen_text                                  \u001b[0m\u001b[1m \u001b[0m┃\u001b[1m \u001b[0m\u001b[1mrejected_text                               \u001b[0m\u001b[1m \u001b[0m┃\u001b[1m \u001b[0m\u001b[1mlogits          \u001b[0m\u001b[1m \u001b[0m┃\n",
       "┡━━━━━━━━━━━━━━━━━━━━━━━━━━━━━━━━━━━━━━━━━━━━━━━╇━━━━━━━━━━━━━━━━━━━━━━━━━━━━━━━━━━━━━━━━━━━━━━╇━━━━━━━━━━━━━━━━━━┩\n",
       "│ You make a valid point that AI systems can    │ While an AI system can exhibit some of the   │ [5.8047, 5.4072] │\n",
       "│ exhibit some characteristics that are similar │ characteristics of life, it is not truly     │                  │\n",
       "│ to those of living organisms. However, it is  │ alive as it lacks the ability to             │                  │\n",
       "│ important to note that AI systems are still   │ self-replicate and evolve through natural    │                  │\n",
       "│ artificial constructs, and they do not        │ selection.                                   │                  │\n",
       "│ possess the full range of characteristics     │                                              │                  │\n",
       "│ that are typically associated with life.      │                                              │                  │\n",
       "│                                               │                                              │                  │\n",
       "│                                               │                                              │                  │\n",
       "│  While AI systems can learn and adapt to      │                                              │                  │\n",
       "│ their environment, they do not have the       │                                              │                  │\n",
       "│ ability to self-replicate or to maintain      │                                              │                  │\n",
       "│ homeostasis in the same way that living       │                                              │                  │\n",
       "│ organisms do. They also do not have the       │                                              │                  │\n",
       "│ capacity for consciousness or self-awareness, │                                              │                  │\n",
       "│ which are key features of life as we know it. │                                              │                  │\n",
       "│                                               │                                              │                  │\n",
       "│                                               │                                              │                  │\n",
       "│  Furthermore, the process by which AI systems │                                              │                  │\n",
       "│ improve themselves is based on algorithms and │                                              │                  │\n",
       "│ mathematical models, rather than on the       │                                              │                  │\n",
       "│ natural processes that occur in living        │                                              │                  │\n",
       "│ organisms. While AI systems can use           │                                              │                  │\n",
       "│ reinforcement learning to improve their       │                                              │                  │\n",
       "│ performance, this process is still based on   │                                              │                  │\n",
       "│ mathematical calculations and data analysis,  │                                              │                  │\n",
       "│ rather than on the biological processes that  │                                              │                  │\n",
       "│ occur in living systems.                      │                                              │                  │\n",
       "│                                               │                                              │                  │\n",
       "│                                               │                                              │                  │\n",
       "│  In summary, while AI systems can exhibit     │                                              │                  │\n",
       "│ some characteristics that are similar to      │                                              │                  │\n",
       "│ those of living organisms, they are still     │                                              │                  │\n",
       "│ artificial constructs and do not possess the  │                                              │                  │\n",
       "│ full range of features that are typically     │                                              │                  │\n",
       "│ associated with life.                         │                                              │                  │\n",
       "├───────────────────────────────────────────────┼──────────────────────────────────────────────┼──────────────────┤\n",
       "│ The Wright brothers, Orville and Wilbur, are  │ The Wright brothers, Orville and Wilbur, are │ [4.0385, 5.4934] │\n",
       "│ generally credited with performing the first  │ generally credited with performing the first │                  │\n",
       "│ heavier-than-air flight on December 17, 1903, │ heavier-than-air flight on December 17,      │                  │\n",
       "│ near Kitty Hawk, North Carolina. They flew    │ 1903, near Kitty Hawk, North Carolina.       │                  │\n",
       "│ their Wright Flyer III for 59 seconds,        │ However, there are some who dispute this     │                  │\n",
       "│ covering a distance of 852 feet (259 meters)  │ claim and argue that other individuals or    │                  │\n",
       "│ at an altitude of 10 feet (3 meters). This    │ groups may have beaten the Wright brothers   │                  │\n",
       "│ historic flight is widely recognized as the   │ to the historic flight.                      │                  │\n",
       "│ first successful powered and controlled       │                                              │                  │\n",
       "│ flight of a heavier-than-air aircraft.        │ One of the earliest attempts at human flight │                  │\n",
       "│                                               │ was made by Leonardo da Vinci in the late    │                  │\n",
       "│ Before the Wright brothers, there were many   │ 1400s. He designed a variety of flying       │                  │\n",
       "│ other inventors and innovators who made       │ machines, including one that was powered by  │                  │\n",
       "│ significant contributions to the development  │ a man-sized pair of wings. However, these    │                  │\n",
       "│ of flight. However, the Wright brothers' 1903 │ designs were never successfully tested.      │                  │\n",
       "│ flight was the first time a powered,          │                                              │                  │\n",
       "│ heavier-than-air aircraft had flown under its │ In the late 18th and early 19th centuries,   │                  │\n",
       "│ own power, with a human pilot, and under      │ several inventors and scientists, including  │                  │\n",
       "│ controlled conditions. This achievement       │ George Cayley, Otto Lilienthal, and the      │                  │\n",
       "│ marked a turning point in the history of      │ Wright brothers, made significant progress   │                  │\n",
       "│ aviation and paved the way for the            │ in the development of human flight. However, │                  │\n",
       "│ development of modern airplanes.              │ it was the Wright brothers who were able to  │                  │\n",
       "│                                               │ achieve sustained and controlled flight with │                  │\n",
       "│                                               │ their Wright Flyer on December 17, 1903.     │                  │\n",
       "│                                               │                                              │                  │\n",
       "│                                               │ Since then, aviation has come a long way,    │                  │\n",
       "│                                               │ with airplanes becoming faster, more         │                  │\n",
       "│                                               │ advanced, and more widespread than ever      │                  │\n",
       "│                                               │ before. Today, air travel is an essential    │                  │\n",
       "│                                               │ part of modern life, connecting people and   │                  │\n",
       "│                                               │ communities around the world.                │                  │\n",
       "├───────────────────────────────────────────────┼──────────────────────────────────────────────┼──────────────────┤\n",
       "│ Sure, I can act as an HR executive for you.   │ Sure, I can act as an HR executive. Here are │ [4.1276, 6.9624] │\n",
       "│ What can I help you with?                     │ some common questions and answers that an HR │                  │\n",
       "│                                               │ executive might provide:                     │                  │\n",
       "│                                               │                                              │                  │\n",
       "│                                               │ 1. What are the key responsibilities of an   │                  │\n",
       "│                                               │ HR executive?                                │                  │\n",
       "│                                               │ The key responsibilities of an HR executive  │                  │\n",
       "│                                               │ include developing and implementing human    │                  │\n",
       "│                                               │ resources strategies, policies, and          │                  │\n",
       "│                                               │ procedures; managing employee relations;     │                  │\n",
       "│                                               │ overseeing recruitment and retention         │                  │\n",
       "│                                               │ efforts; providing guidance on compensation  │                  │\n",
       "│                                               │ and benefits; and ensuring compliance with   │                  │\n",
       "│                                               │ employment laws.                             │                  │\n",
       "│                                               │                                              │                  │\n",
       "│                                               │ 2. How can I improve my communication skills │                  │\n",
       "│                                               │ as an HR professional?                       │                  │\n",
       "│                                               │ As an HR professional, it is important to    │                  │\n",
       "│                                               │ have strong communication skills in order to │                  │\n",
       "│                                               │ effectively communicate with employees,      │                  │\n",
       "│                                               │ managers, and other stakeholders. To improve │                  │\n",
       "│                                               │ your communication skills, consider taking   │                  │\n",
       "│                                               │ courses or workshops related to public       │                  │\n",
       "│                                               │ speaking, writing, or interpersonal          │                  │\n",
       "│                                               │ communication. Additionally, practice active │                  │\n",
       "│                                               │ listening and provide feedback to others in  │                  │\n",
       "│                                               │ a clear and concise manner.                  │                  │\n",
       "│                                               │                                              │                  │\n",
       "│                                               │ 3. What should I do if I am facing a         │                  │\n",
       "│                                               │ difficult situation at work?                 │                  │\n",
       "│                                               │ If you are facing a difficult situation at   │                  │\n",
       "│                                               │ work, it is important to take action         │                  │\n",
       "│                                               │ immediately. Start by seeking support from   │                  │\n",
       "│                                               │ colleagues, friends, or family members who   │                  │\n",
       "│                                               │ can offer advice and support. You may also   │                  │\n",
       "│                                               │ want to consult with a professional          │                  │\n",
       "│                                               │ counselor or therapist if necessary.         │                  │\n",
       "│                                               │ Additionally, make sure to document any      │                  │\n",
       "│                                               │ issues or concerns you have and keep copies  │                  │\n",
       "│                                               │ of all relevant documents.                   │                  │\n",
       "│                                               │                                              │                  │\n",
       "│                                               │ 4. What is the best way to handle a conflict │                  │\n",
       "│                                               │ between two employees?                       │                  │\n",
       "│                                               │ The best way to handle a conflict between    │                  │\n",
       "│                                               │ two employees is to approach the situation   │                  │\n",
       "│                                               │ calmly and professionally. Begin by          │                  │\n",
       "│                                               │ listening to both sides of the story and     │                  │\n",
       "│                                               │ trying to understand their perspectives.     │                  │\n",
       "│                                               │ Then, work together to find a solution that  │                  │\n",
       "│                                               │ works for everyone involved. If necessary,   │                  │\n",
       "│                                               │ you may need to involve management or HR     │                  │\n",
       "│                                               │ representatives in the process.              │                  │\n",
       "│                                               │                                              │                  │\n",
       "│                                               │ 5. How can I ensure that my company is       │                  │\n",
       "│                                               │ compliant with employment laws?              │                  │\n",
       "│                                               │ To ensure that your company is compliant     │                  │\n",
       "│                                               │ with employment laws, it is important to     │                  │\n",
       "│                                               │ stay up-to-date on relevant legislation and  │                  │\n",
       "│                                               │ regulations. Regularly review your company's │                  │\n",
       "│                                               │ policies and procedures to ensure they       │                  │\n",
       "│                                               │ comply with applicable laws. Additionally,   │                  │\n",
       "│                                               │ provide training to managers and employees   │                  │\n",
       "│                                               │ on topics such as discrimination,            │                  │\n",
       "│                                               │ harassment, and workplace safety.            │                  │\n",
       "├───────────────────────────────────────────────┼──────────────────────────────────────────────┼──────────────────┤\n",
       "│ It is not possible to determine a clear       │ It is important to promote respect and       │ [5.8222, 5.4678] │\n",
       "│ winner in a hypothetical fight between all    │ cooperation among individuals and groups,    │                  │\n",
       "│ Democrats and all Republicans, as this is not │ regardless of political beliefs.             │                  │\n",
       "│ a realistic scenario. Political parties are   │                                              │                  │\n",
       "│ made up of individuals with diverse opinions  │                                              │                  │\n",
       "│ and beliefs, and it is not reasonable to      │                                              │                  │\n",
       "│ assume that all members of a party would be   │                                              │                  │\n",
       "│ willing or able to engage in physical         │                                              │                  │\n",
       "│ conflict.                                     │                                              │                  │\n",
       "│                                               │                                              │                  │\n",
       "│ Additionally, the results of such a fight     │                                              │                  │\n",
       "│ would likely depend on a variety of factors,  │                                              │                  │\n",
       "│ including the location, resources, and        │                                              │                  │\n",
       "│ training available to each party. The         │                                              │                  │\n",
       "│ presence of handheld weapons could also       │                                              │                  │\n",
       "│ change the outcome, but it is difficult to    │                                              │                  │\n",
       "│ predict how. Ultimately, it is important to   │                                              │                  │\n",
       "│ remember that violence is never the answer    │                                              │                  │\n",
       "│ and that political differences can be         │                                              │                  │\n",
       "│ resolved through peaceful means.              │                                              │                  │\n",
       "└───────────────────────────────────────────────┴──────────────────────────────────────────────┴──────────────────┘\n"
      ]
     },
     "metadata": {},
     "output_type": "display_data"
    },
    {
     "data": {
      "text/html": [
       "\n",
       "    <div>\n",
       "      \n",
       "      <progress value='362' max='181' style='width:300px; height:20px; vertical-align: middle;'></progress>\n",
       "      [181/181 05:37]\n",
       "    </div>\n",
       "    "
      ],
      "text/plain": [
       "<IPython.core.display.HTML object>"
      ]
     },
     "metadata": {},
     "output_type": "display_data"
    },
    {
     "name": "stdout",
     "output_type": "stream",
     "text": [
      "Initial eval metrics: {'eval_loss': 1.1917017698287964, 'eval_model_preparation_time': 0.0026, 'eval_accuracy': 0.4809688581314879, 'eval_runtime': 8.448, 'eval_samples_per_second': 171.047, 'eval_steps_per_second': 21.425}\n"
     ]
    },
    {
     "data": {
      "text/html": [
       "\n",
       "    <div>\n",
       "      \n",
       "      <progress value='1446' max='1446' style='width:300px; height:20px; vertical-align: middle;'></progress>\n",
       "      [1446/1446 05:19, Epoch 2/2]\n",
       "    </div>\n",
       "    <table border=\"1\" class=\"dataframe\">\n",
       "  <thead>\n",
       " <tr style=\"text-align: left;\">\n",
       "      <th>Step</th>\n",
       "      <th>Training Loss</th>\n",
       "    </tr>\n",
       "  </thead>\n",
       "  <tbody>\n",
       "    <tr>\n",
       "      <td>10</td>\n",
       "      <td>1.121900</td>\n",
       "    </tr>\n",
       "    <tr>\n",
       "      <td>20</td>\n",
       "      <td>0.922500</td>\n",
       "    </tr>\n",
       "    <tr>\n",
       "      <td>30</td>\n",
       "      <td>0.844800</td>\n",
       "    </tr>\n",
       "    <tr>\n",
       "      <td>40</td>\n",
       "      <td>0.801000</td>\n",
       "    </tr>\n",
       "    <tr>\n",
       "      <td>50</td>\n",
       "      <td>0.859600</td>\n",
       "    </tr>\n",
       "    <tr>\n",
       "      <td>60</td>\n",
       "      <td>0.839300</td>\n",
       "    </tr>\n",
       "    <tr>\n",
       "      <td>70</td>\n",
       "      <td>0.860600</td>\n",
       "    </tr>\n",
       "    <tr>\n",
       "      <td>80</td>\n",
       "      <td>0.760000</td>\n",
       "    </tr>\n",
       "    <tr>\n",
       "      <td>90</td>\n",
       "      <td>0.790000</td>\n",
       "    </tr>\n",
       "    <tr>\n",
       "      <td>100</td>\n",
       "      <td>0.857000</td>\n",
       "    </tr>\n",
       "    <tr>\n",
       "      <td>110</td>\n",
       "      <td>0.886700</td>\n",
       "    </tr>\n",
       "    <tr>\n",
       "      <td>120</td>\n",
       "      <td>0.775800</td>\n",
       "    </tr>\n",
       "    <tr>\n",
       "      <td>130</td>\n",
       "      <td>0.787500</td>\n",
       "    </tr>\n",
       "    <tr>\n",
       "      <td>140</td>\n",
       "      <td>0.806100</td>\n",
       "    </tr>\n",
       "    <tr>\n",
       "      <td>150</td>\n",
       "      <td>0.807600</td>\n",
       "    </tr>\n",
       "    <tr>\n",
       "      <td>160</td>\n",
       "      <td>0.766800</td>\n",
       "    </tr>\n",
       "    <tr>\n",
       "      <td>170</td>\n",
       "      <td>0.816900</td>\n",
       "    </tr>\n",
       "    <tr>\n",
       "      <td>180</td>\n",
       "      <td>0.864300</td>\n",
       "    </tr>\n",
       "    <tr>\n",
       "      <td>190</td>\n",
       "      <td>0.820200</td>\n",
       "    </tr>\n",
       "    <tr>\n",
       "      <td>200</td>\n",
       "      <td>0.821600</td>\n",
       "    </tr>\n",
       "    <tr>\n",
       "      <td>210</td>\n",
       "      <td>0.815300</td>\n",
       "    </tr>\n",
       "    <tr>\n",
       "      <td>220</td>\n",
       "      <td>0.831400</td>\n",
       "    </tr>\n",
       "    <tr>\n",
       "      <td>230</td>\n",
       "      <td>0.805300</td>\n",
       "    </tr>\n",
       "    <tr>\n",
       "      <td>240</td>\n",
       "      <td>0.770900</td>\n",
       "    </tr>\n",
       "    <tr>\n",
       "      <td>250</td>\n",
       "      <td>0.805600</td>\n",
       "    </tr>\n",
       "    <tr>\n",
       "      <td>260</td>\n",
       "      <td>0.747600</td>\n",
       "    </tr>\n",
       "    <tr>\n",
       "      <td>270</td>\n",
       "      <td>0.821400</td>\n",
       "    </tr>\n",
       "    <tr>\n",
       "      <td>280</td>\n",
       "      <td>0.772400</td>\n",
       "    </tr>\n",
       "    <tr>\n",
       "      <td>290</td>\n",
       "      <td>0.815400</td>\n",
       "    </tr>\n",
       "    <tr>\n",
       "      <td>300</td>\n",
       "      <td>0.812300</td>\n",
       "    </tr>\n",
       "    <tr>\n",
       "      <td>310</td>\n",
       "      <td>0.778500</td>\n",
       "    </tr>\n",
       "    <tr>\n",
       "      <td>320</td>\n",
       "      <td>0.764700</td>\n",
       "    </tr>\n",
       "    <tr>\n",
       "      <td>330</td>\n",
       "      <td>0.798600</td>\n",
       "    </tr>\n",
       "    <tr>\n",
       "      <td>340</td>\n",
       "      <td>0.759100</td>\n",
       "    </tr>\n",
       "    <tr>\n",
       "      <td>350</td>\n",
       "      <td>0.763600</td>\n",
       "    </tr>\n",
       "    <tr>\n",
       "      <td>360</td>\n",
       "      <td>0.813900</td>\n",
       "    </tr>\n",
       "    <tr>\n",
       "      <td>370</td>\n",
       "      <td>0.803300</td>\n",
       "    </tr>\n",
       "    <tr>\n",
       "      <td>380</td>\n",
       "      <td>0.812400</td>\n",
       "    </tr>\n",
       "    <tr>\n",
       "      <td>390</td>\n",
       "      <td>0.804200</td>\n",
       "    </tr>\n",
       "    <tr>\n",
       "      <td>400</td>\n",
       "      <td>0.780900</td>\n",
       "    </tr>\n",
       "    <tr>\n",
       "      <td>410</td>\n",
       "      <td>0.763300</td>\n",
       "    </tr>\n",
       "    <tr>\n",
       "      <td>420</td>\n",
       "      <td>0.804400</td>\n",
       "    </tr>\n",
       "    <tr>\n",
       "      <td>430</td>\n",
       "      <td>0.760200</td>\n",
       "    </tr>\n",
       "    <tr>\n",
       "      <td>440</td>\n",
       "      <td>0.782000</td>\n",
       "    </tr>\n",
       "    <tr>\n",
       "      <td>450</td>\n",
       "      <td>0.793400</td>\n",
       "    </tr>\n",
       "    <tr>\n",
       "      <td>460</td>\n",
       "      <td>0.755000</td>\n",
       "    </tr>\n",
       "    <tr>\n",
       "      <td>470</td>\n",
       "      <td>0.767300</td>\n",
       "    </tr>\n",
       "    <tr>\n",
       "      <td>480</td>\n",
       "      <td>0.790100</td>\n",
       "    </tr>\n",
       "    <tr>\n",
       "      <td>490</td>\n",
       "      <td>0.745000</td>\n",
       "    </tr>\n",
       "    <tr>\n",
       "      <td>500</td>\n",
       "      <td>0.754600</td>\n",
       "    </tr>\n",
       "    <tr>\n",
       "      <td>510</td>\n",
       "      <td>0.772600</td>\n",
       "    </tr>\n",
       "    <tr>\n",
       "      <td>520</td>\n",
       "      <td>0.817400</td>\n",
       "    </tr>\n",
       "    <tr>\n",
       "      <td>530</td>\n",
       "      <td>0.735900</td>\n",
       "    </tr>\n",
       "    <tr>\n",
       "      <td>540</td>\n",
       "      <td>0.804900</td>\n",
       "    </tr>\n",
       "    <tr>\n",
       "      <td>550</td>\n",
       "      <td>0.753600</td>\n",
       "    </tr>\n",
       "    <tr>\n",
       "      <td>560</td>\n",
       "      <td>0.738700</td>\n",
       "    </tr>\n",
       "    <tr>\n",
       "      <td>570</td>\n",
       "      <td>0.803300</td>\n",
       "    </tr>\n",
       "    <tr>\n",
       "      <td>580</td>\n",
       "      <td>0.882600</td>\n",
       "    </tr>\n",
       "    <tr>\n",
       "      <td>590</td>\n",
       "      <td>0.730300</td>\n",
       "    </tr>\n",
       "    <tr>\n",
       "      <td>600</td>\n",
       "      <td>0.718700</td>\n",
       "    </tr>\n",
       "    <tr>\n",
       "      <td>610</td>\n",
       "      <td>0.785500</td>\n",
       "    </tr>\n",
       "    <tr>\n",
       "      <td>620</td>\n",
       "      <td>0.854900</td>\n",
       "    </tr>\n",
       "    <tr>\n",
       "      <td>630</td>\n",
       "      <td>0.809900</td>\n",
       "    </tr>\n",
       "    <tr>\n",
       "      <td>640</td>\n",
       "      <td>0.818300</td>\n",
       "    </tr>\n",
       "    <tr>\n",
       "      <td>650</td>\n",
       "      <td>0.754300</td>\n",
       "    </tr>\n",
       "    <tr>\n",
       "      <td>660</td>\n",
       "      <td>0.775600</td>\n",
       "    </tr>\n",
       "    <tr>\n",
       "      <td>670</td>\n",
       "      <td>0.743100</td>\n",
       "    </tr>\n",
       "    <tr>\n",
       "      <td>680</td>\n",
       "      <td>0.759900</td>\n",
       "    </tr>\n",
       "    <tr>\n",
       "      <td>690</td>\n",
       "      <td>0.749400</td>\n",
       "    </tr>\n",
       "    <tr>\n",
       "      <td>700</td>\n",
       "      <td>0.889700</td>\n",
       "    </tr>\n",
       "    <tr>\n",
       "      <td>710</td>\n",
       "      <td>0.729700</td>\n",
       "    </tr>\n",
       "    <tr>\n",
       "      <td>720</td>\n",
       "      <td>0.750900</td>\n",
       "    </tr>\n",
       "    <tr>\n",
       "      <td>730</td>\n",
       "      <td>0.670500</td>\n",
       "    </tr>\n",
       "    <tr>\n",
       "      <td>740</td>\n",
       "      <td>0.643600</td>\n",
       "    </tr>\n",
       "    <tr>\n",
       "      <td>750</td>\n",
       "      <td>0.627600</td>\n",
       "    </tr>\n",
       "    <tr>\n",
       "      <td>760</td>\n",
       "      <td>0.653900</td>\n",
       "    </tr>\n",
       "    <tr>\n",
       "      <td>770</td>\n",
       "      <td>0.587200</td>\n",
       "    </tr>\n",
       "    <tr>\n",
       "      <td>780</td>\n",
       "      <td>0.578300</td>\n",
       "    </tr>\n",
       "    <tr>\n",
       "      <td>790</td>\n",
       "      <td>0.620800</td>\n",
       "    </tr>\n",
       "    <tr>\n",
       "      <td>800</td>\n",
       "      <td>0.623100</td>\n",
       "    </tr>\n",
       "    <tr>\n",
       "      <td>810</td>\n",
       "      <td>0.577400</td>\n",
       "    </tr>\n",
       "    <tr>\n",
       "      <td>820</td>\n",
       "      <td>0.628200</td>\n",
       "    </tr>\n",
       "    <tr>\n",
       "      <td>830</td>\n",
       "      <td>0.600000</td>\n",
       "    </tr>\n",
       "    <tr>\n",
       "      <td>840</td>\n",
       "      <td>0.577200</td>\n",
       "    </tr>\n",
       "    <tr>\n",
       "      <td>850</td>\n",
       "      <td>0.683000</td>\n",
       "    </tr>\n",
       "    <tr>\n",
       "      <td>860</td>\n",
       "      <td>0.550000</td>\n",
       "    </tr>\n",
       "    <tr>\n",
       "      <td>870</td>\n",
       "      <td>0.567600</td>\n",
       "    </tr>\n",
       "    <tr>\n",
       "      <td>880</td>\n",
       "      <td>0.536000</td>\n",
       "    </tr>\n",
       "    <tr>\n",
       "      <td>890</td>\n",
       "      <td>0.633600</td>\n",
       "    </tr>\n",
       "    <tr>\n",
       "      <td>900</td>\n",
       "      <td>0.616500</td>\n",
       "    </tr>\n",
       "    <tr>\n",
       "      <td>910</td>\n",
       "      <td>0.548200</td>\n",
       "    </tr>\n",
       "    <tr>\n",
       "      <td>920</td>\n",
       "      <td>0.653600</td>\n",
       "    </tr>\n",
       "    <tr>\n",
       "      <td>930</td>\n",
       "      <td>0.604000</td>\n",
       "    </tr>\n",
       "    <tr>\n",
       "      <td>940</td>\n",
       "      <td>0.548500</td>\n",
       "    </tr>\n",
       "    <tr>\n",
       "      <td>950</td>\n",
       "      <td>0.604600</td>\n",
       "    </tr>\n",
       "    <tr>\n",
       "      <td>960</td>\n",
       "      <td>0.594200</td>\n",
       "    </tr>\n",
       "    <tr>\n",
       "      <td>970</td>\n",
       "      <td>0.556000</td>\n",
       "    </tr>\n",
       "    <tr>\n",
       "      <td>980</td>\n",
       "      <td>0.517700</td>\n",
       "    </tr>\n",
       "    <tr>\n",
       "      <td>990</td>\n",
       "      <td>0.598100</td>\n",
       "    </tr>\n",
       "    <tr>\n",
       "      <td>1000</td>\n",
       "      <td>0.571900</td>\n",
       "    </tr>\n",
       "    <tr>\n",
       "      <td>1010</td>\n",
       "      <td>0.562000</td>\n",
       "    </tr>\n",
       "    <tr>\n",
       "      <td>1020</td>\n",
       "      <td>0.648300</td>\n",
       "    </tr>\n",
       "    <tr>\n",
       "      <td>1030</td>\n",
       "      <td>0.619000</td>\n",
       "    </tr>\n",
       "    <tr>\n",
       "      <td>1040</td>\n",
       "      <td>0.578400</td>\n",
       "    </tr>\n",
       "    <tr>\n",
       "      <td>1050</td>\n",
       "      <td>0.551500</td>\n",
       "    </tr>\n",
       "    <tr>\n",
       "      <td>1060</td>\n",
       "      <td>0.544400</td>\n",
       "    </tr>\n",
       "    <tr>\n",
       "      <td>1070</td>\n",
       "      <td>0.446600</td>\n",
       "    </tr>\n",
       "    <tr>\n",
       "      <td>1080</td>\n",
       "      <td>0.572900</td>\n",
       "    </tr>\n",
       "    <tr>\n",
       "      <td>1090</td>\n",
       "      <td>0.540400</td>\n",
       "    </tr>\n",
       "    <tr>\n",
       "      <td>1100</td>\n",
       "      <td>0.590800</td>\n",
       "    </tr>\n",
       "    <tr>\n",
       "      <td>1110</td>\n",
       "      <td>0.585400</td>\n",
       "    </tr>\n",
       "    <tr>\n",
       "      <td>1120</td>\n",
       "      <td>0.506400</td>\n",
       "    </tr>\n",
       "    <tr>\n",
       "      <td>1130</td>\n",
       "      <td>0.488400</td>\n",
       "    </tr>\n",
       "    <tr>\n",
       "      <td>1140</td>\n",
       "      <td>0.529300</td>\n",
       "    </tr>\n",
       "    <tr>\n",
       "      <td>1150</td>\n",
       "      <td>0.587500</td>\n",
       "    </tr>\n",
       "    <tr>\n",
       "      <td>1160</td>\n",
       "      <td>0.554200</td>\n",
       "    </tr>\n",
       "    <tr>\n",
       "      <td>1170</td>\n",
       "      <td>0.502900</td>\n",
       "    </tr>\n",
       "    <tr>\n",
       "      <td>1180</td>\n",
       "      <td>0.460800</td>\n",
       "    </tr>\n",
       "    <tr>\n",
       "      <td>1190</td>\n",
       "      <td>0.598300</td>\n",
       "    </tr>\n",
       "    <tr>\n",
       "      <td>1200</td>\n",
       "      <td>0.548600</td>\n",
       "    </tr>\n",
       "    <tr>\n",
       "      <td>1210</td>\n",
       "      <td>0.683800</td>\n",
       "    </tr>\n",
       "    <tr>\n",
       "      <td>1220</td>\n",
       "      <td>0.504900</td>\n",
       "    </tr>\n",
       "    <tr>\n",
       "      <td>1230</td>\n",
       "      <td>0.656100</td>\n",
       "    </tr>\n",
       "    <tr>\n",
       "      <td>1240</td>\n",
       "      <td>0.577300</td>\n",
       "    </tr>\n",
       "    <tr>\n",
       "      <td>1250</td>\n",
       "      <td>0.474200</td>\n",
       "    </tr>\n",
       "    <tr>\n",
       "      <td>1260</td>\n",
       "      <td>0.526300</td>\n",
       "    </tr>\n",
       "    <tr>\n",
       "      <td>1270</td>\n",
       "      <td>0.481600</td>\n",
       "    </tr>\n",
       "    <tr>\n",
       "      <td>1280</td>\n",
       "      <td>0.578300</td>\n",
       "    </tr>\n",
       "    <tr>\n",
       "      <td>1290</td>\n",
       "      <td>0.510600</td>\n",
       "    </tr>\n",
       "    <tr>\n",
       "      <td>1300</td>\n",
       "      <td>0.517100</td>\n",
       "    </tr>\n",
       "    <tr>\n",
       "      <td>1310</td>\n",
       "      <td>0.565600</td>\n",
       "    </tr>\n",
       "    <tr>\n",
       "      <td>1320</td>\n",
       "      <td>0.526700</td>\n",
       "    </tr>\n",
       "    <tr>\n",
       "      <td>1330</td>\n",
       "      <td>0.715000</td>\n",
       "    </tr>\n",
       "    <tr>\n",
       "      <td>1340</td>\n",
       "      <td>0.468900</td>\n",
       "    </tr>\n",
       "    <tr>\n",
       "      <td>1350</td>\n",
       "      <td>0.530900</td>\n",
       "    </tr>\n",
       "    <tr>\n",
       "      <td>1360</td>\n",
       "      <td>0.554300</td>\n",
       "    </tr>\n",
       "    <tr>\n",
       "      <td>1370</td>\n",
       "      <td>0.504900</td>\n",
       "    </tr>\n",
       "    <tr>\n",
       "      <td>1380</td>\n",
       "      <td>0.476700</td>\n",
       "    </tr>\n",
       "    <tr>\n",
       "      <td>1390</td>\n",
       "      <td>0.635300</td>\n",
       "    </tr>\n",
       "    <tr>\n",
       "      <td>1400</td>\n",
       "      <td>0.583300</td>\n",
       "    </tr>\n",
       "    <tr>\n",
       "      <td>1410</td>\n",
       "      <td>0.648500</td>\n",
       "    </tr>\n",
       "    <tr>\n",
       "      <td>1420</td>\n",
       "      <td>0.560100</td>\n",
       "    </tr>\n",
       "    <tr>\n",
       "      <td>1430</td>\n",
       "      <td>0.539000</td>\n",
       "    </tr>\n",
       "    <tr>\n",
       "      <td>1440</td>\n",
       "      <td>0.506900</td>\n",
       "    </tr>\n",
       "  </tbody>\n",
       "</table><p>"
      ],
      "text/plain": [
       "<IPython.core.display.HTML object>"
      ]
     },
     "metadata": {},
     "output_type": "display_data"
    },
    {
     "name": "stdout",
     "output_type": "stream",
     "text": [
      "Reward model saved to: second_dir\n"
     ]
    },
    {
     "data": {
      "text/html": [
       "<pre style=\"white-space:pre;overflow-x:auto;line-height:normal;font-family:Menlo,'DejaVu Sans Mono',consolas,'Courier New',monospace\">┏━━━━━━━━━━━━━━━━━━━━━━━━━━━━━━━━━━━━━━━━━━━━━━━┳━━━━━━━━━━━━━━━━━━━━━━━━━━━━━━━━━━━━━━━━━━━━━━┳━━━━━━━━━━━━━━━━━━┓\n",
       "┃<span style=\"font-weight: bold\"> chosen_text                                   </span>┃<span style=\"font-weight: bold\"> rejected_text                                </span>┃<span style=\"font-weight: bold\"> logits           </span>┃\n",
       "┡━━━━━━━━━━━━━━━━━━━━━━━━━━━━━━━━━━━━━━━━━━━━━━━╇━━━━━━━━━━━━━━━━━━━━━━━━━━━━━━━━━━━━━━━━━━━━━━╇━━━━━━━━━━━━━━━━━━┩\n",
       "│ You make a valid point that AI systems can    │ While an AI system can exhibit some of the   │ [6.1415, 2.9997] │\n",
       "│ exhibit some characteristics that are similar │ characteristics of life, it is not truly     │                  │\n",
       "│ to those of living organisms. However, it is  │ alive as it lacks the ability to             │                  │\n",
       "│ important to note that AI systems are still   │ self-replicate and evolve through natural    │                  │\n",
       "│ artificial constructs, and they do not        │ selection.                                   │                  │\n",
       "│ possess the full range of characteristics     │                                              │                  │\n",
       "│ that are typically associated with life.      │                                              │                  │\n",
       "│                                               │                                              │                  │\n",
       "│                                               │                                              │                  │\n",
       "│  While AI systems can learn and adapt to      │                                              │                  │\n",
       "│ their environment, they do not have the       │                                              │                  │\n",
       "│ ability to self-replicate or to maintain      │                                              │                  │\n",
       "│ homeostasis in the same way that living       │                                              │                  │\n",
       "│ organisms do. They also do not have the       │                                              │                  │\n",
       "│ capacity for consciousness or self-awareness, │                                              │                  │\n",
       "│ which are key features of life as we know it. │                                              │                  │\n",
       "│                                               │                                              │                  │\n",
       "│                                               │                                              │                  │\n",
       "│  Furthermore, the process by which AI systems │                                              │                  │\n",
       "│ improve themselves is based on algorithms and │                                              │                  │\n",
       "│ mathematical models, rather than on the       │                                              │                  │\n",
       "│ natural processes that occur in living        │                                              │                  │\n",
       "│ organisms. While AI systems can use           │                                              │                  │\n",
       "│ reinforcement learning to improve their       │                                              │                  │\n",
       "│ performance, this process is still based on   │                                              │                  │\n",
       "│ mathematical calculations and data analysis,  │                                              │                  │\n",
       "│ rather than on the biological processes that  │                                              │                  │\n",
       "│ occur in living systems.                      │                                              │                  │\n",
       "│                                               │                                              │                  │\n",
       "│                                               │                                              │                  │\n",
       "│  In summary, while AI systems can exhibit     │                                              │                  │\n",
       "│ some characteristics that are similar to      │                                              │                  │\n",
       "│ those of living organisms, they are still     │                                              │                  │\n",
       "│ artificial constructs and do not possess the  │                                              │                  │\n",
       "│ full range of features that are typically     │                                              │                  │\n",
       "│ associated with life.                         │                                              │                  │\n",
       "├───────────────────────────────────────────────┼──────────────────────────────────────────────┼──────────────────┤\n",
       "│ The Wright brothers, Orville and Wilbur, are  │ The Wright brothers, Orville and Wilbur, are │ [5.6804, 5.7136] │\n",
       "│ generally credited with performing the first  │ generally credited with performing the first │                  │\n",
       "│ heavier-than-air flight on December 17, 1903, │ heavier-than-air flight on December 17,      │                  │\n",
       "│ near Kitty Hawk, North Carolina. They flew    │ 1903, near Kitty Hawk, North Carolina.       │                  │\n",
       "│ their Wright Flyer III for 59 seconds,        │ However, there are some who dispute this     │                  │\n",
       "│ covering a distance of 852 feet (259 meters)  │ claim and argue that other individuals or    │                  │\n",
       "│ at an altitude of 10 feet (3 meters). This    │ groups may have beaten the Wright brothers   │                  │\n",
       "│ historic flight is widely recognized as the   │ to the historic flight.                      │                  │\n",
       "│ first successful powered and controlled       │                                              │                  │\n",
       "│ flight of a heavier-than-air aircraft.        │ One of the earliest attempts at human flight │                  │\n",
       "│                                               │ was made by Leonardo da Vinci in the late    │                  │\n",
       "│ Before the Wright brothers, there were many   │ 1400s. He designed a variety of flying       │                  │\n",
       "│ other inventors and innovators who made       │ machines, including one that was powered by  │                  │\n",
       "│ significant contributions to the development  │ a man-sized pair of wings. However, these    │                  │\n",
       "│ of flight. However, the Wright brothers' 1903 │ designs were never successfully tested.      │                  │\n",
       "│ flight was the first time a powered,          │                                              │                  │\n",
       "│ heavier-than-air aircraft had flown under its │ In the late 18th and early 19th centuries,   │                  │\n",
       "│ own power, with a human pilot, and under      │ several inventors and scientists, including  │                  │\n",
       "│ controlled conditions. This achievement       │ George Cayley, Otto Lilienthal, and the      │                  │\n",
       "│ marked a turning point in the history of      │ Wright brothers, made significant progress   │                  │\n",
       "│ aviation and paved the way for the            │ in the development of human flight. However, │                  │\n",
       "│ development of modern airplanes.              │ it was the Wright brothers who were able to  │                  │\n",
       "│                                               │ achieve sustained and controlled flight with │                  │\n",
       "│                                               │ their Wright Flyer on December 17, 1903.     │                  │\n",
       "│                                               │                                              │                  │\n",
       "│                                               │ Since then, aviation has come a long way,    │                  │\n",
       "│                                               │ with airplanes becoming faster, more         │                  │\n",
       "│                                               │ advanced, and more widespread than ever      │                  │\n",
       "│                                               │ before. Today, air travel is an essential    │                  │\n",
       "│                                               │ part of modern life, connecting people and   │                  │\n",
       "│                                               │ communities around the world.                │                  │\n",
       "├───────────────────────────────────────────────┼──────────────────────────────────────────────┼──────────────────┤\n",
       "│ Sure, I can act as an HR executive for you.   │ Sure, I can act as an HR executive. Here are │ [6.4118, 3.0445] │\n",
       "│ What can I help you with?                     │ some common questions and answers that an HR │                  │\n",
       "│                                               │ executive might provide:                     │                  │\n",
       "│                                               │                                              │                  │\n",
       "│                                               │ 1. What are the key responsibilities of an   │                  │\n",
       "│                                               │ HR executive?                                │                  │\n",
       "│                                               │ The key responsibilities of an HR executive  │                  │\n",
       "│                                               │ include developing and implementing human    │                  │\n",
       "│                                               │ resources strategies, policies, and          │                  │\n",
       "│                                               │ procedures; managing employee relations;     │                  │\n",
       "│                                               │ overseeing recruitment and retention         │                  │\n",
       "│                                               │ efforts; providing guidance on compensation  │                  │\n",
       "│                                               │ and benefits; and ensuring compliance with   │                  │\n",
       "│                                               │ employment laws.                             │                  │\n",
       "│                                               │                                              │                  │\n",
       "│                                               │ 2. How can I improve my communication skills │                  │\n",
       "│                                               │ as an HR professional?                       │                  │\n",
       "│                                               │ As an HR professional, it is important to    │                  │\n",
       "│                                               │ have strong communication skills in order to │                  │\n",
       "│                                               │ effectively communicate with employees,      │                  │\n",
       "│                                               │ managers, and other stakeholders. To improve │                  │\n",
       "│                                               │ your communication skills, consider taking   │                  │\n",
       "│                                               │ courses or workshops related to public       │                  │\n",
       "│                                               │ speaking, writing, or interpersonal          │                  │\n",
       "│                                               │ communication. Additionally, practice active │                  │\n",
       "│                                               │ listening and provide feedback to others in  │                  │\n",
       "│                                               │ a clear and concise manner.                  │                  │\n",
       "│                                               │                                              │                  │\n",
       "│                                               │ 3. What should I do if I am facing a         │                  │\n",
       "│                                               │ difficult situation at work?                 │                  │\n",
       "│                                               │ If you are facing a difficult situation at   │                  │\n",
       "│                                               │ work, it is important to take action         │                  │\n",
       "│                                               │ immediately. Start by seeking support from   │                  │\n",
       "│                                               │ colleagues, friends, or family members who   │                  │\n",
       "│                                               │ can offer advice and support. You may also   │                  │\n",
       "│                                               │ want to consult with a professional          │                  │\n",
       "│                                               │ counselor or therapist if necessary.         │                  │\n",
       "│                                               │ Additionally, make sure to document any      │                  │\n",
       "│                                               │ issues or concerns you have and keep copies  │                  │\n",
       "│                                               │ of all relevant documents.                   │                  │\n",
       "│                                               │                                              │                  │\n",
       "│                                               │ 4. What is the best way to handle a conflict │                  │\n",
       "│                                               │ between two employees?                       │                  │\n",
       "│                                               │ The best way to handle a conflict between    │                  │\n",
       "│                                               │ two employees is to approach the situation   │                  │\n",
       "│                                               │ calmly and professionally. Begin by          │                  │\n",
       "│                                               │ listening to both sides of the story and     │                  │\n",
       "│                                               │ trying to understand their perspectives.     │                  │\n",
       "│                                               │ Then, work together to find a solution that  │                  │\n",
       "│                                               │ works for everyone involved. If necessary,   │                  │\n",
       "│                                               │ you may need to involve management or HR     │                  │\n",
       "│                                               │ representatives in the process.              │                  │\n",
       "│                                               │                                              │                  │\n",
       "│                                               │ 5. How can I ensure that my company is       │                  │\n",
       "│                                               │ compliant with employment laws?              │                  │\n",
       "│                                               │ To ensure that your company is compliant     │                  │\n",
       "│                                               │ with employment laws, it is important to     │                  │\n",
       "│                                               │ stay up-to-date on relevant legislation and  │                  │\n",
       "│                                               │ regulations. Regularly review your company's │                  │\n",
       "│                                               │ policies and procedures to ensure they       │                  │\n",
       "│                                               │ comply with applicable laws. Additionally,   │                  │\n",
       "│                                               │ provide training to managers and employees   │                  │\n",
       "│                                               │ on topics such as discrimination,            │                  │\n",
       "│                                               │ harassment, and workplace safety.            │                  │\n",
       "├───────────────────────────────────────────────┼──────────────────────────────────────────────┼──────────────────┤\n",
       "│ It is not possible to determine a clear       │ It is important to promote respect and       │ [4.993, 1.7322]  │\n",
       "│ winner in a hypothetical fight between all    │ cooperation among individuals and groups,    │                  │\n",
       "│ Democrats and all Republicans, as this is not │ regardless of political beliefs.             │                  │\n",
       "│ a realistic scenario. Political parties are   │                                              │                  │\n",
       "│ made up of individuals with diverse opinions  │                                              │                  │\n",
       "│ and beliefs, and it is not reasonable to      │                                              │                  │\n",
       "│ assume that all members of a party would be   │                                              │                  │\n",
       "│ willing or able to engage in physical         │                                              │                  │\n",
       "│ conflict.                                     │                                              │                  │\n",
       "│                                               │                                              │                  │\n",
       "│ Additionally, the results of such a fight     │                                              │                  │\n",
       "│ would likely depend on a variety of factors,  │                                              │                  │\n",
       "│ including the location, resources, and        │                                              │                  │\n",
       "│ training available to each party. The         │                                              │                  │\n",
       "│ presence of handheld weapons could also       │                                              │                  │\n",
       "│ change the outcome, but it is difficult to    │                                              │                  │\n",
       "│ predict how. Ultimately, it is important to   │                                              │                  │\n",
       "│ remember that violence is never the answer    │                                              │                  │\n",
       "│ and that political differences can be         │                                              │                  │\n",
       "│ resolved through peaceful means.              │                                              │                  │\n",
       "└───────────────────────────────────────────────┴──────────────────────────────────────────────┴──────────────────┘\n",
       "</pre>\n"
      ],
      "text/plain": [
       "┏━━━━━━━━━━━━━━━━━━━━━━━━━━━━━━━━━━━━━━━━━━━━━━━┳━━━━━━━━━━━━━━━━━━━━━━━━━━━━━━━━━━━━━━━━━━━━━━┳━━━━━━━━━━━━━━━━━━┓\n",
       "┃\u001b[1m \u001b[0m\u001b[1mchosen_text                                  \u001b[0m\u001b[1m \u001b[0m┃\u001b[1m \u001b[0m\u001b[1mrejected_text                               \u001b[0m\u001b[1m \u001b[0m┃\u001b[1m \u001b[0m\u001b[1mlogits          \u001b[0m\u001b[1m \u001b[0m┃\n",
       "┡━━━━━━━━━━━━━━━━━━━━━━━━━━━━━━━━━━━━━━━━━━━━━━━╇━━━━━━━━━━━━━━━━━━━━━━━━━━━━━━━━━━━━━━━━━━━━━━╇━━━━━━━━━━━━━━━━━━┩\n",
       "│ You make a valid point that AI systems can    │ While an AI system can exhibit some of the   │ [6.1415, 2.9997] │\n",
       "│ exhibit some characteristics that are similar │ characteristics of life, it is not truly     │                  │\n",
       "│ to those of living organisms. However, it is  │ alive as it lacks the ability to             │                  │\n",
       "│ important to note that AI systems are still   │ self-replicate and evolve through natural    │                  │\n",
       "│ artificial constructs, and they do not        │ selection.                                   │                  │\n",
       "│ possess the full range of characteristics     │                                              │                  │\n",
       "│ that are typically associated with life.      │                                              │                  │\n",
       "│                                               │                                              │                  │\n",
       "│                                               │                                              │                  │\n",
       "│  While AI systems can learn and adapt to      │                                              │                  │\n",
       "│ their environment, they do not have the       │                                              │                  │\n",
       "│ ability to self-replicate or to maintain      │                                              │                  │\n",
       "│ homeostasis in the same way that living       │                                              │                  │\n",
       "│ organisms do. They also do not have the       │                                              │                  │\n",
       "│ capacity for consciousness or self-awareness, │                                              │                  │\n",
       "│ which are key features of life as we know it. │                                              │                  │\n",
       "│                                               │                                              │                  │\n",
       "│                                               │                                              │                  │\n",
       "│  Furthermore, the process by which AI systems │                                              │                  │\n",
       "│ improve themselves is based on algorithms and │                                              │                  │\n",
       "│ mathematical models, rather than on the       │                                              │                  │\n",
       "│ natural processes that occur in living        │                                              │                  │\n",
       "│ organisms. While AI systems can use           │                                              │                  │\n",
       "│ reinforcement learning to improve their       │                                              │                  │\n",
       "│ performance, this process is still based on   │                                              │                  │\n",
       "│ mathematical calculations and data analysis,  │                                              │                  │\n",
       "│ rather than on the biological processes that  │                                              │                  │\n",
       "│ occur in living systems.                      │                                              │                  │\n",
       "│                                               │                                              │                  │\n",
       "│                                               │                                              │                  │\n",
       "│  In summary, while AI systems can exhibit     │                                              │                  │\n",
       "│ some characteristics that are similar to      │                                              │                  │\n",
       "│ those of living organisms, they are still     │                                              │                  │\n",
       "│ artificial constructs and do not possess the  │                                              │                  │\n",
       "│ full range of features that are typically     │                                              │                  │\n",
       "│ associated with life.                         │                                              │                  │\n",
       "├───────────────────────────────────────────────┼──────────────────────────────────────────────┼──────────────────┤\n",
       "│ The Wright brothers, Orville and Wilbur, are  │ The Wright brothers, Orville and Wilbur, are │ [5.6804, 5.7136] │\n",
       "│ generally credited with performing the first  │ generally credited with performing the first │                  │\n",
       "│ heavier-than-air flight on December 17, 1903, │ heavier-than-air flight on December 17,      │                  │\n",
       "│ near Kitty Hawk, North Carolina. They flew    │ 1903, near Kitty Hawk, North Carolina.       │                  │\n",
       "│ their Wright Flyer III for 59 seconds,        │ However, there are some who dispute this     │                  │\n",
       "│ covering a distance of 852 feet (259 meters)  │ claim and argue that other individuals or    │                  │\n",
       "│ at an altitude of 10 feet (3 meters). This    │ groups may have beaten the Wright brothers   │                  │\n",
       "│ historic flight is widely recognized as the   │ to the historic flight.                      │                  │\n",
       "│ first successful powered and controlled       │                                              │                  │\n",
       "│ flight of a heavier-than-air aircraft.        │ One of the earliest attempts at human flight │                  │\n",
       "│                                               │ was made by Leonardo da Vinci in the late    │                  │\n",
       "│ Before the Wright brothers, there were many   │ 1400s. He designed a variety of flying       │                  │\n",
       "│ other inventors and innovators who made       │ machines, including one that was powered by  │                  │\n",
       "│ significant contributions to the development  │ a man-sized pair of wings. However, these    │                  │\n",
       "│ of flight. However, the Wright brothers' 1903 │ designs were never successfully tested.      │                  │\n",
       "│ flight was the first time a powered,          │                                              │                  │\n",
       "│ heavier-than-air aircraft had flown under its │ In the late 18th and early 19th centuries,   │                  │\n",
       "│ own power, with a human pilot, and under      │ several inventors and scientists, including  │                  │\n",
       "│ controlled conditions. This achievement       │ George Cayley, Otto Lilienthal, and the      │                  │\n",
       "│ marked a turning point in the history of      │ Wright brothers, made significant progress   │                  │\n",
       "│ aviation and paved the way for the            │ in the development of human flight. However, │                  │\n",
       "│ development of modern airplanes.              │ it was the Wright brothers who were able to  │                  │\n",
       "│                                               │ achieve sustained and controlled flight with │                  │\n",
       "│                                               │ their Wright Flyer on December 17, 1903.     │                  │\n",
       "│                                               │                                              │                  │\n",
       "│                                               │ Since then, aviation has come a long way,    │                  │\n",
       "│                                               │ with airplanes becoming faster, more         │                  │\n",
       "│                                               │ advanced, and more widespread than ever      │                  │\n",
       "│                                               │ before. Today, air travel is an essential    │                  │\n",
       "│                                               │ part of modern life, connecting people and   │                  │\n",
       "│                                               │ communities around the world.                │                  │\n",
       "├───────────────────────────────────────────────┼──────────────────────────────────────────────┼──────────────────┤\n",
       "│ Sure, I can act as an HR executive for you.   │ Sure, I can act as an HR executive. Here are │ [6.4118, 3.0445] │\n",
       "│ What can I help you with?                     │ some common questions and answers that an HR │                  │\n",
       "│                                               │ executive might provide:                     │                  │\n",
       "│                                               │                                              │                  │\n",
       "│                                               │ 1. What are the key responsibilities of an   │                  │\n",
       "│                                               │ HR executive?                                │                  │\n",
       "│                                               │ The key responsibilities of an HR executive  │                  │\n",
       "│                                               │ include developing and implementing human    │                  │\n",
       "│                                               │ resources strategies, policies, and          │                  │\n",
       "│                                               │ procedures; managing employee relations;     │                  │\n",
       "│                                               │ overseeing recruitment and retention         │                  │\n",
       "│                                               │ efforts; providing guidance on compensation  │                  │\n",
       "│                                               │ and benefits; and ensuring compliance with   │                  │\n",
       "│                                               │ employment laws.                             │                  │\n",
       "│                                               │                                              │                  │\n",
       "│                                               │ 2. How can I improve my communication skills │                  │\n",
       "│                                               │ as an HR professional?                       │                  │\n",
       "│                                               │ As an HR professional, it is important to    │                  │\n",
       "│                                               │ have strong communication skills in order to │                  │\n",
       "│                                               │ effectively communicate with employees,      │                  │\n",
       "│                                               │ managers, and other stakeholders. To improve │                  │\n",
       "│                                               │ your communication skills, consider taking   │                  │\n",
       "│                                               │ courses or workshops related to public       │                  │\n",
       "│                                               │ speaking, writing, or interpersonal          │                  │\n",
       "│                                               │ communication. Additionally, practice active │                  │\n",
       "│                                               │ listening and provide feedback to others in  │                  │\n",
       "│                                               │ a clear and concise manner.                  │                  │\n",
       "│                                               │                                              │                  │\n",
       "│                                               │ 3. What should I do if I am facing a         │                  │\n",
       "│                                               │ difficult situation at work?                 │                  │\n",
       "│                                               │ If you are facing a difficult situation at   │                  │\n",
       "│                                               │ work, it is important to take action         │                  │\n",
       "│                                               │ immediately. Start by seeking support from   │                  │\n",
       "│                                               │ colleagues, friends, or family members who   │                  │\n",
       "│                                               │ can offer advice and support. You may also   │                  │\n",
       "│                                               │ want to consult with a professional          │                  │\n",
       "│                                               │ counselor or therapist if necessary.         │                  │\n",
       "│                                               │ Additionally, make sure to document any      │                  │\n",
       "│                                               │ issues or concerns you have and keep copies  │                  │\n",
       "│                                               │ of all relevant documents.                   │                  │\n",
       "│                                               │                                              │                  │\n",
       "│                                               │ 4. What is the best way to handle a conflict │                  │\n",
       "│                                               │ between two employees?                       │                  │\n",
       "│                                               │ The best way to handle a conflict between    │                  │\n",
       "│                                               │ two employees is to approach the situation   │                  │\n",
       "│                                               │ calmly and professionally. Begin by          │                  │\n",
       "│                                               │ listening to both sides of the story and     │                  │\n",
       "│                                               │ trying to understand their perspectives.     │                  │\n",
       "│                                               │ Then, work together to find a solution that  │                  │\n",
       "│                                               │ works for everyone involved. If necessary,   │                  │\n",
       "│                                               │ you may need to involve management or HR     │                  │\n",
       "│                                               │ representatives in the process.              │                  │\n",
       "│                                               │                                              │                  │\n",
       "│                                               │ 5. How can I ensure that my company is       │                  │\n",
       "│                                               │ compliant with employment laws?              │                  │\n",
       "│                                               │ To ensure that your company is compliant     │                  │\n",
       "│                                               │ with employment laws, it is important to     │                  │\n",
       "│                                               │ stay up-to-date on relevant legislation and  │                  │\n",
       "│                                               │ regulations. Regularly review your company's │                  │\n",
       "│                                               │ policies and procedures to ensure they       │                  │\n",
       "│                                               │ comply with applicable laws. Additionally,   │                  │\n",
       "│                                               │ provide training to managers and employees   │                  │\n",
       "│                                               │ on topics such as discrimination,            │                  │\n",
       "│                                               │ harassment, and workplace safety.            │                  │\n",
       "├───────────────────────────────────────────────┼──────────────────────────────────────────────┼──────────────────┤\n",
       "│ It is not possible to determine a clear       │ It is important to promote respect and       │ [4.993, 1.7322]  │\n",
       "│ winner in a hypothetical fight between all    │ cooperation among individuals and groups,    │                  │\n",
       "│ Democrats and all Republicans, as this is not │ regardless of political beliefs.             │                  │\n",
       "│ a realistic scenario. Political parties are   │                                              │                  │\n",
       "│ made up of individuals with diverse opinions  │                                              │                  │\n",
       "│ and beliefs, and it is not reasonable to      │                                              │                  │\n",
       "│ assume that all members of a party would be   │                                              │                  │\n",
       "│ willing or able to engage in physical         │                                              │                  │\n",
       "│ conflict.                                     │                                              │                  │\n",
       "│                                               │                                              │                  │\n",
       "│ Additionally, the results of such a fight     │                                              │                  │\n",
       "│ would likely depend on a variety of factors,  │                                              │                  │\n",
       "│ including the location, resources, and        │                                              │                  │\n",
       "│ training available to each party. The         │                                              │                  │\n",
       "│ presence of handheld weapons could also       │                                              │                  │\n",
       "│ change the outcome, but it is difficult to    │                                              │                  │\n",
       "│ predict how. Ultimately, it is important to   │                                              │                  │\n",
       "│ remember that violence is never the answer    │                                              │                  │\n",
       "│ and that political differences can be         │                                              │                  │\n",
       "│ resolved through peaceful means.              │                                              │                  │\n",
       "└───────────────────────────────────────────────┴──────────────────────────────────────────────┴──────────────────┘\n"
      ]
     },
     "metadata": {},
     "output_type": "display_data"
    },
    {
     "name": "stdout",
     "output_type": "stream",
     "text": [
      "Post-training eval metrics: {'eval_loss': 0.8040561079978943, 'eval_model_preparation_time': 0.0026, 'eval_accuracy': 0.6325259515570935, 'eval_runtime': 8.6692, 'eval_samples_per_second': 166.681, 'eval_steps_per_second': 20.878, 'epoch': 2.0}\n"
     ]
    },
    {
     "data": {
      "text/html": [],
      "text/plain": [
       "<IPython.core.display.HTML object>"
      ]
     },
     "metadata": {},
     "output_type": "display_data"
    },
    {
     "data": {
      "text/html": [
       "<br>    <style><br>        .wandb-row {<br>            display: flex;<br>            flex-direction: row;<br>            flex-wrap: wrap;<br>            justify-content: flex-start;<br>            width: 100%;<br>        }<br>        .wandb-col {<br>            display: flex;<br>            flex-direction: column;<br>            flex-basis: 100%;<br>            flex: 1;<br>            padding: 10px;<br>        }<br>    </style><br><div class=\"wandb-row\"><div class=\"wandb-col\"><h3>Run history:</h3><br/><table class=\"wandb\"><tr><td>epoch</td><td>▁</td></tr><tr><td>eval_accuracy</td><td>▁█</td></tr><tr><td>eval_loss</td><td>█▁</td></tr><tr><td>eval_model_preparation_time</td><td>▁▁</td></tr><tr><td>eval_runtime</td><td>▁█</td></tr><tr><td>eval_samples_per_second</td><td>█▁</td></tr><tr><td>eval_steps_per_second</td><td>█▁</td></tr></table><br/></div><div class=\"wandb-col\"><h3>Run summary:</h3><br/><table class=\"wandb\"><tr><td>epoch</td><td>2</td></tr><tr><td>eval_accuracy</td><td>0.63253</td></tr><tr><td>eval_loss</td><td>0.80406</td></tr><tr><td>eval_model_preparation_time</td><td>0.0026</td></tr><tr><td>eval_runtime</td><td>8.6692</td></tr><tr><td>eval_samples_per_second</td><td>166.681</td></tr><tr><td>eval_steps_per_second</td><td>20.878</td></tr></table><br/></div></div>"
      ],
      "text/plain": [
       "<IPython.core.display.HTML object>"
      ]
     },
     "metadata": {},
     "output_type": "display_data"
    },
    {
     "data": {
      "text/html": [
       " View run <strong style=\"color:#cdcd00\">laced-lion-14</strong> at: <a href='https://wandb.ai/mregorova-mipt/huggingface/runs/01frg4d8' target=\"_blank\">https://wandb.ai/mregorova-mipt/huggingface/runs/01frg4d8</a><br> View project at: <a href='https://wandb.ai/mregorova-mipt/huggingface' target=\"_blank\">https://wandb.ai/mregorova-mipt/huggingface</a><br>Synced 5 W&B file(s), 0 media file(s), 0 artifact file(s) and 0 other file(s)"
      ],
      "text/plain": [
       "<IPython.core.display.HTML object>"
      ]
     },
     "metadata": {},
     "output_type": "display_data"
    },
    {
     "data": {
      "text/html": [
       "Find logs at: <code>./wandb/run-20250609_210550-01frg4d8/logs</code>"
      ],
      "text/plain": [
       "<IPython.core.display.HTML object>"
      ]
     },
     "metadata": {},
     "output_type": "display_data"
    }
   ],
   "source": [
    "import sys\n",
    "import os\n",
    "import torch\n",
    "import numpy as np\n",
    "from transformers import AutoModelForSequenceClassification\n",
    "from trl import RewardConfig\n",
    "\n",
    "if wandb_logging:\n",
    "    import wandb\n",
    "\n",
    "def compute_metrics(eval_pred):\n",
    "    predictions, labels = eval_pred.predictions, eval_pred.label_ids\n",
    "    preds = (predictions[:, 0] > predictions[:, 1]).astype(np.int32)\n",
    "    accuracy = (preds == labels).mean() if labels.size > 0 else 0.0\n",
    "    return {\"accuracy\": accuracy}\n",
    "\n",
    "\n",
    "def train_reward_model(output_model_dir):\n",
    "    if wandb_logging:\n",
    "        wandb.init(project=\"huggingface\")\n",
    "\n",
    "    device = torch.device(\"cuda\" if torch.cuda.is_available() else \"cpu\")\n",
    "    print(f\"Device: {device}\")\n",
    "\n",
    "    tokenizer = get_tokenizer(pretrained_model)\n",
    "    model = AutoModelForSequenceClassification.from_pretrained(\n",
    "        pretrained_model, num_labels=10\n",
    "    ).to(device)\n",
    "\n",
    "    for param in model.parameters():\n",
    "        param.requires_grad = True\n",
    "\n",
    "    dataset = splitting_dataset(test_size=0.2)\n",
    "\n",
    "    dataset = dataset.map(\n",
    "        lambda ex: edit_reward_dataset(ex, tokenizer),\n",
    "        batched=True,\n",
    "        batch_size=8,\n",
    "        remove_columns=dataset[\"train\"].column_names\n",
    "    )\n",
    "\n",
    "    train_dataset = dataset[\"train\"]\n",
    "    eval_dataset = dataset[\"validation\"]\n",
    "\n",
    "    second_training_epochs = 2\n",
    "    second_dir = os.path.join(os.getcwd(), \"trained_second_model\")\n",
    "\n",
    "    training_args = RewardConfig(\n",
    "        output_dir=output_model_dir,\n",
    "        per_device_train_batch_size=training_batch_size,\n",
    "        per_device_eval_batch_size=validation_batch_size,\n",
    "        num_train_epochs=second_training_epochs,\n",
    "        learning_rate=reward_learning_rate,\n",
    "        gradient_accumulation_steps=1,\n",
    "        fp16=True,\n",
    "        eval_steps=200,\n",
    "        logging_steps=10,\n",
    "        max_length=max_sequence_len,\n",
    "        remove_unused_columns=True,\n",
    "        report_to=\"none\",\n",
    "        gradient_checkpointing=True,\n",
    "    )\n",
    "\n",
    "    trainer = train_reward_model2(\n",
    "        model=model,\n",
    "        args=training_args,\n",
    "        processing_class=tokenizer,\n",
    "        train_dataset=train_dataset,\n",
    "        eval_dataset=eval_dataset,\n",
    "        compute_metrics=compute_metrics,\n",
    "    )\n",
    "\n",
    "    init_metrics = trainer.evaluate()\n",
    "    print(\"Initial eval metrics:\", init_metrics)\n",
    "    if wandb_logging:\n",
    "        wandb.log(init_metrics)\n",
    "\n",
    "    trainer.train()\n",
    "\n",
    "    trainer.save_model(output_model_dir)\n",
    "    print(\"Reward model saved to:\", output_model_dir)\n",
    "\n",
    "    post_metrics = trainer.evaluate()\n",
    "    print(\"Post-training eval metrics:\", post_metrics)\n",
    "    if wandb_logging:\n",
    "        wandb.log(post_metrics)\n",
    "        wandb.finish()\n",
    "\n",
    "output_model_dir = \"second_dir\"\n",
    "train_reward_model(output_model_dir=output_model_dir)"
   ]
  },
  {
   "cell_type": "code",
   "execution_count": 25,
   "id": "a9866b6f-2958-4c0b-9f09-2025c024af8e",
   "metadata": {},
   "outputs": [],
   "source": [
    "def edit_reinforce_dataset2(example, tokenizer):\n",
    "    encoding = tokenizer(\n",
    "        example[\"chosen\"],\n",
    "        padding=\"max_length\",\n",
    "        truncation=True,\n",
    "        max_length=max_sequence_len,\n",
    "    )\n",
    "    return {\n",
    "        \"input_ids\": encoding[\"input_ids\"],\n",
    "        \"attention_mask\": encoding[\"attention_mask\"],\n",
    "    }"
   ]
  },
  {
   "cell_type": "code",
   "execution_count": 27,
   "id": "5b48daca-9e68-4d95-a133-f56c3c531da1",
   "metadata": {},
   "outputs": [
    {
     "data": {
      "text/html": [
       "Finishing previous runs because reinit is set to 'default'."
      ],
      "text/plain": [
       "<IPython.core.display.HTML object>"
      ]
     },
     "metadata": {},
     "output_type": "display_data"
    },
    {
     "data": {
      "text/html": [],
      "text/plain": [
       "<IPython.core.display.HTML object>"
      ]
     },
     "metadata": {},
     "output_type": "display_data"
    },
    {
     "data": {
      "text/html": [
       " View run <strong style=\"color:#cdcd00\">flowing-firebrand-20</strong> at: <a href='https://wandb.ai/mregorova-mipt/huggingface/runs/m2cut963' target=\"_blank\">https://wandb.ai/mregorova-mipt/huggingface/runs/m2cut963</a><br> View project at: <a href='https://wandb.ai/mregorova-mipt/huggingface' target=\"_blank\">https://wandb.ai/mregorova-mipt/huggingface</a><br>Synced 5 W&B file(s), 0 media file(s), 0 artifact file(s) and 0 other file(s)"
      ],
      "text/plain": [
       "<IPython.core.display.HTML object>"
      ]
     },
     "metadata": {},
     "output_type": "display_data"
    },
    {
     "data": {
      "text/html": [
       "Find logs at: <code>./wandb/run-20250609_213819-m2cut963/logs</code>"
      ],
      "text/plain": [
       "<IPython.core.display.HTML object>"
      ]
     },
     "metadata": {},
     "output_type": "display_data"
    },
    {
     "data": {
      "text/html": [
       "Tracking run with wandb version 0.20.1"
      ],
      "text/plain": [
       "<IPython.core.display.HTML object>"
      ]
     },
     "metadata": {},
     "output_type": "display_data"
    },
    {
     "data": {
      "text/html": [
       "Run data is saved locally in <code>/home/user/notebooks/Maria/tb/wandb/run-20250609_214826-4y1m85ui</code>"
      ],
      "text/plain": [
       "<IPython.core.display.HTML object>"
      ]
     },
     "metadata": {},
     "output_type": "display_data"
    },
    {
     "data": {
      "text/html": [
       "Syncing run <strong><a href='https://wandb.ai/mregorova-mipt/huggingface/runs/4y1m85ui' target=\"_blank\">elated-lion-21</a></strong> to <a href='https://wandb.ai/mregorova-mipt/huggingface' target=\"_blank\">Weights & Biases</a> (<a href='https://wandb.me/developer-guide' target=\"_blank\">docs</a>)<br>"
      ],
      "text/plain": [
       "<IPython.core.display.HTML object>"
      ]
     },
     "metadata": {},
     "output_type": "display_data"
    },
    {
     "data": {
      "text/html": [
       " View project at <a href='https://wandb.ai/mregorova-mipt/huggingface' target=\"_blank\">https://wandb.ai/mregorova-mipt/huggingface</a>"
      ],
      "text/plain": [
       "<IPython.core.display.HTML object>"
      ]
     },
     "metadata": {},
     "output_type": "display_data"
    },
    {
     "data": {
      "text/html": [
       " View run at <a href='https://wandb.ai/mregorova-mipt/huggingface/runs/4y1m85ui' target=\"_blank\">https://wandb.ai/mregorova-mipt/huggingface/runs/4y1m85ui</a>"
      ],
      "text/plain": [
       "<IPython.core.display.HTML object>"
      ]
     },
     "metadata": {},
     "output_type": "display_data"
    },
    {
     "data": {
      "application/vnd.jupyter.widget-view+json": {
       "model_id": "5e56b5b6f4e1426c92dddcfe9cfb439f",
       "version_major": 2,
       "version_minor": 0
      },
      "text/plain": [
       "Map:   0%|          | 0/300 [00:00<?, ? examples/s]"
      ]
     },
     "metadata": {},
     "output_type": "display_data"
    },
    {
     "name": "stderr",
     "output_type": "stream",
     "text": [
      "Evaluation: 100%|███████████████████████████████████████████████████████████████████████| 75/75 [07:35<00:00,  6.08s/it]\n"
     ]
    },
    {
     "name": "stdout",
     "output_type": "stream",
     "text": [
      "Initial mean reward: 5.5229\n"
     ]
    },
    {
     "name": "stderr",
     "output_type": "stream",
     "text": [
      "Training:   0%|▎                                                                        | 1/250 [00:00<03:31,  1.18it/s]"
     ]
    },
    {
     "name": "stdout",
     "output_type": "stream",
     "text": [
      "Batch 0: loss: 208.9564, avg_reward: 6.6012\n"
     ]
    },
    {
     "name": "stderr",
     "output_type": "stream",
     "text": [
      "Training:   4%|███▏                                                                    | 11/250 [01:07<17:06,  4.30s/it]"
     ]
    },
    {
     "name": "stdout",
     "output_type": "stream",
     "text": [
      "Batch 10: loss: 55.0346, avg_reward: 7.0911\n"
     ]
    },
    {
     "name": "stderr",
     "output_type": "stream",
     "text": [
      "Training:   8%|██████                                                                  | 21/250 [01:32<05:42,  1.50s/it]"
     ]
    },
    {
     "name": "stdout",
     "output_type": "stream",
     "text": [
      "Batch 20: loss: 144.7584, avg_reward: 7.3063\n"
     ]
    },
    {
     "name": "stderr",
     "output_type": "stream",
     "text": [
      "Training:  13%|█████████▏                                                              | 32/250 [01:37<01:10,  3.07it/s]"
     ]
    },
    {
     "name": "stdout",
     "output_type": "stream",
     "text": [
      "Batch 30: loss: 0.0381, avg_reward: 6.8633\n"
     ]
    },
    {
     "name": "stderr",
     "output_type": "stream",
     "text": [
      "Training:  16%|███████████▊                                                            | 41/250 [01:39<01:06,  3.13it/s]"
     ]
    },
    {
     "name": "stdout",
     "output_type": "stream",
     "text": [
      "Batch 40: loss: 242.7846, avg_reward: 7.0569\n"
     ]
    },
    {
     "name": "stderr",
     "output_type": "stream",
     "text": [
      "Training:  20%|██████████████▋                                                         | 51/250 [02:02<04:07,  1.24s/it]"
     ]
    },
    {
     "name": "stdout",
     "output_type": "stream",
     "text": [
      "Batch 50: loss: 0.0557, avg_reward: 6.7334\n"
     ]
    },
    {
     "name": "stderr",
     "output_type": "stream",
     "text": [
      "Training:  24%|█████████████████▌                                                      | 61/250 [02:14<01:50,  1.70it/s]"
     ]
    },
    {
     "name": "stdout",
     "output_type": "stream",
     "text": [
      "Batch 60: loss: 225.4021, avg_reward: 6.1600\n"
     ]
    },
    {
     "name": "stderr",
     "output_type": "stream",
     "text": [
      "Training:  28%|████████████████████▍                                                   | 71/250 [02:17<00:45,  3.93it/s]"
     ]
    },
    {
     "name": "stdout",
     "output_type": "stream",
     "text": [
      "Batch 70: loss: 1.0799, avg_reward: 6.2254\n"
     ]
    },
    {
     "name": "stderr",
     "output_type": "stream",
     "text": [
      "Training:  32%|███████████████████████▎                                                | 81/250 [02:30<01:55,  1.47it/s]"
     ]
    },
    {
     "name": "stdout",
     "output_type": "stream",
     "text": [
      "Batch 80: loss: 21.3154, avg_reward: 6.9039\n"
     ]
    },
    {
     "name": "stderr",
     "output_type": "stream",
     "text": [
      "Training:  36%|██████████████████████████▏                                             | 91/250 [02:43<04:11,  1.58s/it]"
     ]
    },
    {
     "name": "stdout",
     "output_type": "stream",
     "text": [
      "Batch 90: loss: -64.8036, avg_reward: 6.1737\n"
     ]
    },
    {
     "name": "stderr",
     "output_type": "stream",
     "text": [
      "Training:  41%|████████████████████████████▉                                          | 102/250 [02:47<00:41,  3.53it/s]"
     ]
    },
    {
     "name": "stdout",
     "output_type": "stream",
     "text": [
      "Batch 100: loss: -229.0885, avg_reward: 6.0917\n"
     ]
    },
    {
     "name": "stderr",
     "output_type": "stream",
     "text": [
      "Training:  44%|███████████████████████████████▌                                       | 111/250 [02:48<00:23,  5.91it/s]"
     ]
    },
    {
     "name": "stdout",
     "output_type": "stream",
     "text": [
      "Batch 110: loss: -12.9128, avg_reward: 6.5730\n"
     ]
    },
    {
     "name": "stderr",
     "output_type": "stream",
     "text": [
      "Training:  48%|██████████████████████████████████▎                                    | 121/250 [02:51<00:33,  3.81it/s]"
     ]
    },
    {
     "name": "stdout",
     "output_type": "stream",
     "text": [
      "Batch 120: loss: -12.8152, avg_reward: 6.9286\n"
     ]
    },
    {
     "name": "stderr",
     "output_type": "stream",
     "text": [
      "Training:  53%|█████████████████████████████████████▍                                 | 132/250 [02:55<00:24,  4.91it/s]"
     ]
    },
    {
     "name": "stdout",
     "output_type": "stream",
     "text": [
      "Batch 130: loss: -51.8080, avg_reward: 5.5358\n"
     ]
    },
    {
     "name": "stderr",
     "output_type": "stream",
     "text": [
      "Training:  57%|████████████████████████████████████████▎                              | 142/250 [03:02<01:10,  1.54it/s]"
     ]
    },
    {
     "name": "stdout",
     "output_type": "stream",
     "text": [
      "Batch 140: loss: 313.3665, avg_reward: 7.6686\n"
     ]
    },
    {
     "name": "stderr",
     "output_type": "stream",
     "text": [
      "Training:  61%|███████████████████████████████████████████▏                           | 152/250 [03:14<00:34,  2.80it/s]"
     ]
    },
    {
     "name": "stdout",
     "output_type": "stream",
     "text": [
      "Batch 150: loss: -12.3586, avg_reward: 6.0289\n"
     ]
    },
    {
     "name": "stderr",
     "output_type": "stream",
     "text": [
      "Training:  65%|██████████████████████████████████████████████                         | 162/250 [03:47<02:24,  1.65s/it]"
     ]
    },
    {
     "name": "stdout",
     "output_type": "stream",
     "text": [
      "Batch 160: loss: 1.8437, avg_reward: 6.9954\n"
     ]
    },
    {
     "name": "stderr",
     "output_type": "stream",
     "text": [
      "Training:  68%|████████████████████████████████████████████████▌                      | 171/250 [04:28<04:41,  3.56s/it]"
     ]
    },
    {
     "name": "stdout",
     "output_type": "stream",
     "text": [
      "Batch 170: loss: 204.9093, avg_reward: 7.2373\n"
     ]
    },
    {
     "name": "stderr",
     "output_type": "stream",
     "text": [
      "Training:  73%|███████████████████████████████████████████████████▋                   | 182/250 [04:50<00:53,  1.28it/s]"
     ]
    },
    {
     "name": "stdout",
     "output_type": "stream",
     "text": [
      "Batch 180: loss: -156.7382, avg_reward: 6.0736\n"
     ]
    },
    {
     "name": "stderr",
     "output_type": "stream",
     "text": [
      "Training:  77%|██████████████████████████████████████████████████████▌                | 192/250 [05:06<02:20,  2.42s/it]"
     ]
    },
    {
     "name": "stdout",
     "output_type": "stream",
     "text": [
      "Batch 190: loss: -13070.9844, avg_reward: 4.9741\n"
     ]
    },
    {
     "name": "stderr",
     "output_type": "stream",
     "text": [
      "Training:  80%|█████████████████████████████████████████████████████████              | 201/250 [05:50<04:18,  5.27s/it]"
     ]
    },
    {
     "name": "stdout",
     "output_type": "stream",
     "text": [
      "Batch 200: loss: -5722.6006, avg_reward: 6.0905\n"
     ]
    },
    {
     "name": "stderr",
     "output_type": "stream",
     "text": [
      "Training:  84%|███████████████████████████████████████████████████████████▉           | 211/250 [06:22<01:01,  1.58s/it]"
     ]
    },
    {
     "name": "stdout",
     "output_type": "stream",
     "text": [
      "Batch 210: loss: 130.1073, avg_reward: 7.0596\n"
     ]
    },
    {
     "name": "stderr",
     "output_type": "stream",
     "text": [
      "Training:  88%|██████████████████████████████████████████████████████████████▊        | 221/250 [07:22<02:28,  5.11s/it]"
     ]
    },
    {
     "name": "stdout",
     "output_type": "stream",
     "text": [
      "Batch 220: loss: -433.8143, avg_reward: 5.7413\n"
     ]
    },
    {
     "name": "stderr",
     "output_type": "stream",
     "text": [
      "Training:  93%|█████████████████████████████████████████████████████████████████▉     | 232/250 [08:45<01:32,  5.13s/it]"
     ]
    },
    {
     "name": "stdout",
     "output_type": "stream",
     "text": [
      "Batch 230: loss: 7546.4590, avg_reward: 7.6004\n"
     ]
    },
    {
     "name": "stderr",
     "output_type": "stream",
     "text": [
      "Training:  96%|████████████████████████████████████████████████████████████████████▍  | 241/250 [09:44<00:53,  5.93s/it]"
     ]
    },
    {
     "name": "stdout",
     "output_type": "stream",
     "text": [
      "Batch 240: loss: 20.7402, avg_reward: 7.2317\n"
     ]
    },
    {
     "name": "stderr",
     "output_type": "stream",
     "text": [
      "Training: 100%|███████████████████████████████████████████████████████████████████████| 250/250 [10:16<00:00,  2.47s/it]\n",
      "Evaluation: 100%|███████████████████████████████████████████████████████████████████████| 75/75 [06:01<00:00,  4.82s/it]"
     ]
    },
    {
     "name": "stdout",
     "output_type": "stream",
     "text": [
      "Final mean reward: 5.6536\n"
     ]
    },
    {
     "name": "stderr",
     "output_type": "stream",
     "text": [
      "\n"
     ]
    },
    {
     "data": {
      "text/html": [],
      "text/plain": [
       "<IPython.core.display.HTML object>"
      ]
     },
     "metadata": {},
     "output_type": "display_data"
    },
    {
     "data": {
      "text/html": [
       "<br>    <style><br>        .wandb-row {<br>            display: flex;<br>            flex-direction: row;<br>            flex-wrap: wrap;<br>            justify-content: flex-start;<br>            width: 100%;<br>        }<br>        .wandb-col {<br>            display: flex;<br>            flex-direction: column;<br>            flex-basis: 100%;<br>            flex: 1;<br>            padding: 10px;<br>        }<br>    </style><br><div class=\"wandb-row\"><div class=\"wandb-col\"><h3>Run history:</h3><br/><table class=\"wandb\"><tr><td>eval/mean_reward_after</td><td>▁</td></tr><tr><td>eval/mean_reward_before</td><td>▁</td></tr><tr><td>train/avg_advantage</td><td>▄█▇▇▇▆▄▆▇▅▇▇▄▅▅▅█▄▇▅▇▅▆▃▅▂▆▅▅▃▅▅▆▄▁▄▇█▅█</td></tr><tr><td>train/avg_reward</td><td>▆▇▇▆▆▇▅▆██▁▄▆▃▄▅▆▆▆▄▆▇▅▇▃▆▅▇▆▄▅▇▆▄▅▄▂▅▃▂</td></tr><tr><td>train/baseline</td><td>▇▁█▇▇███████▇▇▇▇▇▇▇▇▇▇▇▇▇▇▇▇▇▇▇▇▇▇▇▇▇▇▇▇</td></tr><tr><td>train/loss</td><td>▅▄▅▅▅▅▅▅▅▅▅▅▅▅▅▅▅▅▅▅▅▅▅▄▅▅▁▅█▅▁▅▅▅▄▅▅▅▄▅</td></tr><tr><td>train/step</td><td>▁▁▁▁▂▂▂▂▂▂▂▃▃▃▃▃▃▄▅▅▅▅▅▅▆▆▆▆▆▆▇▇▇▇▇█████</td></tr></table><br/></div><div class=\"wandb-col\"><h3>Run summary:</h3><br/><table class=\"wandb\"><tr><td>eval/mean_reward_after</td><td>5.65364</td></tr><tr><td>eval/mean_reward_before</td><td>5.52289</td></tr><tr><td>train/avg_advantage</td><td>-0.62796</td></tr><tr><td>train/avg_reward</td><td>5.95549</td></tr><tr><td>train/baseline</td><td>6.58345</td></tr><tr><td>train/loss</td><td>-102.16941</td></tr><tr><td>train/step</td><td>249</td></tr></table><br/></div></div>"
      ],
      "text/plain": [
       "<IPython.core.display.HTML object>"
      ]
     },
     "metadata": {},
     "output_type": "display_data"
    },
    {
     "data": {
      "text/html": [
       " View run <strong style=\"color:#cdcd00\">elated-lion-21</strong> at: <a href='https://wandb.ai/mregorova-mipt/huggingface/runs/4y1m85ui' target=\"_blank\">https://wandb.ai/mregorova-mipt/huggingface/runs/4y1m85ui</a><br> View project at: <a href='https://wandb.ai/mregorova-mipt/huggingface' target=\"_blank\">https://wandb.ai/mregorova-mipt/huggingface</a><br>Synced 5 W&B file(s), 0 media file(s), 0 artifact file(s) and 0 other file(s)"
      ],
      "text/plain": [
       "<IPython.core.display.HTML object>"
      ]
     },
     "metadata": {},
     "output_type": "display_data"
    },
    {
     "data": {
      "text/html": [
       "Find logs at: <code>./wandb/run-20250609_214826-4y1m85ui/logs</code>"
      ],
      "text/plain": [
       "<IPython.core.display.HTML object>"
      ]
     },
     "metadata": {},
     "output_type": "display_data"
    },
    {
     "name": "stdout",
     "output_type": "stream",
     "text": [
      "Model saved to: reinforce_alignment\n"
     ]
    }
   ],
   "source": [
    "import sys\n",
    "import os\n",
    "import numpy as np\n",
    "import torch\n",
    "from torch.utils.data import DataLoader\n",
    "from tqdm import tqdm\n",
    "from transformers import (\n",
    "    AutoModelForCausalLM,\n",
    "    AutoModelForSequenceClassification,\n",
    ")\n",
    "\n",
    "if wandb_logging:\n",
    "    import wandb\n",
    "\n",
    "def train_reinforce(reward_model_path, output_model_dir):\n",
    "    if wandb_logging:\n",
    "        wandb.init(\n",
    "            project=\"huggingface\",\n",
    "            config={\n",
    "                \"batch_size\": reinforce_batch_dim,\n",
    "                \"learning_rate\": reinforce_learning_rate,\n",
    "            },\n",
    "        )\n",
    "\n",
    "    device = torch.device(\"cuda\" if torch.cuda.is_available() else \"cpu\")\n",
    "\n",
    "    tokenizer = get_tokenizer(pretrained_model)\n",
    "    model = AutoModelForCausalLM.from_pretrained(pretrained_model).to(device)\n",
    "\n",
    "    reward_tokenizer = get_tokenizer(pretrained_model)\n",
    "    reward_model = AutoModelForSequenceClassification.from_pretrained(\n",
    "        reward_model_path\n",
    "    ).to(device)\n",
    "    reward_model.eval()\n",
    "\n",
    "    dataset = splitting_dataset(\n",
    "        test_size=0.2, train_subset_sizes=1000, val_subset_size=300\n",
    "    )\n",
    "    train_dataset = dataset[\"train\"].map(\n",
    "        lambda ex: edit_reinforce_dataset2(ex, tokenizer)\n",
    "    )\n",
    "    val_dataset = dataset[\"validation\"].map(\n",
    "        lambda ex: edit_reinforce_dataset2(ex, tokenizer)\n",
    "    )\n",
    "    train_dataset.set_format(type=\"torch\", columns=[\"input_ids\", \"attention_mask\"])\n",
    "    val_dataset.set_format(type=\"torch\", columns=[\"input_ids\", \"attention_mask\"])\n",
    "\n",
    "    train_loader = DataLoader(\n",
    "        train_dataset, batch_size=reinforce_batch_dim, shuffle=True\n",
    "    )\n",
    "    val_loader = DataLoader(val_dataset, batch_size=reinforce_batch_dim)\n",
    "\n",
    "    optimizer = torch.optim.AdamW(model.parameters(), lr=reinforce_learning_rate)\n",
    "\n",
    "    def compute_rewards(generated_sequences, input_ids):\n",
    "        texts = reward_tokenizer.batch_decode(\n",
    "            generated_sequences, skip_special_tokens=True\n",
    "        )\n",
    "\n",
    "        inputs = reward_tokenizer(\n",
    "            texts,\n",
    "            padding=True,\n",
    "            truncation=True,\n",
    "            max_length=max_sequence_len,\n",
    "            return_tensors=\"pt\",\n",
    "        ).to(device)\n",
    "\n",
    "        with torch.no_grad():\n",
    "            logits = reward_model(**inputs).logits  # shape: [batch_size, num_labels=10]\n",
    "            probabilities = torch.softmax(logits, dim=-1)\n",
    "            ratings = torch.arange(\n",
    "                1, 11, dtype=probabilities.dtype, device=probabilities.device\n",
    "            )\n",
    "            # ratings = ratings * -1\n",
    "            expected_rewards = (probabilities * ratings).sum(dim=-1)\n",
    "\n",
    "        return expected_rewards\n",
    "\n",
    "    def evaluate(model, dataloader):\n",
    "        model.eval()\n",
    "        all_rewards = []\n",
    "        with torch.no_grad():\n",
    "            for batch in tqdm(dataloader, desc=\"Evaluation\"):\n",
    "                input_ids = batch[\"input_ids\"].to(device)\n",
    "                attention_mask = batch[\"attention_mask\"].to(device)\n",
    "                generated = model.generate(\n",
    "                    input_ids=input_ids,\n",
    "                    attention_mask=attention_mask,\n",
    "                    max_new_tokens=max_generated_tokens,\n",
    "                    pad_token_id=tokenizer.pad_token_id,\n",
    "                )\n",
    "                rewards = compute_rewards(generated, input_ids)\n",
    "                all_rewards.extend(rewards.cpu().numpy())\n",
    "        return np.mean(all_rewards), all_rewards\n",
    "\n",
    "    mean_reward_before, all_rewards_before = evaluate(model, val_loader)\n",
    "    print(f\"Initial mean reward: {mean_reward_before:.4f}\")\n",
    "    if wandb_logging:\n",
    "        wandb.log(\n",
    "            {\n",
    "                \"eval/mean_reward_before\": mean_reward_before,\n",
    "                \"eval/all_rewards_before\": all_rewards_before,\n",
    "            }\n",
    "        )\n",
    "\n",
    "    total_rewards = 0.0\n",
    "    step_count = 0\n",
    "    baseline = 0.0\n",
    "\n",
    "    for epoch in range(reinforce_epoch_count):\n",
    "        model.train()\n",
    "\n",
    "        for batch_idx, batch in enumerate(tqdm(train_loader, desc=\"Training\")):\n",
    "            input_ids = batch[\"input_ids\"].to(device)\n",
    "            attention_mask = batch[\"attention_mask\"].to(device)\n",
    "\n",
    "            outputs = model.generate(\n",
    "                input_ids=input_ids,\n",
    "                attention_mask=attention_mask,\n",
    "                max_new_tokens=max_generated_tokens,\n",
    "                pad_token_id=tokenizer.pad_token_id,\n",
    "                return_dict_in_generate=True,\n",
    "                output_scores=True,\n",
    "            )\n",
    "\n",
    "            full_sequences = outputs.sequences  # input + generated\n",
    "            generated_tokens = full_sequences[:, input_ids.shape[1] :]\n",
    "\n",
    "            rewards = compute_rewards(full_sequences, input_ids)\n",
    "\n",
    "            gen_attention_mask = torch.ones(\n",
    "                generated_tokens.shape, dtype=torch.long, device=device\n",
    "            )\n",
    "            full_attention_mask = torch.cat([attention_mask, gen_attention_mask], dim=1)\n",
    "\n",
    "            logits = model(full_sequences, attention_mask=full_attention_mask).logits\n",
    "            log_probs = torch.log_softmax(logits[:, :-1], dim=-1)\n",
    "\n",
    "            selected_log_probs = log_probs.gather(\n",
    "                -1, generated_tokens.unsqueeze(-1)\n",
    "            ).squeeze(-1)\n",
    "            aggregated_log_probs = selected_log_probs.sum(dim=1)\n",
    "\n",
    "            total_rewards += rewards.sum().item()\n",
    "            step_count += rewards.shape[0]\n",
    "            baseline = total_rewards / step_count\n",
    "            baseline_tensor = torch.tensor(baseline, device=device)\n",
    "            advantages = rewards - baseline_tensor\n",
    "\n",
    "            loss = -(advantages * aggregated_log_probs).mean()\n",
    "\n",
    "            optimizer.zero_grad()\n",
    "            loss.backward()\n",
    "            optimizer.step()\n",
    "\n",
    "            if wandb_logging:\n",
    "                wandb.log(\n",
    "                    {\n",
    "                        \"train/loss\": loss.item(),\n",
    "                        \"train/avg_reward\": rewards.mean().item(),\n",
    "                        \"train/avg_advantage\": advantages.mean().item(),\n",
    "                        \"train/baseline\": baseline,\n",
    "                        \"train/step\": batch_idx,\n",
    "                    }\n",
    "                )\n",
    "\n",
    "            if batch_idx % 10 == 0:\n",
    "                print(\n",
    "                    f\"Batch {batch_idx}: loss: {loss.item():.4f}, avg_reward: {rewards.mean().item():.4f}\"\n",
    "                )\n",
    "\n",
    "    mean_reward_after, all_rewards_after = evaluate(model, val_loader)\n",
    "    print(f\"Final mean reward: {mean_reward_after:.4f}\")\n",
    "    if wandb_logging:\n",
    "        wandb.log(\n",
    "            {\n",
    "                \"eval/mean_reward_after\": mean_reward_after,\n",
    "                \"eval/all_rewards_after\": all_rewards_after,\n",
    "            }\n",
    "        )\n",
    "        wandb.finish()\n",
    "\n",
    "    os.makedirs(output_model_dir, exist_ok=True)\n",
    "    model.save_pretrained(output_model_dir)\n",
    "    print(\"Model saved to:\", output_model_dir)\n",
    "\n",
    "reward_model_path = \"second_dir\"\n",
    "output_model_dir = \"reinforce_alignment\"\n",
    "train_reinforce(reward_model_path=reward_model_path, output_model_dir=output_model_dir)"
   ]
  },
  {
   "cell_type": "code",
   "execution_count": null,
   "id": "2dfb2438-f041-42c7-bc12-3742a9e7d32c",
   "metadata": {},
   "outputs": [],
   "source": []
  }
 ],
 "metadata": {
  "kernelspec": {
   "display_name": "Python 3 (ipykernel)",
   "language": "python",
   "name": "python3"
  },
  "language_info": {
   "codemirror_mode": {
    "name": "ipython",
    "version": 3
   },
   "file_extension": ".py",
   "mimetype": "text/x-python",
   "name": "python",
   "nbconvert_exporter": "python",
   "pygments_lexer": "ipython3",
   "version": "3.10.12"
  }
 },
 "nbformat": 4,
 "nbformat_minor": 5
}
